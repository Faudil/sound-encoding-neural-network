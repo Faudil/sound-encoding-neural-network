{
 "cells": [
  {
   "cell_type": "code",
   "execution_count": 2,
   "metadata": {},
   "outputs": [],
   "source": [
    "# Import phase if every import is here it is to allow you to run this cell and know if you have any issue and not after a few hours of training\n",
    "\n",
    "import tensorflow\n",
    "from tensorflow import keras\n",
    "import os\n",
    "import numpy as np\n",
    "import librosa\n",
    "\n",
    "from sklearn.model_selection import train_test_split\n",
    "import matplotlib.pyplot as plt\n",
    "\n",
    "\n",
    "from keras_preprocessing.sequence import pad_sequences\n",
    "from tensorflow.keras.callbacks import Callback\n",
    "from tensorflow.keras.layers import Dense, Dropout, Conv1D, Activation, Flatten, MaxPooling1D, BatchNormalization, LSTM, GaussianNoise\n",
    "from tensorflow.keras.models import Sequential\n",
    "\n",
    "\n",
    "from src.VoiceModule import VoiceModule\n",
    "from src.classifiers.KerasClassifier import KerasClassifier\n",
    "from prepare_data_utils import load_wav, preprare_wav, split_sample\n"
   ]
  },
  {
   "cell_type": "code",
   "execution_count": 3,
   "metadata": {},
   "outputs": [
    {
     "name": "stdout",
     "output_type": "stream",
     "text": [
      "down\n",
      "tree\n",
      "_background_noise_\n",
      "go\n",
      "house\n",
      "validation_list.txt\n",
      "eight\n",
      "up\n",
      "bed\n",
      "two\n",
      "dog\n",
      "no\n",
      "bird\n",
      "five\n",
      "marvin\n",
      "seven\n",
      "four\n",
      "visual\n",
      "happy\n",
      "nine\n",
      "data_speech_commands_v0.02.tar.gz\n",
      "off\n",
      "yes\n",
      "forward\n",
      "follow\n",
      "README.md\n",
      "cat\n",
      "three\n",
      "on\n",
      "right\n",
      "backward\n",
      "testing_list.txt\n",
      "sheila\n",
      "wow\n",
      ".DS_Store\n",
      "stop\n",
      "one\n",
      "zero\n",
      "six\n",
      "learn\n",
      "LICENSE\n",
      "left\n"
     ]
    }
   ],
   "source": [
    "# print environment\n",
    "folder_path = \"../../data/keywords\"\n",
    "for l in os.listdir(folder_path):\n",
    "    print(l)"
   ]
  },
  {
   "cell_type": "code",
   "execution_count": 4,
   "metadata": {},
   "outputs": [],
   "source": [
    "# Transform data method\n",
    "\n",
    "def mfcc(buffer, samplerate, dim):\n",
    "    a = librosa.feature.mfcc(y=buffer, sr=samplerate, n_mfcc=dim)\n",
    "    a = np.transpose(a)\n",
    "    return a\n"
   ]
  },
  {
   "cell_type": "code",
   "execution_count": 5,
   "metadata": {},
   "outputs": [],
   "source": [
    "# Create callback to later draw some graphs\n",
    "\n",
    "class PerformanceLogger(Callback):\n",
    "    def __init__(self):\n",
    "        # List of tuple (loss, accuracy)\n",
    "        self.training = []\n",
    "        self.testing = []\n",
    "    def on_epoch_end(self, epoch, logs=None):\n",
    "        self.training.append((logs[\"loss\"], logs[\"acc\"]))\n",
    "        self.testing.append((logs[\"val_loss\"], logs[\"val_acc\"]))"
   ]
  },
  {
   "cell_type": "code",
   "execution_count": 57,
   "metadata": {},
   "outputs": [],
   "source": [
    "# Create class\n",
    "class EmotionClassifierCnn(KerasClassifier):\n",
    "    def __init__(self, file_path=None):\n",
    "        super().__init__(file_path)\n",
    "\n",
    "    def predict(self, x):\n",
    "        x = np.expand_dims(np.array([x]), axis=2)\n",
    "        return self._model.predict(x)\n",
    "\n",
    "    def build(self):\n",
    "        model = Sequential()\n",
    "        model.add(GaussianNoise(0.2))\n",
    "        model.add(BatchNormalization())\n",
    "        model.add(Conv1D(128, 3, input_shape=(50, 13), padding='same'))\n",
    "        model.add(Activation('relu'))\n",
    "        model.add(MaxPooling1D(pool_size=2))\n",
    "        model.add(Conv1D(64, 3, input_shape=(50, 13), padding='same'))\n",
    "        model.add(Activation('relu'))\n",
    "        model.add(MaxPooling1D(pool_size=2))\n",
    "        model.add(Conv1D(64, 3, input_shape=(50, 13), padding='same'))\n",
    "        model.add(Activation('relu'))\n",
    "        model.add(MaxPooling1D(pool_size=2))\n",
    "        model.add(Dropout(0.4))\n",
    "        model.add(Flatten())\n",
    "        model.add(BatchNormalization())\n",
    "        model.add(Dense(64))\n",
    "        model.add(Dense(10))\n",
    "        model.add(Activation('softmax'))\n",
    "        model.compile(loss='categorical_crossentropy', optimizer='adam', metrics=['accuracy'])\n",
    "        self._model = model\n",
    "        \n",
    "    def train(self, X, Y, batch_size=32, epoch=720, validation_data=None, callbacks=[]):\n",
    "        self._model.fit(X, Y, batch_size=batch_size, epochs=epoch, validation_data=validation_data, callbacks=callbacks)\n",
    "\n",
    "    def transform(self, x, samplerate):\n",
    "        to_process = mfcc(x, samplerate, 13)\n",
    "        to_process = pad_sequences([to_process], maxlen=50, padding='post')[0]\n",
    "        return to_process\n"
   ]
  },
  {
   "cell_type": "code",
   "execution_count": 58,
   "metadata": {},
   "outputs": [],
   "source": [
    "#Instanciate model\n",
    "digit_list = [\"zero\", \"one\", \"two\", \"three\", \"four\", \"five\", \"six\", \"seven\", \"eight\", \"nine\"]\n",
    "dimension_mfcc = 13\n",
    "samplerate = 16000\n",
    "nb_break=None\n",
    "sample_duration=1\n",
    "step=1\n",
    "\n",
    "logger = PerformanceLogger()\n",
    "\n",
    "cls = EmotionClassifierCnn()\n",
    "vm = VoiceModule(\"digit\", digit_list, cls)"
   ]
  },
  {
   "cell_type": "code",
   "execution_count": 19,
   "metadata": {},
   "outputs": [
    {
     "name": "stdout",
     "output_type": "stream",
     "text": [
      "Doing zero\n",
      "Doing one\n",
      "Doing two\n",
      "Doing three\n",
      "Doing four\n",
      "Doing five\n",
      "Doing six\n",
      "Doing seven\n",
      "Doing eight\n",
      "Doing nine\n",
      "Done (35628, 50, 13)\n",
      "[[-628    0    0    0    0    0    0    0    0    0    0    0    0]\n",
      " [-628    0    0    0    0    0    0    0    0    0    0    0    0]\n",
      " [-628    0    0    0    0    0    0    0    0    0    0    0    0]\n",
      " [-628    0    0    0    0    0    0    0    0    0    0    0    0]\n",
      " [-628    0    0    0    0    0    0    0    0    0    0    0    0]\n",
      " [-628    0    0    0    0    0    0    0    0    0    0    0    0]\n",
      " [-628    0    0    0    0    0    0    0    0    0    0    0    0]\n",
      " [-628    0    0    0    0    0    0    0    0    0    0    0    0]\n",
      " [-628    0    0    0    0    0    0    0    0    0    0    0    0]\n",
      " [-628    0    0    0    0    0    0    0    0    0    0    0    0]\n",
      " [-628    0    0    0    0    0    0    0    0    0    0    0    0]\n",
      " [-628    0    0    0    0    0    0    0    0    0    0    0    0]\n",
      " [-628    0    0    0    0    0    0    0    0    0    0    0    0]\n",
      " [-627    0    0    0    0    0    0    0    0    0    0    0    0]\n",
      " [-628    0    0    0    0    0    0    0    0    0    0    0    0]\n",
      " [-628    0    0    0    0    0    0    0    0    0    0    0    0]\n",
      " [-628    0    0    0    0    0    0    0    0    0    0    0    0]\n",
      " [-628    0    0    0    0    0    0    0    0    0    0    0    0]\n",
      " [-571   74   62   46   33   17    3   -6   -8   -9  -11  -13  -12]\n",
      " [-429   94   97   18   38   -2  -17  -13  -10   19  -12  -29  -33]\n",
      " [-324   58   84   14   32   -9  -14  -14   -5   21  -20  -26  -25]\n",
      " [-282   26   75   17   32  -10   -7  -10    5   17  -21   -9  -15]\n",
      " [-245   14   79   33   41    0    2    1    6   13  -19    6  -12]\n",
      " [-196   11   68   51   38    1   -4   10   -4    8  -18    7  -15]\n",
      " [-162   29   42   64   19  -14   -5   14  -18    9  -20    3  -15]\n",
      " [-155   66    0   75    8  -33   -9    7  -28    3  -23    0  -12]\n",
      " [-150  103  -48   73   26  -39  -14   -3  -25    2  -19   -2   -8]\n",
      " [-149  162  -70   45   33  -39  -17  -12  -38    8  -22   -4   -1]\n",
      " [-184  222  -81   21   37  -43    6  -31  -42    4  -22   -3    8]\n",
      " [-214  242  -68    1   31  -37   16  -31  -35   -5  -12   -7   19]\n",
      " [-228  242  -53    2   25  -34   20  -22  -30   -3  -13    1   23]\n",
      " [-242  235  -43    3   18  -31   23  -15  -22    1  -13   14   22]\n",
      " [   0    0    0    0    0    0    0    0    0    0    0    0    0]\n",
      " [   0    0    0    0    0    0    0    0    0    0    0    0    0]\n",
      " [   0    0    0    0    0    0    0    0    0    0    0    0    0]\n",
      " [   0    0    0    0    0    0    0    0    0    0    0    0    0]\n",
      " [   0    0    0    0    0    0    0    0    0    0    0    0    0]\n",
      " [   0    0    0    0    0    0    0    0    0    0    0    0    0]\n",
      " [   0    0    0    0    0    0    0    0    0    0    0    0    0]\n",
      " [   0    0    0    0    0    0    0    0    0    0    0    0    0]\n",
      " [   0    0    0    0    0    0    0    0    0    0    0    0    0]\n",
      " [   0    0    0    0    0    0    0    0    0    0    0    0    0]\n",
      " [   0    0    0    0    0    0    0    0    0    0    0    0    0]\n",
      " [   0    0    0    0    0    0    0    0    0    0    0    0    0]\n",
      " [   0    0    0    0    0    0    0    0    0    0    0    0    0]\n",
      " [   0    0    0    0    0    0    0    0    0    0    0    0    0]\n",
      " [   0    0    0    0    0    0    0    0    0    0    0    0    0]\n",
      " [   0    0    0    0    0    0    0    0    0    0    0    0    0]\n",
      " [   0    0    0    0    0    0    0    0    0    0    0    0    0]\n",
      " [   0    0    0    0    0    0    0    0    0    0    0    0    0]]\n"
     ]
    }
   ],
   "source": [
    "# Prepare data for training\n",
    "data = {f: load_wav(f\"{folder_path}/{f}\", nb_break) for f in digit_list}\n",
    "X, Y = preprare_wav(data, vm, sample_duration, step)\n",
    "print(\"Done\", X.shape)\n",
    "print(X[0])"
   ]
  },
  {
   "cell_type": "code",
   "execution_count": 22,
   "metadata": {},
   "outputs": [],
   "source": [
    "X_file = f\"x_{'_'.join(digit_list)}-{vm._name}.npy\"\n",
    "Y_file = f\"y_{'_'.join(digit_list)}.npy\""
   ]
  },
  {
   "cell_type": "code",
   "execution_count": 23,
   "metadata": {},
   "outputs": [],
   "source": [
    "# Saving the prepared input data \n",
    "np.save(f\"x_{'_'.join(digit_list)}-{vm._name}.npy\", X)\n",
    "np.save(f\"y_{'_'.join(digit_list)}.npy\", Y)\n"
   ]
  },
  {
   "cell_type": "code",
   "execution_count": 24,
   "metadata": {},
   "outputs": [],
   "source": [
    "# Load data for training\n",
    "X, Y = np.load(X_file), np.load(Y_file)\n"
   ]
  },
  {
   "cell_type": "code",
   "execution_count": 32,
   "metadata": {},
   "outputs": [
    {
     "name": "stdout",
     "output_type": "stream",
     "text": [
      "(35628, 50, 13)\n",
      "28502 7126\n",
      "(50, 13)\n",
      "float32\n"
     ]
    }
   ],
   "source": [
    "\"\"\"train_size = 80 * len(X) // 100\n",
    "test_size = 20 * len(X) // 100\n",
    "#X = np.expand_dims(X, axis=3)\n",
    "X_train, X_test, = X[:train_size], X[train_size:]\n",
    "Y_train, Y_test = Y[:train_size], Y[train_size:]\"\"\"\n",
    "X = X.astype('float32')\n",
    "print(X.shape)\n",
    "X_train, X_test, Y_train, Y_test = train_test_split(X, Y, test_size=0.2, random_state=42)\n",
    "print(len(X_train), len(X_test))\n",
    "\n",
    "print(X[0].shape)\n",
    "print( X.dtype)"
   ]
  },
  {
   "cell_type": "code",
   "execution_count": 91,
   "metadata": {},
   "outputs": [
    {
     "name": "stdout",
     "output_type": "stream",
     "text": [
      "Train on 28502 samples, validate on 7126 samples\n",
      "28502/28502 [==============================] - 3s 109us/sample - loss: 0.0306 - acc: 0.9899 - val_loss: 0.1226 - val_acc: 0.9684\n"
     ]
    }
   ],
   "source": [
    "vm.model.train(X_train, Y_train, batch_size=512, epoch=1, validation_data=(X_test, Y_test), callbacks=[logger])"
   ]
  },
  {
   "cell_type": "code",
   "execution_count": 62,
   "metadata": {},
   "outputs": [
    {
     "data": {
      "image/png": "[encoded data removed]",
      "text/plain": [
       "<matplotlib.figure.Figure at 0x7f2620339860>"
      ]
     },
     "metadata": {
      "needs_background": "light"
     },
     "output_type": "display_data"
    }
   ],
   "source": [
    "\n",
    "plt.plot(list(range(0, len(logger.training))), list(map(lambda x:x[1], logger.training)), label=\"training data\")\n",
    "plt.plot(list(range(0, len(logger.testing))), list(map(lambda x:x[1], logger.testing)), label=\"testing data\")\n",
    "plt.xlabel('epochs')\n",
    "plt.ylabel('accuracy')\n",
    "plt.show()"
   ]
  },
  {
   "cell_type": "code",
   "execution_count": 103,
   "metadata": {},
   "outputs": [
    {
     "name": "stdout",
     "output_type": "stream",
     "text": [
      "(1, 50, 13)\n",
      "[[1.5687340e-11 1.1426336e-12 9.9999917e-01 2.7433098e-09 1.3685464e-10\n",
      "  6.7208073e-14 8.1162534e-07 4.4720819e-10 4.4088999e-10 7.8159483e-16]]\n",
      "('two', 0.9999988359228915) ('two', 1.0)\n"
     ]
    }
   ],
   "source": [
    "# Feature extractor\n",
    "model = vm._model._model\n",
    "x = X_train[0]\n",
    "x = np.array([x])\n",
    "print(x.shape)\n",
    "a = vm._model._model.predict(x)\n",
    "print(a)\n",
    "print(vm.get_label_from_vector(a), vm.get_label_from_vector(Y_train[0]))\n"
   ]
  },
  {
   "cell_type": "code",
   "execution_count": 119,
   "metadata": {},
   "outputs": [
    {
     "name": "stdout",
     "output_type": "stream",
     "text": [
      "(1, 25, 64)\n",
      "[[-0.14185035 -0.17482398  0.06754325 ...  0.98260236 -2.601296\n",
      "  -0.37465987]\n",
      " [-0.7184626   0.8385421   0.19931224 ...  0.35096732 -2.0838735\n",
      "  -0.66924727]\n",
      " [-0.57942396  1.2871121  -0.55136746 ... -0.67350966 -1.1483185\n",
      "   0.3993897 ]\n",
      " ...\n",
      " [-0.45835727 -0.99142325 -0.337171   ... -0.05280752 -0.3975145\n",
      "  -0.16613738]\n",
      " [-0.476747   -0.95152557 -0.3963178  ...  0.0085771  -0.50116354\n",
      "  -0.20196696]\n",
      " [-0.2219297  -0.6506959  -0.4123219  ... -0.1837841  -0.29274908\n",
      "  -0.18811883]]\n"
     ]
    }
   ],
   "source": [
    "extractor = keras.Sequential(\n",
    "    model.layers[:6]\n",
    ")\n",
    "r = extractor.predict(x)\n",
    "print(r.shape)\n",
    "print(r[0])"
   ]
  }
 ],
 "metadata": {
  "kernelspec": {
   "display_name": "Python 3",
   "language": "python",
   "name": "python3"
  },
  "language_info": {
   "codemirror_mode": {
    "name": "ipython",
    "version": 3
   },
   "file_extension": ".py",
   "mimetype": "text/x-python",
   "name": "python",
   "nbconvert_exporter": "python",
   "pygments_lexer": "ipython3",
   "version": "3.6.9"
  }
 },
 "nbformat": 4,
 "nbformat_minor": 4
}
