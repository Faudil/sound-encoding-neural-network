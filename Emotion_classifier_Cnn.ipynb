{
 "cells": [
  {
   "cell_type": "code",
   "execution_count": 2,
   "metadata": {},
   "outputs": [],
   "source": [
    "# Import phase if every import is here it is to allow you to run this cell and know if you have any issue and not after a few hours of training\n",
    "\n",
    "import tensorflow\n",
    "from tensorflow import keras\n",
    "import os\n",
    "import numpy as np\n",
    "import librosa\n",
    "\n",
    "from sklearn.model_selection import train_test_split\n",
    "from sklearn.metrics import classification_report, confusion_matrix\n",
    "import matplotlib.pyplot as plt\n",
    "\n",
    "\n",
    "from keras_preprocessing.sequence import pad_sequences\n",
    "from tensorflow.keras.callbacks import Callback\n",
    "from tensorflow.keras.layers import Dense, Dropout, Conv1D, Activation, Flatten, MaxPooling1D, BatchNormalization, LSTM, GaussianNoise\n",
    "from tensorflow.keras.models import Sequential\n",
    "\n",
    "\n",
    "from src.VoiceModule import VoiceModule\n",
    "from src.classifiers.KerasClassifier import KerasClassifier\n",
    "from prepare_data_utils import load_wav, preprare_wav\n"
   ]
  },
  {
   "cell_type": "code",
   "execution_count": null,
   "metadata": {},
   "outputs": [],
   "source": []
  },
  {
   "cell_type": "code",
   "execution_count": 47,
   "metadata": {},
   "outputs": [
    {
     "name": "stdout",
     "output_type": "stream",
     "text": [
      "bdes.zip\n",
      "fearful\n",
      "savee\n",
      "calm\n",
      "happy\n",
      "surprised\n",
      "angry\n",
      "sad\n",
      "keywords\n"
     ]
    }
   ],
   "source": [
    "# print environment\n",
    "folder_path = \"../../data\"\n",
    "for l in os.listdir(folder_path):\n",
    "    print(l)"
   ]
  },
  {
   "cell_type": "code",
   "execution_count": 4,
   "metadata": {},
   "outputs": [],
   "source": [
    "# Transform data method\n",
    "\n",
    "def mfcc(buffer, samplerate, dim):\n",
    "    a = librosa.feature.mfcc(y=buffer, sr=samplerate, n_mfcc=dim)\n",
    "    a = np.transpose(a)\n",
    "    return a\n"
   ]
  },
  {
   "cell_type": "code",
   "execution_count": 5,
   "metadata": {},
   "outputs": [],
   "source": [
    "# Create callback to later draw some graphs\n",
    "\n",
    "class PerformanceLogger(Callback):\n",
    "    def __init__(self):\n",
    "        # List of tuple (loss, accuracy)\n",
    "        self.training = []\n",
    "        self.testing = []\n",
    "    def on_epoch_end(self, epoch, logs=None):\n",
    "        self.training.append((logs[\"loss\"], logs[\"acc\"]))\n",
    "        self.testing.append((logs[\"val_loss\"], logs[\"val_acc\"]))"
   ]
  },
  {
   "cell_type": "code",
   "execution_count": 6,
   "metadata": {},
   "outputs": [],
   "source": [
    "# This function prints metrics about a model\n",
    "def print_metrics(X, Y, label_name_list):\n",
    "    Y_pred = vm.model._model.predict(X)\n",
    "    Y_pred = np.argmax(Y_pred, axis=1)\n",
    "    Y_max = np.argmax(Y, axis=1)\n",
    "    print(confusion_matrix(Y_max, Y_pred))\n",
    "    print(classification_report(Y_max, Y_pred, target_names=label_name_list))\n"
   ]
  },
  {
   "cell_type": "code",
   "execution_count": 51,
   "metadata": {},
   "outputs": [],
   "source": [
    "# Create class\n",
    "class EmotionClassifierCnn(KerasClassifier):\n",
    "    def __init__(self, file_path=None):\n",
    "        super().__init__(file_path)\n",
    "\n",
    "    def predict(self, x):\n",
    "        x = np.expand_dims(np.array([x]), axis=2)\n",
    "        return self._model.predict(x)\n",
    "\n",
    "    def build(self):\n",
    "        model = Sequential()\n",
    "        model.add(GaussianNoise(0.4))\n",
    "        model.add(BatchNormalization())\n",
    "        model.add(Conv1D(64, 3, input_shape=(70, 13), padding='same'))\n",
    "        model.add(Activation('relu'))\n",
    "        model.add(MaxPooling1D(pool_size=2))\n",
    "        model.add(Flatten())\n",
    "        model.add(BatchNormalization())\n",
    "        model.add(Dropout(0.4))\n",
    "        model.add(GaussianNoise(0.4))\n",
    "        model.add(Dense(64))\n",
    "        model.add(Dense(6))\n",
    "        model.add(Activation('softmax'))\n",
    "        model.compile(loss='categorical_crossentropy', optimizer='adam', metrics=['accuracy'])\n",
    "        self._model = model\n",
    "        \n",
    "    def train(self, X, Y, batch_size=32, epoch=720, validation_data=None, callbacks=[]):\n",
    "        self._model.fit(X, Y, batch_size=batch_size, epochs=epoch, validation_data=validation_data, callbacks=callbacks)\n",
    "\n",
    "    def transform(self, x, samplerate):\n",
    "        to_process = mfcc(x, samplerate, 13)\n",
    "        to_process = pad_sequences([to_process], maxlen=70, padding='post')[0]\n",
    "        return to_process\n"
   ]
  },
  {
   "cell_type": "code",
   "execution_count": 52,
   "metadata": {},
   "outputs": [],
   "source": [
    "#Instanciate model\n",
    "emotion_list = [\"calm\", \"happy\", \"angry\", \"fearful\", \"surprised\", \"sad\"]\n",
    "dimension_mfcc = 13\n",
    "samplerate = 16000\n",
    "nb_break=None\n",
    "sample_duration=2\n",
    "step=2\n",
    "\n",
    "logger = PerformanceLogger()\n",
    "\n",
    "cls = EmotionClassifierCnn()\n",
    "vm = VoiceModule(\"emotion\", emotion_list, cls)"
   ]
  },
  {
   "cell_type": "code",
   "execution_count": 12,
   "metadata": {},
   "outputs": [
    {
     "name": "stdout",
     "output_type": "stream",
     "text": [
      "Doing calm\n",
      "Doing happy\n",
      "Doing angry\n",
      "Doing fearful\n",
      "Doing surprised\n",
      "Doing sad\n",
      "Done\n"
     ]
    }
   ],
   "source": [
    "# Prepare data for training\n",
    "data = {f: load_wav(f\"{folder_path}/{f}\", nb_break) for f in emotion_list}\n",
    "X, Y = preprare_wav(data, vm, sample_duration, step)\n",
    "print(\"Done\")"
   ]
  },
  {
   "cell_type": "code",
   "execution_count": 10,
   "metadata": {},
   "outputs": [],
   "source": [
    "X_file = f\"x_{'_'.join(emotion_list)}-{vm._name}.npy\"\n",
    "Y_file = f\"y_{'_'.join(emotion_list)}.npy\""
   ]
  },
  {
   "cell_type": "code",
   "execution_count": 11,
   "metadata": {},
   "outputs": [
    {
     "ename": "NameError",
     "evalue": "name 'X' is not defined",
     "output_type": "error",
     "traceback": [
      "\u001b[0;31m---------------------------------------------------------------------------\u001b[0m",
      "\u001b[0;31mNameError\u001b[0m                                 Traceback (most recent call last)",
      "\u001b[0;32m<ipython-input-11-59818a14a35c>\u001b[0m in \u001b[0;36m<module>\u001b[0;34m\u001b[0m\n\u001b[1;32m      1\u001b[0m \u001b[0;31m# Saving the prepared input data\u001b[0m\u001b[0;34m\u001b[0m\u001b[0;34m\u001b[0m\u001b[0;34m\u001b[0m\u001b[0m\n\u001b[0;32m----> 2\u001b[0;31m \u001b[0mnp\u001b[0m\u001b[0;34m.\u001b[0m\u001b[0msave\u001b[0m\u001b[0;34m(\u001b[0m\u001b[0mX_file\u001b[0m\u001b[0;34m,\u001b[0m \u001b[0mX\u001b[0m\u001b[0;34m)\u001b[0m\u001b[0;34m\u001b[0m\u001b[0;34m\u001b[0m\u001b[0m\n\u001b[0m\u001b[1;32m      3\u001b[0m \u001b[0mnp\u001b[0m\u001b[0;34m.\u001b[0m\u001b[0msave\u001b[0m\u001b[0;34m(\u001b[0m\u001b[0mY_file\u001b[0m\u001b[0;34m,\u001b[0m \u001b[0mY\u001b[0m\u001b[0;34m)\u001b[0m\u001b[0;34m\u001b[0m\u001b[0;34m\u001b[0m\u001b[0m\n",
      "\u001b[0;31mNameError\u001b[0m: name 'X' is not defined"
     ]
    }
   ],
   "source": [
    "# Saving the prepared input data \n",
    "np.save(X_file, X)\n",
    "np.save(Y_file, Y)\n"
   ]
  },
  {
   "cell_type": "code",
   "execution_count": 12,
   "metadata": {},
   "outputs": [],
   "source": [
    "# Load data for training\n",
    "X, Y = np.load(X_file), np.load(Y_file)"
   ]
  },
  {
   "cell_type": "code",
   "execution_count": 13,
   "metadata": {},
   "outputs": [
    {
     "name": "stdout",
     "output_type": "stream",
     "text": [
      "1063 266\n",
      "(70, 13)\n",
      "float32\n"
     ]
    }
   ],
   "source": [
    "\"\"\"train_size = 80 * len(X) // 100\n",
    "test_size = 20 * len(X) // 100\n",
    "#X = np.expand_dims(X, axis=3)\n",
    "X_train, X_test, = X[:train_size], X[train_size:]\n",
    "Y_train, Y_test = Y[:train_size], Y[train_size:]\"\"\"\n",
    "X = X.astype('float32')\n",
    "X_train, X_test, Y_train, Y_test = train_test_split(X, Y, test_size=0.2, random_state=42)\n",
    "print(len(X_train), len(X_test))\n",
    "\n",
    "print(X[0].shape)\n",
    "print( X.dtype)"
   ]
  },
  {
   "cell_type": "code",
   "execution_count": 53,
   "metadata": {},
   "outputs": [
    {
     "name": "stdout",
     "output_type": "stream",
     "text": [
      "Train on 1063 samples, validate on 266 samples\n",
      "Epoch 1/100\n",
      "1063/1063 [==============================] - 2s 2ms/sample - loss: 2.5488 - acc: 0.3641 - val_loss: 5.1706 - val_acc: 0.2744\n",
      "Epoch 2/100\n",
      "1063/1063 [==============================] - 0s 353us/sample - loss: 1.6078 - acc: 0.5353 - val_loss: 4.8114 - val_acc: 0.2481\n",
      "Epoch 3/100\n",
      "1063/1063 [==============================] - 0s 359us/sample - loss: 1.2547 - acc: 0.6115 - val_loss: 3.3055 - val_acc: 0.3346\n",
      "Epoch 4/100\n",
      "1063/1063 [==============================] - 0s 351us/sample - loss: 1.1054 - acc: 0.6312 - val_loss: 3.0298 - val_acc: 0.3195\n",
      "Epoch 5/100\n",
      "1063/1063 [==============================] - 0s 359us/sample - loss: 0.8874 - acc: 0.6905 - val_loss: 2.7950 - val_acc: 0.3271\n",
      "Epoch 6/100\n",
      "1063/1063 [==============================] - 0s 339us/sample - loss: 0.8517 - acc: 0.7121 - val_loss: 2.3764 - val_acc: 0.4098\n",
      "Epoch 7/100\n",
      "1063/1063 [==============================] - 0s 326us/sample - loss: 0.7916 - acc: 0.7225 - val_loss: 2.0186 - val_acc: 0.4398\n",
      "Epoch 8/100\n",
      "1063/1063 [==============================] - 0s 325us/sample - loss: 0.7223 - acc: 0.7545 - val_loss: 1.8351 - val_acc: 0.4925\n",
      "Epoch 9/100\n",
      "1063/1063 [==============================] - 0s 365us/sample - loss: 0.7087 - acc: 0.7498 - val_loss: 1.7026 - val_acc: 0.4887\n",
      "Epoch 10/100\n",
      "1063/1063 [==============================] - 0s 345us/sample - loss: 0.6231 - acc: 0.7874 - val_loss: 1.6093 - val_acc: 0.5226\n",
      "Epoch 11/100\n",
      "1063/1063 [==============================] - 0s 335us/sample - loss: 0.6306 - acc: 0.7789 - val_loss: 1.5356 - val_acc: 0.5226\n",
      "Epoch 12/100\n",
      "1063/1063 [==============================] - 0s 349us/sample - loss: 0.5901 - acc: 0.7930 - val_loss: 1.3943 - val_acc: 0.5639\n",
      "Epoch 13/100\n",
      "1063/1063 [==============================] - 0s 350us/sample - loss: 0.5397 - acc: 0.8147 - val_loss: 1.4896 - val_acc: 0.5526\n",
      "Epoch 14/100\n",
      "1063/1063 [==============================] - 0s 361us/sample - loss: 0.5649 - acc: 0.8043 - val_loss: 1.4273 - val_acc: 0.5602\n",
      "Epoch 15/100\n",
      "1063/1063 [==============================] - 0s 345us/sample - loss: 0.5317 - acc: 0.8081 - val_loss: 1.4598 - val_acc: 0.5489\n",
      "Epoch 16/100\n",
      "1063/1063 [==============================] - 0s 353us/sample - loss: 0.4994 - acc: 0.8194 - val_loss: 1.4168 - val_acc: 0.5940\n",
      "Epoch 17/100\n",
      "1063/1063 [==============================] - 0s 334us/sample - loss: 0.4101 - acc: 0.8495 - val_loss: 1.4239 - val_acc: 0.5639\n",
      "Epoch 18/100\n",
      "1063/1063 [==============================] - 0s 320us/sample - loss: 0.4213 - acc: 0.8532 - val_loss: 1.4069 - val_acc: 0.6053\n",
      "Epoch 19/100\n",
      "1063/1063 [==============================] - 0s 334us/sample - loss: 0.3815 - acc: 0.8523 - val_loss: 1.4329 - val_acc: 0.6128\n",
      "Epoch 20/100\n",
      "1063/1063 [==============================] - 0s 347us/sample - loss: 0.4822 - acc: 0.8382 - val_loss: 1.5134 - val_acc: 0.5977\n",
      "Epoch 21/100\n",
      "1063/1063 [==============================] - 0s 343us/sample - loss: 0.4335 - acc: 0.8401 - val_loss: 1.4323 - val_acc: 0.5940\n",
      "Epoch 22/100\n",
      "1063/1063 [==============================] - 0s 355us/sample - loss: 0.5012 - acc: 0.8269 - val_loss: 1.5702 - val_acc: 0.5714\n",
      "Epoch 23/100\n",
      "1063/1063 [==============================] - 0s 355us/sample - loss: 0.4187 - acc: 0.8627 - val_loss: 1.6800 - val_acc: 0.5752\n",
      "Epoch 24/100\n",
      "1063/1063 [==============================] - 0s 346us/sample - loss: 0.3938 - acc: 0.8702 - val_loss: 1.5824 - val_acc: 0.5865\n",
      "Epoch 25/100\n",
      "1063/1063 [==============================] - 0s 358us/sample - loss: 0.3520 - acc: 0.8692 - val_loss: 1.5767 - val_acc: 0.6015\n",
      "Epoch 26/100\n",
      "1063/1063 [==============================] - 0s 344us/sample - loss: 0.3625 - acc: 0.8777 - val_loss: 1.5653 - val_acc: 0.6165\n",
      "Epoch 27/100\n",
      "1063/1063 [==============================] - 0s 329us/sample - loss: 0.3650 - acc: 0.8711 - val_loss: 1.5985 - val_acc: 0.6203\n",
      "Epoch 28/100\n",
      "1063/1063 [==============================] - 0s 336us/sample - loss: 0.3272 - acc: 0.8815 - val_loss: 1.6728 - val_acc: 0.5827\n",
      "Epoch 29/100\n",
      "1063/1063 [==============================] - 0s 329us/sample - loss: 0.3674 - acc: 0.8721 - val_loss: 1.6363 - val_acc: 0.6015\n",
      "Epoch 30/100\n",
      "1063/1063 [==============================] - 0s 358us/sample - loss: 0.3307 - acc: 0.8833 - val_loss: 1.6082 - val_acc: 0.6241\n",
      "Epoch 31/100\n",
      "1063/1063 [==============================] - 0s 330us/sample - loss: 0.3090 - acc: 0.8899 - val_loss: 1.5522 - val_acc: 0.6165\n",
      "Epoch 32/100\n",
      "1063/1063 [==============================] - 0s 353us/sample - loss: 0.3517 - acc: 0.8758 - val_loss: 1.7369 - val_acc: 0.5827\n",
      "Epoch 33/100\n",
      "1063/1063 [==============================] - 0s 328us/sample - loss: 0.3162 - acc: 0.8777 - val_loss: 1.6416 - val_acc: 0.6128\n",
      "Epoch 34/100\n",
      "1063/1063 [==============================] - 0s 350us/sample - loss: 0.2544 - acc: 0.9022 - val_loss: 1.5471 - val_acc: 0.6241\n",
      "Epoch 35/100\n",
      "1063/1063 [==============================] - 0s 359us/sample - loss: 0.2656 - acc: 0.9050 - val_loss: 1.6080 - val_acc: 0.6316\n",
      "Epoch 36/100\n",
      "1063/1063 [==============================] - 0s 321us/sample - loss: 0.3128 - acc: 0.8918 - val_loss: 1.5395 - val_acc: 0.6203\n",
      "Epoch 37/100\n",
      "1063/1063 [==============================] - 0s 348us/sample - loss: 0.2554 - acc: 0.9040 - val_loss: 1.6203 - val_acc: 0.6015\n",
      "Epoch 38/100\n",
      "1063/1063 [==============================] - 0s 340us/sample - loss: 0.2494 - acc: 0.9125 - val_loss: 1.7309 - val_acc: 0.5827\n",
      "Epoch 39/100\n",
      "1063/1063 [==============================] - 0s 343us/sample - loss: 0.2650 - acc: 0.8993 - val_loss: 1.7121 - val_acc: 0.5902\n",
      "Epoch 40/100\n",
      "1063/1063 [==============================] - 0s 325us/sample - loss: 0.2901 - acc: 0.8956 - val_loss: 1.7225 - val_acc: 0.5977\n",
      "Epoch 41/100\n",
      "1063/1063 [==============================] - 0s 332us/sample - loss: 0.2879 - acc: 0.8928 - val_loss: 1.6631 - val_acc: 0.6203\n",
      "Epoch 42/100\n",
      "1063/1063 [==============================] - 0s 356us/sample - loss: 0.2733 - acc: 0.9097 - val_loss: 1.8160 - val_acc: 0.6241\n",
      "Epoch 43/100\n",
      "1063/1063 [==============================] - 0s 341us/sample - loss: 0.2639 - acc: 0.9069 - val_loss: 1.7103 - val_acc: 0.6128\n",
      "Epoch 44/100\n",
      "1063/1063 [==============================] - 0s 357us/sample - loss: 0.2553 - acc: 0.9097 - val_loss: 1.7741 - val_acc: 0.6241\n",
      "Epoch 45/100\n",
      "1063/1063 [==============================] - 0s 371us/sample - loss: 0.2888 - acc: 0.8993 - val_loss: 1.8253 - val_acc: 0.6504\n",
      "Epoch 46/100\n",
      "1063/1063 [==============================] - 0s 354us/sample - loss: 0.2798 - acc: 0.9069 - val_loss: 1.7490 - val_acc: 0.6128\n",
      "Epoch 47/100\n",
      "1063/1063 [==============================] - 0s 352us/sample - loss: 0.2461 - acc: 0.9087 - val_loss: 1.7829 - val_acc: 0.6128\n",
      "Epoch 48/100\n",
      "1063/1063 [==============================] - 0s 353us/sample - loss: 0.2534 - acc: 0.9135 - val_loss: 1.7948 - val_acc: 0.6316\n",
      "Epoch 49/100\n",
      "1063/1063 [==============================] - 0s 342us/sample - loss: 0.2525 - acc: 0.9172 - val_loss: 1.7984 - val_acc: 0.6015\n",
      "Epoch 50/100\n",
      "1063/1063 [==============================] - 0s 307us/sample - loss: 0.2092 - acc: 0.9247 - val_loss: 1.7929 - val_acc: 0.6316\n",
      "Epoch 51/100\n",
      "1063/1063 [==============================] - 0s 327us/sample - loss: 0.2373 - acc: 0.9182 - val_loss: 1.8325 - val_acc: 0.6316\n",
      "Epoch 52/100\n",
      "1063/1063 [==============================] - 0s 342us/sample - loss: 0.2792 - acc: 0.9069 - val_loss: 1.7878 - val_acc: 0.6165\n",
      "Epoch 53/100\n",
      "1063/1063 [==============================] - 0s 350us/sample - loss: 0.2216 - acc: 0.9257 - val_loss: 1.8077 - val_acc: 0.6353\n",
      "Epoch 54/100\n",
      "1063/1063 [==============================] - 0s 343us/sample - loss: 0.2540 - acc: 0.9050 - val_loss: 1.9092 - val_acc: 0.6278\n",
      "Epoch 55/100\n",
      "1063/1063 [==============================] - 0s 350us/sample - loss: 0.2214 - acc: 0.9285 - val_loss: 1.7970 - val_acc: 0.6241\n",
      "Epoch 56/100\n",
      "1063/1063 [==============================] - 0s 336us/sample - loss: 0.2377 - acc: 0.9304 - val_loss: 1.7401 - val_acc: 0.6128\n",
      "Epoch 57/100\n",
      "1063/1063 [==============================] - 0s 365us/sample - loss: 0.2172 - acc: 0.9172 - val_loss: 1.8068 - val_acc: 0.6391\n",
      "Epoch 58/100\n",
      "1063/1063 [==============================] - 0s 362us/sample - loss: 0.2363 - acc: 0.9200 - val_loss: 1.8722 - val_acc: 0.6090\n",
      "Epoch 59/100\n"
     ]
    },
    {
     "name": "stdout",
     "output_type": "stream",
     "text": [
      "1063/1063 [==============================] - 0s 354us/sample - loss: 0.2085 - acc: 0.9247 - val_loss: 1.8654 - val_acc: 0.5977\n",
      "Epoch 60/100\n",
      "1063/1063 [==============================] - 0s 338us/sample - loss: 0.2002 - acc: 0.9323 - val_loss: 1.7857 - val_acc: 0.6053\n",
      "Epoch 61/100\n",
      "1063/1063 [==============================] - 0s 339us/sample - loss: 0.2048 - acc: 0.9257 - val_loss: 1.8444 - val_acc: 0.6165\n",
      "Epoch 62/100\n",
      "1063/1063 [==============================] - 0s 333us/sample - loss: 0.1880 - acc: 0.9379 - val_loss: 1.7537 - val_acc: 0.6353\n",
      "Epoch 63/100\n",
      "1063/1063 [==============================] - 0s 361us/sample - loss: 0.2457 - acc: 0.9219 - val_loss: 1.9059 - val_acc: 0.6203\n",
      "Epoch 64/100\n",
      "1063/1063 [==============================] - 0s 365us/sample - loss: 0.2274 - acc: 0.9191 - val_loss: 2.0101 - val_acc: 0.6353\n",
      "Epoch 65/100\n",
      "1063/1063 [==============================] - 0s 344us/sample - loss: 0.2369 - acc: 0.9210 - val_loss: 1.8651 - val_acc: 0.6353\n",
      "Epoch 66/100\n",
      "1063/1063 [==============================] - 0s 354us/sample - loss: 0.2300 - acc: 0.9219 - val_loss: 1.8799 - val_acc: 0.6241\n",
      "Epoch 67/100\n",
      "1063/1063 [==============================] - 0s 352us/sample - loss: 0.1919 - acc: 0.9360 - val_loss: 1.8907 - val_acc: 0.6466\n",
      "Epoch 68/100\n",
      "1063/1063 [==============================] - 0s 346us/sample - loss: 0.1826 - acc: 0.9351 - val_loss: 1.9051 - val_acc: 0.6203\n",
      "Epoch 69/100\n",
      "1063/1063 [==============================] - 0s 346us/sample - loss: 0.1852 - acc: 0.9360 - val_loss: 1.8501 - val_acc: 0.6241\n",
      "Epoch 70/100\n",
      "1063/1063 [==============================] - 0s 342us/sample - loss: 0.1777 - acc: 0.9370 - val_loss: 1.8713 - val_acc: 0.6128\n",
      "Epoch 71/100\n",
      "1063/1063 [==============================] - 0s 330us/sample - loss: 0.1915 - acc: 0.9323 - val_loss: 1.9092 - val_acc: 0.6278\n",
      "Epoch 72/100\n",
      "1063/1063 [==============================] - 0s 337us/sample - loss: 0.2086 - acc: 0.9238 - val_loss: 1.8315 - val_acc: 0.6128\n",
      "Epoch 73/100\n",
      "1063/1063 [==============================] - 0s 366us/sample - loss: 0.2066 - acc: 0.9257 - val_loss: 1.8317 - val_acc: 0.6466\n",
      "Epoch 74/100\n",
      "1063/1063 [==============================] - 0s 355us/sample - loss: 0.1787 - acc: 0.9398 - val_loss: 1.8747 - val_acc: 0.6165\n",
      "Epoch 75/100\n",
      "1063/1063 [==============================] - 0s 356us/sample - loss: 0.2006 - acc: 0.9341 - val_loss: 1.9660 - val_acc: 0.6165\n",
      "Epoch 76/100\n",
      "1063/1063 [==============================] - 0s 348us/sample - loss: 0.2008 - acc: 0.9285 - val_loss: 1.9154 - val_acc: 0.6429\n",
      "Epoch 77/100\n",
      "1063/1063 [==============================] - 0s 347us/sample - loss: 0.1686 - acc: 0.9351 - val_loss: 1.8616 - val_acc: 0.6353\n",
      "Epoch 78/100\n",
      "1063/1063 [==============================] - 0s 363us/sample - loss: 0.2676 - acc: 0.9087 - val_loss: 1.7770 - val_acc: 0.6353\n",
      "Epoch 79/100\n",
      "1063/1063 [==============================] - 0s 362us/sample - loss: 0.2176 - acc: 0.9247 - val_loss: 1.8210 - val_acc: 0.6090\n",
      "Epoch 80/100\n",
      "1063/1063 [==============================] - 0s 351us/sample - loss: 0.2142 - acc: 0.9200 - val_loss: 1.8198 - val_acc: 0.6316\n",
      "Epoch 81/100\n",
      "1063/1063 [==============================] - 0s 362us/sample - loss: 0.2175 - acc: 0.9219 - val_loss: 1.8955 - val_acc: 0.6165\n",
      "Epoch 82/100\n",
      "1063/1063 [==============================] - 0s 325us/sample - loss: 0.2397 - acc: 0.9229 - val_loss: 1.8507 - val_acc: 0.6241\n",
      "Epoch 83/100\n",
      "1063/1063 [==============================] - 0s 331us/sample - loss: 0.1798 - acc: 0.9341 - val_loss: 1.9940 - val_acc: 0.6203\n",
      "Epoch 84/100\n",
      "1063/1063 [==============================] - 0s 347us/sample - loss: 0.2159 - acc: 0.9370 - val_loss: 1.8269 - val_acc: 0.6541\n",
      "Epoch 85/100\n",
      "1063/1063 [==============================] - 0s 361us/sample - loss: 0.1926 - acc: 0.9313 - val_loss: 1.8272 - val_acc: 0.6429\n",
      "Epoch 86/100\n",
      "1063/1063 [==============================] - 0s 340us/sample - loss: 0.1258 - acc: 0.9511 - val_loss: 2.0039 - val_acc: 0.6128\n",
      "Epoch 87/100\n",
      "1063/1063 [==============================] - 0s 341us/sample - loss: 0.2140 - acc: 0.9210 - val_loss: 1.8874 - val_acc: 0.6316\n",
      "Epoch 88/100\n",
      "1063/1063 [==============================] - 0s 358us/sample - loss: 0.2138 - acc: 0.9276 - val_loss: 1.8706 - val_acc: 0.6316\n",
      "Epoch 89/100\n",
      "1063/1063 [==============================] - 0s 357us/sample - loss: 0.1638 - acc: 0.9445 - val_loss: 1.8268 - val_acc: 0.6579\n",
      "Epoch 90/100\n",
      "1063/1063 [==============================] - 0s 348us/sample - loss: 0.1543 - acc: 0.9360 - val_loss: 1.8901 - val_acc: 0.6165\n",
      "Epoch 91/100\n",
      "1063/1063 [==============================] - 0s 360us/sample - loss: 0.1326 - acc: 0.9548 - val_loss: 1.9176 - val_acc: 0.6353\n",
      "Epoch 92/100\n",
      "1063/1063 [==============================] - 0s 337us/sample - loss: 0.1585 - acc: 0.9398 - val_loss: 1.9134 - val_acc: 0.6579\n",
      "Epoch 93/100\n",
      "1063/1063 [==============================] - 0s 314us/sample - loss: 0.1398 - acc: 0.9417 - val_loss: 1.9257 - val_acc: 0.6391\n",
      "Epoch 94/100\n",
      "1063/1063 [==============================] - 0s 351us/sample - loss: 0.1409 - acc: 0.9577 - val_loss: 2.0062 - val_acc: 0.6165\n",
      "Epoch 95/100\n",
      "1063/1063 [==============================] - 0s 324us/sample - loss: 0.1793 - acc: 0.9351 - val_loss: 1.9829 - val_acc: 0.6053\n",
      "Epoch 96/100\n",
      "1063/1063 [==============================] - 0s 365us/sample - loss: 0.1702 - acc: 0.9436 - val_loss: 1.9710 - val_acc: 0.6165\n",
      "Epoch 97/100\n",
      "1063/1063 [==============================] - 0s 341us/sample - loss: 0.1422 - acc: 0.9492 - val_loss: 1.9718 - val_acc: 0.6353\n",
      "Epoch 98/100\n",
      "1063/1063 [==============================] - 0s 346us/sample - loss: 0.1456 - acc: 0.9454 - val_loss: 1.9433 - val_acc: 0.6278\n",
      "Epoch 99/100\n",
      "1063/1063 [==============================] - 0s 338us/sample - loss: 0.1815 - acc: 0.9332 - val_loss: 2.1053 - val_acc: 0.6015\n",
      "Epoch 100/100\n",
      "1063/1063 [==============================] - 0s 307us/sample - loss: 0.2084 - acc: 0.9276 - val_loss: 1.9494 - val_acc: 0.6203\n"
     ]
    }
   ],
   "source": [
    "vm.model.train(X_train, Y_train, batch_size=64, epoch=100, validation_data=(X_test, Y_test), callbacks=[logger])"
   ]
  },
  {
   "cell_type": "code",
   "execution_count": 54,
   "metadata": {},
   "outputs": [
    {
     "data": {
      "image/png": "[encoded data removed]",
      "text/plain": [
       "<matplotlib.figure.Figure at 0x7f452c6bd978>"
      ]
     },
     "metadata": {
      "needs_background": "light"
     },
     "output_type": "display_data"
    },
    {
     "name": "stdout",
     "output_type": "stream",
     "text": [
      "[[41  1  0  1  0  3]\n",
      " [ 4 22  4  5  5  4]\n",
      " [ 1  4 42  2  3  1]\n",
      " [ 2  6  5 23  4  6]\n",
      " [ 0  5  2  3 18  6]\n",
      " [10  7  1  1  5 19]]\n",
      "              precision    recall  f1-score   support\n",
      "\n",
      "        calm       0.71      0.89      0.79        46\n",
      "       happy       0.49      0.50      0.49        44\n",
      "       angry       0.78      0.79      0.79        53\n",
      "     fearful       0.66      0.50      0.57        46\n",
      "   surprised       0.51      0.53      0.52        34\n",
      "         sad       0.49      0.44      0.46        43\n",
      "\n",
      "    accuracy                           0.62       266\n",
      "   macro avg       0.61      0.61      0.60       266\n",
      "weighted avg       0.62      0.62      0.61       266\n",
      "\n"
     ]
    }
   ],
   "source": [
    "\n",
    "plt.plot(list(range(0, len(logger.training))), list(map(lambda x:x[1], logger.training)), label=\"training data\")\n",
    "plt.plot(list(range(0, len(logger.testing))), list(map(lambda x:x[1], logger.testing)), label=\"testing data\")\n",
    "plt.xlabel('epochs')\n",
    "plt.ylabel('accuracy')\n",
    "plt.show()\n",
    "print_metrics(X_test, Y_test, emotion_list)"
   ]
  },
  {
   "cell_type": "markdown",
   "metadata": {},
   "source": [
    "In this graph we can see that the model largely overfit around the 20st epoch\n",
    "We can also see that the testing data's accuracy continues to grow."
   ]
  },
  {
   "cell_type": "code",
   "execution_count": 16,
   "metadata": {},
   "outputs": [],
   "source": [
    "# Now we save the model so we don't have to retrain it each time\n",
    "vm.model.save(\"emotion_cnn.model\")"
   ]
  },
  {
   "cell_type": "code",
   "execution_count": 37,
   "metadata": {},
   "outputs": [
    {
     "name": "stdout",
     "output_type": "stream",
     "text": [
      "WARNING:tensorflow:Sequential models without an `input_shape` passed to the first layer cannot reload their optimizer state. As a result, your model isstarting with a freshly initialized optimizer.\n"
     ]
    }
   ],
   "source": [
    "# Here we load the model to check if nothing went wrong\n",
    "vm.model.load(\"emotion_lstm.model\")"
   ]
  },
  {
   "cell_type": "code",
   "execution_count": 48,
   "metadata": {},
   "outputs": [
    {
     "name": "stdout",
     "output_type": "stream",
     "text": [
      "Doing calm\n",
      "Doing happy\n",
      "Doing angry\n",
      "Doing fearful\n",
      "Doing surprised\n",
      "Doing sad\n"
     ]
    }
   ],
   "source": [
    "# Now we load the new dataset (savee)\n",
    "\n",
    "# First we change the folder path\n",
    "folder_path += \"/savee\"\n",
    "\n",
    "# Now we load the data\n",
    "data = {f: load_wav(f\"{folder_path}/{f}\", nb_break) for f in emotion_list}\n",
    "X_savee, Y_savee = preprare_wav(data, vm, sample_duration, step)\n",
    "X_savee = X_savee.astype('float32')\n",
    "X_savee_train, X_savee_test, Y_savee_train, Y_savee_test = train_test_split(X_savee, Y_savee, test_size=0.2, random_state=42)"
   ]
  },
  {
   "cell_type": "code",
   "execution_count": 55,
   "metadata": {},
   "outputs": [
    {
     "name": "stdout",
     "output_type": "stream",
     "text": [
      "580/580 [==============================] - 0s 150us/sample - loss: 11.1960 - acc: 0.2259\n",
      "[[37 37  8  0 52 16]\n",
      " [ 5 26 13  2 30  6]\n",
      " [14 22 25  0 19  1]\n",
      " [19 10 18  4 24  5]\n",
      " [12 11 21  1 33  3]\n",
      " [29 22 10  1 38  6]]\n",
      "              precision    recall  f1-score   support\n",
      "\n",
      "        calm       0.32      0.25      0.28       150\n",
      "       happy       0.20      0.32      0.25        82\n",
      "       angry       0.26      0.31      0.28        81\n",
      "     fearful       0.50      0.05      0.09        80\n",
      "   surprised       0.17      0.41      0.24        81\n",
      "         sad       0.16      0.06      0.08       106\n",
      "\n",
      "    accuracy                           0.23       580\n",
      "   macro avg       0.27      0.23      0.20       580\n",
      "weighted avg       0.27      0.23      0.21       580\n",
      "\n"
     ]
    }
   ],
   "source": [
    "vm.model._model.evaluate(X_savee, Y_savee)\n",
    "print_metrics(X_savee, Y_savee, emotion_list)"
   ]
  },
  {
   "cell_type": "code",
   "execution_count": 56,
   "metadata": {},
   "outputs": [
    {
     "name": "stdout",
     "output_type": "stream",
     "text": [
      "gaussian_noise_6\n",
      "batch_normalization_10\n",
      "conv1d_5\n",
      "activation_10\n",
      "max_pooling1d_5\n",
      "flatten_5\n",
      "batch_normalization_11\n",
      "dropout_5\n",
      "gaussian_noise_7\n"
     ]
    }
   ],
   "source": [
    "# Now we freeze every layer used for extracting features from data\n",
    "for layer in vm.model._model.layers[:-3]:\n",
    "    print(layer.name)\n",
    "    layer.trainable = False\n",
    "vm.model._model.compile(loss='categorical_crossentropy', optimizer='adam', metrics=['accuracy'])"
   ]
  },
  {
   "cell_type": "code",
   "execution_count": 59,
   "metadata": {
    "scrolled": true
   },
   "outputs": [
    {
     "name": "stdout",
     "output_type": "stream",
     "text": [
      "Train on 464 samples, validate on 116 samples\n",
      "Epoch 1/100\n",
      "464/464 [==============================] - 0s 873us/sample - loss: 0.3298 - acc: 0.8879 - val_loss: 14.1871 - val_acc: 0.2672\n",
      "Epoch 2/100\n",
      "464/464 [==============================] - 0s 873us/sample - loss: 0.3084 - acc: 0.8879 - val_loss: 14.9794 - val_acc: 0.2759\n",
      "Epoch 3/100\n",
      "464/464 [==============================] - 0s 852us/sample - loss: 0.3245 - acc: 0.8879 - val_loss: 14.9846 - val_acc: 0.2672\n",
      "Epoch 4/100\n",
      "464/464 [==============================] - 0s 886us/sample - loss: 0.3565 - acc: 0.8750 - val_loss: 13.3398 - val_acc: 0.2672\n",
      "Epoch 5/100\n",
      "464/464 [==============================] - 0s 860us/sample - loss: 0.3996 - acc: 0.8772 - val_loss: 14.0526 - val_acc: 0.2672\n",
      "Epoch 6/100\n",
      "464/464 [==============================] - 0s 850us/sample - loss: 0.2632 - acc: 0.9030 - val_loss: 13.8477 - val_acc: 0.2672\n",
      "Epoch 7/100\n",
      "464/464 [==============================] - 0s 817us/sample - loss: 0.2091 - acc: 0.9159 - val_loss: 14.3281 - val_acc: 0.2759\n",
      "Epoch 8/100\n",
      "464/464 [==============================] - 0s 901us/sample - loss: 0.2644 - acc: 0.9030 - val_loss: 16.2305 - val_acc: 0.2759\n",
      "Epoch 9/100\n",
      "464/464 [==============================] - 0s 885us/sample - loss: 0.3230 - acc: 0.9073 - val_loss: 14.2649 - val_acc: 0.2672\n",
      "Epoch 10/100\n",
      "464/464 [==============================] - 0s 902us/sample - loss: 0.3766 - acc: 0.8728 - val_loss: 12.8833 - val_acc: 0.2845\n",
      "Epoch 11/100\n",
      "464/464 [==============================] - 0s 856us/sample - loss: 0.3137 - acc: 0.8944 - val_loss: 12.7243 - val_acc: 0.2845\n",
      "Epoch 12/100\n",
      "464/464 [==============================] - 0s 867us/sample - loss: 0.3043 - acc: 0.8836 - val_loss: 13.7061 - val_acc: 0.2845\n",
      "Epoch 13/100\n",
      "464/464 [==============================] - 0s 875us/sample - loss: 0.3106 - acc: 0.8922 - val_loss: 14.1197 - val_acc: 0.2672\n",
      "Epoch 14/100\n",
      "464/464 [==============================] - 0s 859us/sample - loss: 0.2593 - acc: 0.9009 - val_loss: 15.4110 - val_acc: 0.2759\n",
      "Epoch 15/100\n",
      "464/464 [==============================] - 0s 893us/sample - loss: 0.3650 - acc: 0.8728 - val_loss: 14.9726 - val_acc: 0.2759\n",
      "Epoch 16/100\n",
      "464/464 [==============================] - 0s 841us/sample - loss: 0.3316 - acc: 0.8815 - val_loss: 16.3893 - val_acc: 0.2759\n",
      "Epoch 17/100\n",
      "464/464 [==============================] - 0s 792us/sample - loss: 0.2738 - acc: 0.9073 - val_loss: 15.9518 - val_acc: 0.2845\n",
      "Epoch 18/100\n",
      "464/464 [==============================] - 0s 857us/sample - loss: 0.2425 - acc: 0.9159 - val_loss: 15.6439 - val_acc: 0.2845\n",
      "Epoch 19/100\n",
      "464/464 [==============================] - 0s 838us/sample - loss: 0.3104 - acc: 0.8793 - val_loss: 14.5283 - val_acc: 0.2931\n",
      "Epoch 20/100\n",
      "464/464 [==============================] - 0s 840us/sample - loss: 0.2313 - acc: 0.9073 - val_loss: 13.7598 - val_acc: 0.2931\n",
      "Epoch 21/100\n",
      "464/464 [==============================] - 0s 834us/sample - loss: 0.2402 - acc: 0.9095 - val_loss: 14.7798 - val_acc: 0.2845\n",
      "Epoch 22/100\n",
      "464/464 [==============================] - 0s 864us/sample - loss: 0.2931 - acc: 0.8922 - val_loss: 15.3610 - val_acc: 0.2845\n",
      "Epoch 23/100\n",
      "464/464 [==============================] - 0s 907us/sample - loss: 0.3444 - acc: 0.8858 - val_loss: 15.1382 - val_acc: 0.2759\n",
      "Epoch 24/100\n",
      "464/464 [==============================] - 0s 867us/sample - loss: 0.2358 - acc: 0.9138 - val_loss: 14.7318 - val_acc: 0.2845\n",
      "Epoch 25/100\n",
      "464/464 [==============================] - 0s 840us/sample - loss: 0.2176 - acc: 0.9289 - val_loss: 14.9973 - val_acc: 0.2672\n",
      "Epoch 26/100\n",
      "464/464 [==============================] - 0s 801us/sample - loss: 0.3292 - acc: 0.8836 - val_loss: 15.4512 - val_acc: 0.2759\n",
      "Epoch 27/100\n",
      "464/464 [==============================] - 0s 817us/sample - loss: 0.2686 - acc: 0.9116 - val_loss: 16.5477 - val_acc: 0.2759\n",
      "Epoch 28/100\n",
      "464/464 [==============================] - 0s 872us/sample - loss: 0.2373 - acc: 0.9159 - val_loss: 15.3711 - val_acc: 0.2672\n",
      "Epoch 29/100\n",
      "464/464 [==============================] - 0s 859us/sample - loss: 0.2781 - acc: 0.9116 - val_loss: 15.1476 - val_acc: 0.2845\n",
      "Epoch 30/100\n",
      "464/464 [==============================] - 0s 813us/sample - loss: 0.1829 - acc: 0.9375 - val_loss: 14.4474 - val_acc: 0.2759\n",
      "Epoch 31/100\n",
      "464/464 [==============================] - 0s 834us/sample - loss: 0.2810 - acc: 0.9030 - val_loss: 15.6584 - val_acc: 0.2759\n",
      "Epoch 32/100\n",
      "464/464 [==============================] - 0s 845us/sample - loss: 0.2454 - acc: 0.9203 - val_loss: 15.3748 - val_acc: 0.2759\n",
      "Epoch 33/100\n",
      "464/464 [==============================] - 0s 862us/sample - loss: 0.2042 - acc: 0.9289 - val_loss: 14.3617 - val_acc: 0.2759\n",
      "Epoch 34/100\n",
      "464/464 [==============================] - 0s 863us/sample - loss: 0.2139 - acc: 0.9181 - val_loss: 15.7586 - val_acc: 0.2672\n",
      "Epoch 35/100\n",
      "464/464 [==============================] - 0s 840us/sample - loss: 0.2781 - acc: 0.9181 - val_loss: 15.5757 - val_acc: 0.2759\n",
      "Epoch 36/100\n",
      "464/464 [==============================] - 0s 862us/sample - loss: 0.1792 - acc: 0.9159 - val_loss: 17.9369 - val_acc: 0.2759\n",
      "Epoch 37/100\n",
      "464/464 [==============================] - 0s 763us/sample - loss: 0.2670 - acc: 0.9052 - val_loss: 16.5259 - val_acc: 0.2759\n",
      "Epoch 38/100\n",
      "464/464 [==============================] - 0s 874us/sample - loss: 0.1964 - acc: 0.9440 - val_loss: 16.1840 - val_acc: 0.2759\n",
      "Epoch 39/100\n",
      "464/464 [==============================] - 0s 866us/sample - loss: 0.2448 - acc: 0.9203 - val_loss: 17.5033 - val_acc: 0.2759\n",
      "Epoch 40/100\n",
      "464/464 [==============================] - 0s 870us/sample - loss: 0.2904 - acc: 0.9138 - val_loss: 17.3831 - val_acc: 0.2845\n",
      "Epoch 41/100\n",
      "464/464 [==============================] - 0s 869us/sample - loss: 0.2805 - acc: 0.9030 - val_loss: 18.1232 - val_acc: 0.2759\n",
      "Epoch 42/100\n",
      "464/464 [==============================] - 0s 836us/sample - loss: 0.2608 - acc: 0.9095 - val_loss: 15.8255 - val_acc: 0.2931\n",
      "Epoch 43/100\n",
      "464/464 [==============================] - 0s 865us/sample - loss: 0.2834 - acc: 0.9159 - val_loss: 14.1900 - val_acc: 0.2845\n",
      "Epoch 44/100\n",
      "464/464 [==============================] - 0s 849us/sample - loss: 0.2585 - acc: 0.9030 - val_loss: 12.5714 - val_acc: 0.2931\n",
      "Epoch 45/100\n",
      "464/464 [==============================] - 0s 822us/sample - loss: 0.2281 - acc: 0.9246 - val_loss: 13.8758 - val_acc: 0.2845\n",
      "Epoch 46/100\n",
      "464/464 [==============================] - 0s 804us/sample - loss: 0.2100 - acc: 0.9332 - val_loss: 14.9011 - val_acc: 0.2759\n",
      "Epoch 47/100\n",
      "464/464 [==============================] - 0s 796us/sample - loss: 0.2162 - acc: 0.9181 - val_loss: 16.8276 - val_acc: 0.2759\n",
      "Epoch 48/100\n",
      "464/464 [==============================] - 0s 827us/sample - loss: 0.2531 - acc: 0.9138 - val_loss: 14.0365 - val_acc: 0.2672\n",
      "Epoch 49/100\n",
      "464/464 [==============================] - 0s 846us/sample - loss: 0.2158 - acc: 0.9203 - val_loss: 14.9778 - val_acc: 0.2759\n",
      "Epoch 50/100\n",
      "464/464 [==============================] - 0s 872us/sample - loss: 0.1711 - acc: 0.9375 - val_loss: 15.5809 - val_acc: 0.2759\n",
      "Epoch 51/100\n",
      "464/464 [==============================] - 0s 850us/sample - loss: 0.2143 - acc: 0.9224 - val_loss: 14.4403 - val_acc: 0.2845\n",
      "Epoch 52/100\n",
      "464/464 [==============================] - 0s 850us/sample - loss: 0.2492 - acc: 0.9267 - val_loss: 15.4345 - val_acc: 0.2672\n",
      "Epoch 53/100\n",
      "464/464 [==============================] - 0s 835us/sample - loss: 0.1930 - acc: 0.9310 - val_loss: 14.9853 - val_acc: 0.2672\n",
      "Epoch 54/100\n",
      "464/464 [==============================] - 0s 850us/sample - loss: 0.2252 - acc: 0.9246 - val_loss: 15.8643 - val_acc: 0.2672\n",
      "Epoch 55/100\n",
      "464/464 [==============================] - 0s 874us/sample - loss: 0.1987 - acc: 0.9224 - val_loss: 16.1576 - val_acc: 0.2672\n",
      "Epoch 56/100\n",
      "464/464 [==============================] - 0s 828us/sample - loss: 0.2113 - acc: 0.9353 - val_loss: 16.6105 - val_acc: 0.2672\n",
      "Epoch 57/100\n",
      "464/464 [==============================] - 0s 838us/sample - loss: 0.2555 - acc: 0.9009 - val_loss: 15.2864 - val_acc: 0.2759\n",
      "Epoch 58/100\n",
      "464/464 [==============================] - 0s 832us/sample - loss: 0.1801 - acc: 0.9267 - val_loss: 17.0795 - val_acc: 0.2672\n",
      "Epoch 59/100\n",
      "464/464 [==============================] - 0s 900us/sample - loss: 0.2193 - acc: 0.9267 - val_loss: 15.0028 - val_acc: 0.2672\n"
     ]
    },
    {
     "name": "stdout",
     "output_type": "stream",
     "text": [
      "Epoch 60/100\n",
      "464/464 [==============================] - 0s 923us/sample - loss: 0.1507 - acc: 0.9504 - val_loss: 16.8374 - val_acc: 0.2672\n",
      "Epoch 61/100\n",
      "464/464 [==============================] - 0s 850us/sample - loss: 0.1594 - acc: 0.9461 - val_loss: 19.7974 - val_acc: 0.2759\n",
      "Epoch 62/100\n",
      "464/464 [==============================] - 0s 905us/sample - loss: 0.2310 - acc: 0.9181 - val_loss: 14.7259 - val_acc: 0.2931\n",
      "Epoch 63/100\n",
      "464/464 [==============================] - 0s 904us/sample - loss: 0.2424 - acc: 0.9095 - val_loss: 15.8181 - val_acc: 0.2672\n",
      "Epoch 64/100\n",
      "464/464 [==============================] - 0s 870us/sample - loss: 0.2063 - acc: 0.9267 - val_loss: 15.3982 - val_acc: 0.2759\n",
      "Epoch 65/100\n",
      "464/464 [==============================] - 0s 852us/sample - loss: 0.2487 - acc: 0.9138 - val_loss: 15.9388 - val_acc: 0.2672\n",
      "Epoch 66/100\n",
      "464/464 [==============================] - 0s 813us/sample - loss: 0.1963 - acc: 0.9246 - val_loss: 17.3642 - val_acc: 0.2672\n",
      "Epoch 67/100\n",
      "464/464 [==============================] - 0s 844us/sample - loss: 0.2364 - acc: 0.9246 - val_loss: 14.6165 - val_acc: 0.2931\n",
      "Epoch 68/100\n",
      "464/464 [==============================] - 0s 866us/sample - loss: 0.2302 - acc: 0.9116 - val_loss: 17.5128 - val_acc: 0.2672\n",
      "Epoch 69/100\n",
      "464/464 [==============================] - 0s 845us/sample - loss: 0.1712 - acc: 0.9332 - val_loss: 16.5094 - val_acc: 0.2672\n",
      "Epoch 70/100\n",
      "464/464 [==============================] - 0s 834us/sample - loss: 0.1753 - acc: 0.9375 - val_loss: 15.2731 - val_acc: 0.2845\n",
      "Epoch 71/100\n",
      "464/464 [==============================] - 0s 859us/sample - loss: 0.1935 - acc: 0.9289 - val_loss: 16.9426 - val_acc: 0.2759\n",
      "Epoch 72/100\n",
      "464/464 [==============================] - 0s 857us/sample - loss: 0.1546 - acc: 0.9397 - val_loss: 18.0864 - val_acc: 0.2759\n",
      "Epoch 73/100\n",
      "464/464 [==============================] - 0s 815us/sample - loss: 0.1942 - acc: 0.9224 - val_loss: 18.4182 - val_acc: 0.2759\n",
      "Epoch 74/100\n",
      "464/464 [==============================] - 0s 838us/sample - loss: 0.2285 - acc: 0.9224 - val_loss: 17.0753 - val_acc: 0.2845\n",
      "Epoch 75/100\n",
      "464/464 [==============================] - 0s 875us/sample - loss: 0.1825 - acc: 0.9289 - val_loss: 19.1042 - val_acc: 0.2759\n",
      "Epoch 76/100\n",
      "464/464 [==============================] - 0s 852us/sample - loss: 0.1840 - acc: 0.9375 - val_loss: 16.2812 - val_acc: 0.2845\n",
      "Epoch 77/100\n",
      "464/464 [==============================] - 0s 845us/sample - loss: 0.2251 - acc: 0.9246 - val_loss: 19.7322 - val_acc: 0.2759\n",
      "Epoch 78/100\n",
      "464/464 [==============================] - 0s 850us/sample - loss: 0.1872 - acc: 0.9353 - val_loss: 18.5166 - val_acc: 0.2845\n",
      "Epoch 79/100\n",
      "464/464 [==============================] - 0s 888us/sample - loss: 0.1857 - acc: 0.9203 - val_loss: 17.6231 - val_acc: 0.2931\n",
      "Epoch 80/100\n",
      "464/464 [==============================] - 0s 890us/sample - loss: 0.2887 - acc: 0.8966 - val_loss: 16.5201 - val_acc: 0.2931\n",
      "Epoch 81/100\n",
      "464/464 [==============================] - 0s 905us/sample - loss: 0.1993 - acc: 0.9289 - val_loss: 14.8542 - val_acc: 0.3017\n",
      "Epoch 82/100\n",
      "464/464 [==============================] - 0s 866us/sample - loss: 0.2250 - acc: 0.9289 - val_loss: 14.8934 - val_acc: 0.2931\n",
      "Epoch 83/100\n",
      "464/464 [==============================] - 0s 882us/sample - loss: 0.1659 - acc: 0.9418 - val_loss: 14.1017 - val_acc: 0.3017\n",
      "Epoch 84/100\n",
      "464/464 [==============================] - 0s 855us/sample - loss: 0.1889 - acc: 0.9353 - val_loss: 14.8522 - val_acc: 0.2931\n",
      "Epoch 85/100\n",
      "464/464 [==============================] - 0s 840us/sample - loss: 0.2493 - acc: 0.9073 - val_loss: 16.2192 - val_acc: 0.2845\n",
      "Epoch 86/100\n",
      "464/464 [==============================] - 0s 773us/sample - loss: 0.2261 - acc: 0.9267 - val_loss: 18.4866 - val_acc: 0.2845\n",
      "Epoch 87/100\n",
      "464/464 [==============================] - 0s 828us/sample - loss: 0.2129 - acc: 0.9224 - val_loss: 17.4674 - val_acc: 0.2759\n",
      "Epoch 88/100\n",
      "464/464 [==============================] - 0s 875us/sample - loss: 0.1876 - acc: 0.9418 - val_loss: 16.6918 - val_acc: 0.2759\n",
      "Epoch 89/100\n",
      "464/464 [==============================] - 0s 905us/sample - loss: 0.2315 - acc: 0.9073 - val_loss: 18.4393 - val_acc: 0.2931\n",
      "Epoch 90/100\n",
      "464/464 [==============================] - 0s 903us/sample - loss: 0.2301 - acc: 0.9224 - val_loss: 15.2553 - val_acc: 0.2931\n",
      "Epoch 91/100\n",
      "464/464 [==============================] - 0s 851us/sample - loss: 0.1693 - acc: 0.9375 - val_loss: 15.7854 - val_acc: 0.2931\n",
      "Epoch 92/100\n",
      "464/464 [==============================] - 0s 879us/sample - loss: 0.2189 - acc: 0.9181 - val_loss: 17.9886 - val_acc: 0.2931\n",
      "Epoch 93/100\n",
      "464/464 [==============================] - 0s 894us/sample - loss: 0.2655 - acc: 0.9073 - val_loss: 16.2622 - val_acc: 0.2845\n",
      "Epoch 94/100\n",
      "464/464 [==============================] - 0s 904us/sample - loss: 0.3062 - acc: 0.8944 - val_loss: 15.3413 - val_acc: 0.2845\n",
      "Epoch 95/100\n",
      "464/464 [==============================] - 0s 795us/sample - loss: 0.2617 - acc: 0.9116 - val_loss: 15.6793 - val_acc: 0.2845\n",
      "Epoch 96/100\n",
      "464/464 [==============================] - 0s 812us/sample - loss: 0.1997 - acc: 0.9246 - val_loss: 15.0466 - val_acc: 0.2845\n",
      "Epoch 97/100\n",
      "464/464 [==============================] - 0s 833us/sample - loss: 0.1745 - acc: 0.9418 - val_loss: 16.7653 - val_acc: 0.2672\n",
      "Epoch 98/100\n",
      "464/464 [==============================] - 0s 864us/sample - loss: 0.1677 - acc: 0.9353 - val_loss: 16.9647 - val_acc: 0.2672\n",
      "Epoch 99/100\n",
      "464/464 [==============================] - 0s 865us/sample - loss: 0.1986 - acc: 0.9332 - val_loss: 17.3336 - val_acc: 0.2672\n",
      "Epoch 100/100\n",
      "464/464 [==============================] - 0s 898us/sample - loss: 0.2981 - acc: 0.9073 - val_loss: 15.6583 - val_acc: 0.2845\n"
     ]
    }
   ],
   "source": [
    "# And we train the two last layers\n",
    "# This is classic fine tuning\n",
    "vm.model.train(X_savee_train, Y_savee_train, batch_size=10, validation_data=(X_savee_test, Y_savee_test), epoch=100)"
   ]
  },
  {
   "cell_type": "code",
   "execution_count": 61,
   "metadata": {},
   "outputs": [
    {
     "name": "stdout",
     "output_type": "stream",
     "text": [
      "[[31  0  0  0  0  1]\n",
      " [19  0  0  0  0  0]\n",
      " [19  0  0  0  0  1]\n",
      " [ 6  0  0  0  0  0]\n",
      " [13  0  0  0  0  0]\n",
      " [24  0  0  0  0  2]]\n",
      "              precision    recall  f1-score   support\n",
      "\n",
      "        calm       0.28      0.97      0.43        32\n",
      "       happy       0.00      0.00      0.00        19\n",
      "       angry       0.00      0.00      0.00        20\n",
      "     fearful       0.00      0.00      0.00         6\n",
      "   surprised       0.00      0.00      0.00        13\n",
      "         sad       0.50      0.08      0.13        26\n",
      "\n",
      "    accuracy                           0.28       116\n",
      "   macro avg       0.13      0.17      0.09       116\n",
      "weighted avg       0.19      0.28      0.15       116\n",
      "\n"
     ]
    }
   ],
   "source": [
    "print_metrics(X_savee_test, Y_savee_test, emotion_list)"
   ]
  }
 ],
 "metadata": {
  "kernelspec": {
   "display_name": "Python 3",
   "language": "python",
   "name": "python3"
  },
  "language_info": {
   "codemirror_mode": {
    "name": "ipython",
    "version": 3
   },
   "file_extension": ".py",
   "mimetype": "text/x-python",
   "name": "python",
   "nbconvert_exporter": "python",
   "pygments_lexer": "ipython3",
   "version": "3.6.9"
  }
 },
 "nbformat": 4,
 "nbformat_minor": 4
}
