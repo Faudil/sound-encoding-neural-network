{
 "cells": [
  {
   "cell_type": "code",
   "execution_count": 2,
   "metadata": {},
   "outputs": [],
   "source": [
    "# Import phase if every import is here it is to allow you to run this cell and know if you have any issue and not after a few hours of training\n",
    "\n",
    "import tensorflow\n",
    "from tensorflow import keras\n",
    "import os\n",
    "import numpy as np\n",
    "import librosa\n",
    "\n",
    "from sklearn.model_selection import train_test_split\n",
    "import matplotlib.pyplot as plt\n",
    "\n",
    "\n",
    "from keras_preprocessing.sequence import pad_sequences\n",
    "from tensorflow.keras.callbacks import Callback\n",
    "from tensorflow.keras.layers import Dense, Dropout, Conv1D, Activation, Flatten, MaxPooling1D, BatchNormalization, LSTM, GaussianNoise\n",
    "from tensorflow.keras.models import Sequential\n",
    "\n",
    "\n",
    "from src.VoiceModule import VoiceModule\n",
    "from src.classifiers.KerasClassifier import KerasClassifier\n",
    "from prepare_data_utils import load_wav, preprare_wav, split_sample\n"
   ]
  },
  {
   "cell_type": "code",
   "execution_count": 4,
   "metadata": {},
   "outputs": [
    {
     "name": "stdout",
     "output_type": "stream",
     "text": [
      "down\n",
      "tree\n",
      "_background_noise_\n",
      "go\n",
      "house\n",
      "validation_list.txt\n",
      "eight\n",
      "up\n",
      "bed\n",
      "two\n",
      "dog\n",
      "no\n",
      "bird\n",
      "five\n",
      "marvin\n",
      "seven\n",
      "four\n",
      "visual\n",
      "happy\n",
      "nine\n",
      "data_speech_commands_v0.02.tar.gz\n",
      "off\n",
      "yes\n",
      "forward\n",
      "follow\n",
      "README.md\n",
      "cat\n",
      "three\n",
      "on\n",
      "right\n",
      "backward\n",
      "testing_list.txt\n",
      "sheila\n",
      "wow\n",
      ".DS_Store\n",
      "stop\n",
      "one\n",
      "zero\n",
      "six\n",
      "learn\n",
      "LICENSE\n",
      "left\n"
     ]
    }
   ],
   "source": [
    "# print environment\n",
    "folder_path = \"../../data/keywords\"\n",
    "for l in os.listdir(folder_path):\n",
    "    print(l)"
   ]
  },
  {
   "cell_type": "code",
   "execution_count": 3,
   "metadata": {},
   "outputs": [],
   "source": [
    "# Transform data method\n",
    "\n",
    "def mfcc(buffer, samplerate, dim):\n",
    "    a = librosa.feature.mfcc(y=buffer, sr=samplerate, n_mfcc=dim)\n",
    "    a = np.transpose(a)\n",
    "    return a\n"
   ]
  },
  {
   "cell_type": "code",
   "execution_count": 4,
   "metadata": {},
   "outputs": [],
   "source": [
    "# Create callback to later draw some graphs\n",
    "\n",
    "class PerformanceLogger(Callback):\n",
    "    def __init__(self):\n",
    "        # List of tuple (loss, accuracy)\n",
    "        self.training = []\n",
    "        self.testing = []\n",
    "    def on_epoch_end(self, epoch, logs=None):\n",
    "        self.training.append((logs[\"loss\"], logs[\"acc\"]))\n",
    "        self.testing.append((logs[\"val_loss\"], logs[\"val_acc\"]))"
   ]
  },
  {
   "cell_type": "code",
   "execution_count": 18,
   "metadata": {},
   "outputs": [],
   "source": [
    "# Create class\n",
    "class EmotionClassifierCnn(KerasClassifier):\n",
    "    def __init__(self, file_path=None):\n",
    "        super().__init__(file_path)\n",
    "\n",
    "    def predict(self, x):\n",
    "        x = np.expand_dims(np.array([x]), axis=2)\n",
    "        return self._model.predict(x)\n",
    "\n",
    "    def build(self):\n",
    "        model = Sequential()\n",
    "        # Adding noise to the training data\n",
    "        model.add(GaussianNoise(0.2))\n",
    "        \n",
    "        # feature Extraction layers\n",
    "        model.add(BatchNormalization())\n",
    "        model.add(LSTM(256))\n",
    "        \n",
    "        # End of the neuron and classification part\n",
    "        model.add(Dropout(0.4))\n",
    "        model.add(Flatten())\n",
    "        model.add(BatchNormalization())\n",
    "        model.add(Dense(128))\n",
    "        model.add(Dense(35))\n",
    "        model.add(Activation('softmax'))\n",
    "        model.compile(loss='categorical_crossentropy', optimizer='adam', metrics=['accuracy'])\n",
    "        self._model = model\n",
    "        \n",
    "    def train(self, X, Y, batch_size=32, epoch=720, validation_data=None, callbacks=[]):\n",
    "        self._model.fit(X, Y, batch_size=batch_size, epochs=epoch, validation_data=validation_data, callbacks=callbacks)\n",
    "\n",
    "    def transform(self, x, samplerate):\n",
    "        to_process = mfcc(x, samplerate, 13)\n",
    "        to_process = pad_sequences([to_process], maxlen=50, padding='post')[0]\n",
    "        return to_process\n"
   ]
  },
  {
   "cell_type": "code",
   "execution_count": 14,
   "metadata": {},
   "outputs": [
    {
     "name": "stdout",
     "output_type": "stream",
     "text": [
      "35\n"
     ]
    }
   ],
   "source": [
    "#Instanciate model\n",
    "digit_list = [\"zero\", \"one\", \"two\", \"three\", \"four\", \"five\", \"six\", \"seven\", \"eight\", \"nine\"]\n",
    "keyword_list = [\"backward\", \"bed\", \"bird\", \"cat\", \"dog\", \"down\", \"follow\", \"forward\",\n",
    "               \"go\", \"happy\", \"house\", \"learn\", \"left\", \"marvin\", \"no\", \"off\", \"on\",\n",
    "               \"right\", \"sheila\", \"stop\", \"tree\", \"up\", \"visual\", \"wow\", \"yes\"] + digit_list\n",
    "print(len(keyword_list))\n",
    "dimension_mfcc = 13\n",
    "samplerate = 16000\n",
    "nb_break=None\n",
    "sample_duration=1\n",
    "step=1\n",
    "\n",
    "logger = PerformanceLogger()\n",
    "\n",
    "cls = EmotionClassifierCnn()\n",
    "vm = VoiceModule(\"digit\", keyword_list, cls)"
   ]
  },
  {
   "cell_type": "code",
   "execution_count": 39,
   "metadata": {},
   "outputs": [
    {
     "name": "stdout",
     "output_type": "stream",
     "text": [
      "Doing backward\n",
      "Doing bed\n",
      "Doing bird\n",
      "Doing cat\n",
      "Doing dog\n",
      "Doing down\n",
      "Doing follow\n",
      "Doing forward\n",
      "Doing go\n",
      "Doing happy\n",
      "Doing house\n",
      "Doing learn\n",
      "Doing left\n",
      "Doing marvin\n",
      "Doing no\n",
      "Doing off\n",
      "Doing on\n",
      "Doing right\n",
      "Doing sheila\n",
      "Doing stop\n",
      "Doing tree\n",
      "Doing up\n",
      "Doing visual\n",
      "Doing wow\n",
      "Doing yes\n",
      "Doing zero\n",
      "Doing one\n",
      "Doing two\n",
      "Doing three\n",
      "Doing four\n",
      "Doing five\n",
      "Doing six\n",
      "Doing seven\n",
      "Doing eight\n",
      "Doing nine\n",
      "Done (95394, 50, 13)\n"
     ]
    }
   ],
   "source": [
    "# Prepare data for training\n",
    "data = {f: load_wav(f\"{folder_path}/{f}\", nb_break) for f in keyword_list}\n",
    "X, Y = preprare_wav(data, vm, sample_duration, step)\n",
    "print(\"Done\", X.shape)"
   ]
  },
  {
   "cell_type": "code",
   "execution_count": 7,
   "metadata": {},
   "outputs": [],
   "source": [
    "X_file = f\"x_{'_'.join(keyword_list)}-{vm._name}.npy\"\n",
    "Y_file = f\"y_{'_'.join(keyword_list)}.npy\""
   ]
  },
  {
   "cell_type": "code",
   "execution_count": 53,
   "metadata": {},
   "outputs": [],
   "source": [
    "# Saving the prepared input data \n",
    "np.save(X_file, X)\n",
    "np.save(Y_file, Y)\n"
   ]
  },
  {
   "cell_type": "code",
   "execution_count": 8,
   "metadata": {},
   "outputs": [],
   "source": [
    "# Load data for training\n",
    "X, Y = np.load(X_file), np.load(Y_file)\n"
   ]
  },
  {
   "cell_type": "code",
   "execution_count": 15,
   "metadata": {},
   "outputs": [
    {
     "name": "stdout",
     "output_type": "stream",
     "text": [
      "(95394, 50, 13)\n",
      "76315 19079\n",
      "(50, 13)\n",
      "float32\n"
     ]
    }
   ],
   "source": [
    "\"\"\"train_size = 80 * len(X) // 100\n",
    "test_size = 20 * len(X) // 100\n",
    "#X = np.expand_dims(X, axis=3)\n",
    "X_train, X_test, = X[:train_size], X[train_size:]\n",
    "Y_train, Y_test = Y[:train_size], Y[train_size:]\"\"\"\n",
    "X = X.astype('float32')\n",
    "print(X.shape)\n",
    "X_train, X_test, Y_train, Y_test = train_test_split(X, Y, test_size=0.2, random_state=42)\n",
    "print(len(X_train), len(X_test))\n",
    "\n",
    "print(X[0].shape)\n",
    "print( X.dtype)"
   ]
  },
  {
   "cell_type": "code",
   "execution_count": 16,
   "metadata": {},
   "outputs": [
    {
     "name": "stdout",
     "output_type": "stream",
     "text": [
      "Train on 76315 samples, validate on 19079 samples\n",
      "Epoch 1/20\n",
      "76315/76315 [==============================] - 74s 974us/sample - loss: 2.7047 - acc: 0.2158 - val_loss: 2.6762 - val_acc: 0.3762\n",
      "Epoch 2/20\n",
      "76315/76315 [==============================] - 72s 942us/sample - loss: 1.3742 - acc: 0.5772 - val_loss: 1.5348 - val_acc: 0.6868\n",
      "Epoch 3/20\n",
      "76315/76315 [==============================] - 72s 949us/sample - loss: 0.8660 - acc: 0.7402 - val_loss: 0.9341 - val_acc: 0.7820\n",
      "Epoch 4/20\n",
      "76315/76315 [==============================] - 72s 948us/sample - loss: 0.6545 - acc: 0.8037 - val_loss: 0.6731 - val_acc: 0.8125\n",
      "Epoch 5/20\n",
      "76315/76315 [==============================] - 70s 916us/sample - loss: 0.5480 - acc: 0.8355 - val_loss: 0.5730 - val_acc: 0.8335\n",
      "Epoch 6/20\n",
      "76315/76315 [==============================] - 61s 805us/sample - loss: 0.4669 - acc: 0.8592 - val_loss: 0.5164 - val_acc: 0.8456\n",
      "Epoch 7/20\n",
      "76315/76315 [==============================] - 62s 818us/sample - loss: 0.4182 - acc: 0.8747 - val_loss: 0.4499 - val_acc: 0.8647\n",
      "Epoch 8/20\n",
      "76315/76315 [==============================] - 68s 894us/sample - loss: 0.3661 - acc: 0.8878 - val_loss: 0.4151 - val_acc: 0.8772\n",
      "Epoch 9/20\n",
      "76315/76315 [==============================] - 69s 906us/sample - loss: 0.3376 - acc: 0.8980 - val_loss: 0.3938 - val_acc: 0.8822\n",
      "Epoch 10/20\n",
      "76315/76315 [==============================] - 70s 923us/sample - loss: 0.3093 - acc: 0.9066 - val_loss: 0.4127 - val_acc: 0.8781\n",
      "Epoch 11/20\n",
      "76315/76315 [==============================] - 70s 918us/sample - loss: 0.2821 - acc: 0.9143 - val_loss: 0.3748 - val_acc: 0.8881\n",
      "Epoch 12/20\n",
      "76315/76315 [==============================] - 68s 896us/sample - loss: 0.2565 - acc: 0.9220 - val_loss: 0.3784 - val_acc: 0.8948\n",
      "Epoch 13/20\n",
      "76315/76315 [==============================] - 68s 897us/sample - loss: 0.2438 - acc: 0.9245 - val_loss: 0.3789 - val_acc: 0.8932\n",
      "Epoch 14/20\n",
      "76315/76315 [==============================] - 71s 933us/sample - loss: 0.2223 - acc: 0.9321 - val_loss: 0.3727 - val_acc: 0.8954\n",
      "Epoch 15/20\n",
      "76315/76315 [==============================] - 70s 923us/sample - loss: 0.2031 - acc: 0.9377 - val_loss: 0.3520 - val_acc: 0.9024\n",
      "Epoch 16/20\n",
      "76315/76315 [==============================] - 70s 919us/sample - loss: 0.1852 - acc: 0.9433 - val_loss: 0.3508 - val_acc: 0.9030\n",
      "Epoch 17/20\n",
      "76315/76315 [==============================] - 70s 923us/sample - loss: 0.1776 - acc: 0.9460 - val_loss: 0.3506 - val_acc: 0.9050\n",
      "Epoch 18/20\n",
      "76315/76315 [==============================] - 69s 910us/sample - loss: 0.1709 - acc: 0.9475 - val_loss: 0.3952 - val_acc: 0.8975\n",
      "Epoch 19/20\n",
      "76315/76315 [==============================] - 70s 915us/sample - loss: 0.1522 - acc: 0.9533 - val_loss: 0.3700 - val_acc: 0.9022\n",
      "Epoch 20/20\n",
      "76315/76315 [==============================] - 69s 909us/sample - loss: 0.1458 - acc: 0.9547 - val_loss: 0.3699 - val_acc: 0.9080\n"
     ]
    }
   ],
   "source": [
    "vm.model.train(X_train, Y_train, batch_size=1024, epoch=20, validation_data=(X_test, Y_test), callbacks=[logger])"
   ]
  },
  {
   "cell_type": "code",
   "execution_count": 62,
   "metadata": {},
   "outputs": [
    {
     "data": {
      "image/png": "[encoded data removed]",
      "text/plain": [
       "<matplotlib.figure.Figure at 0x7f9f045d4828>"
      ]
     },
     "metadata": {
      "needs_background": "light"
     },
     "output_type": "display_data"
    }
   ],
   "source": [
    "\n",
    "plt.plot(list(range(0, len(logger.training))), list(map(lambda x:x[1], logger.training)), label=\"training data\")\n",
    "plt.plot(list(range(0, len(logger.testing))), list(map(lambda x:x[1], logger.testing)), label=\"testing data\")\n",
    "plt.xlabel('epochs')\n",
    "plt.ylabel('accuracy')\n",
    "plt.show()"
   ]
  }
 ],
 "metadata": {
  "kernelspec": {
   "display_name": "Python 3",
   "language": "python",
   "name": "python3"
  },
  "language_info": {
   "codemirror_mode": {
    "name": "ipython",
    "version": 3
   },
   "file_extension": ".py",
   "mimetype": "text/x-python",
   "name": "python",
   "nbconvert_exporter": "python",
   "pygments_lexer": "ipython3",
   "version": "3.6.9"
  }
 },
 "nbformat": 4,
 "nbformat_minor": 4
}
