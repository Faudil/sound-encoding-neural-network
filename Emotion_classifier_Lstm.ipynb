{
 "cells": [
  {
   "cell_type": "code",
   "execution_count": 23,
   "metadata": {},
   "outputs": [],
   "source": [
    "# Import phase if every import is here it is to allow you to run this cell and know if you have any issue and not after a few hours of training\n",
    "\n",
    "import tensorflow\n",
    "from tensorflow import keras\n",
    "import os\n",
    "import numpy as np\n",
    "import librosa\n",
    "\n",
    "from sklearn.model_selection import train_test_split\n",
    "from sklearn.metrics import classification_report, confusion_matrix\n",
    "import matplotlib.pyplot as plt\n",
    "\n",
    "\n",
    "from keras_preprocessing.sequence import pad_sequences\n",
    "from tensorflow.keras.callbacks import Callback\n",
    "from tensorflow.keras.layers import Dense, Dropout, Conv1D, Activation, Flatten, MaxPooling1D, BatchNormalization, LSTM, GaussianNoise\n",
    "from tensorflow.keras.models import Sequential\n",
    "\n",
    "\n",
    "from src.VoiceModule import VoiceModule\n",
    "from src.classifiers.KerasClassifier import KerasClassifier\n",
    "from prepare_data_utils import load_wav, preprare_wav\n"
   ]
  },
  {
   "cell_type": "code",
   "execution_count": null,
   "metadata": {},
   "outputs": [],
   "source": []
  },
  {
   "cell_type": "code",
   "execution_count": 34,
   "metadata": {},
   "outputs": [
    {
     "name": "stdout",
     "output_type": "stream",
     "text": [
      "bdes.zip\n",
      "fearful\n",
      "savee\n",
      "calm\n",
      "happy\n",
      "surprised\n",
      "angry\n",
      "sad\n",
      "keywords\n"
     ]
    }
   ],
   "source": [
    "# print environment\n",
    "folder_path = \"../../data\"\n",
    "for l in os.listdir(folder_path):\n",
    "    print(l)"
   ]
  },
  {
   "cell_type": "code",
   "execution_count": 4,
   "metadata": {},
   "outputs": [],
   "source": [
    "# Transform data method\n",
    "\n",
    "def mfcc(buffer, samplerate, dim):\n",
    "    a = librosa.feature.mfcc(y=buffer, sr=samplerate, n_mfcc=dim)\n",
    "    a = np.transpose(a)\n",
    "    return a\n"
   ]
  },
  {
   "cell_type": "code",
   "execution_count": 5,
   "metadata": {},
   "outputs": [],
   "source": [
    "# Create callback to later draw some graphs\n",
    "\n",
    "class PerformanceLogger(Callback):\n",
    "    def __init__(self):\n",
    "        # List of tuple (loss, accuracy)\n",
    "        self.training = []\n",
    "        self.testing = []\n",
    "    def on_epoch_end(self, epoch, logs=None):\n",
    "        self.training.append((logs[\"loss\"], logs[\"acc\"]))\n",
    "        self.testing.append((logs[\"val_loss\"], logs[\"val_acc\"]))"
   ]
  },
  {
   "cell_type": "code",
   "execution_count": 31,
   "metadata": {},
   "outputs": [],
   "source": [
    "# This function prints metrics about a model\n",
    "def print_metrics(X, Y, label_name_list):\n",
    "    Y_pred = vm.model._model.predict(X)\n",
    "    Y_pred = np.argmax(Y_pred, axis=1)\n",
    "    Y_max = np.argmax(Y, axis=1)\n",
    "    print(confusion_matrix(Y_max, Y_pred))\n",
    "    print(classification_eport(Y_max, Y_pred, target_names=label_name_list))\n"
   ]
  },
  {
   "cell_type": "code",
   "execution_count": 6,
   "metadata": {},
   "outputs": [],
   "source": [
    "# Create class\n",
    "class EmotionClassifierLstm(KerasClassifier):\n",
    "    def __init__(self, file_path=None):\n",
    "        super().__init__(file_path)\n",
    "\n",
    "    def predict(self, x):\n",
    "        x = np.expand_dims(np.array([x]), axis=2)\n",
    "        return self._model.predict(x)\n",
    "\n",
    "    def build(self):\n",
    "        model = Sequential()\n",
    "        model.add(GaussianNoise(0.4))\n",
    "        model.add(BatchNormalization())\n",
    "        model.add(LSTM(128, input_shape=(70, 13)))\n",
    "        model.add(Activation('relu'))\n",
    "        model.add(Flatten())\n",
    "        model.add(Dropout(0.4))\n",
    "        model.add(Dense(64))\n",
    "        model.add(Dense(6))\n",
    "        model.add(Activation('softmax'))\n",
    "        model.compile(loss='categorical_crossentropy', optimizer='adam', metrics=['accuracy'])\n",
    "        self._model = model\n",
    "        \n",
    "    def train(self, X, Y, batch_size=32, epoch=720, validation_data=None, callbacks=[]):\n",
    "        self._model.fit(X, Y, batch_size=batch_size, epochs=epoch, validation_data=validation_data, callbacks=callbacks)\n",
    "\n",
    "    def transform(self, x, samplerate):\n",
    "        to_process = mfcc(x, samplerate, 13)\n",
    "        to_process = pad_sequences([to_process], maxlen=70, padding='post')[0]\n",
    "        return to_process\n"
   ]
  },
  {
   "cell_type": "code",
   "execution_count": 7,
   "metadata": {},
   "outputs": [
    {
     "name": "stdout",
     "output_type": "stream",
     "text": [
      "WARNING:tensorflow:From /home/arc/fdp5/.local/lib/python3.6/site-packages/tensorflow/python/ops/init_ops.py:1251: calling VarianceScaling.__init__ (from tensorflow.python.ops.init_ops) with dtype is deprecated and will be removed in a future version.\n",
      "Instructions for updating:\n",
      "Call initializer instance with the dtype argument instead of passing it to the constructor\n"
     ]
    }
   ],
   "source": [
    "#Instanciate model\n",
    "emotion_list = [\"calm\", \"happy\", \"angry\", \"fearful\", \"surprised\", \"sad\"]\n",
    "dimension_mfcc = 13\n",
    "samplerate = 16000\n",
    "nb_break=None\n",
    "sample_duration=2\n",
    "step=2\n",
    "\n",
    "logger = PerformanceLogger()\n",
    "\n",
    "cls = EmotionClassifierLstm()\n",
    "vm = VoiceModule(\"emotion\", emotion_list, cls)"
   ]
  },
  {
   "cell_type": "code",
   "execution_count": 10,
   "metadata": {},
   "outputs": [
    {
     "name": "stdout",
     "output_type": "stream",
     "text": [
      "Doing calm\n",
      "Doing happy\n",
      "Doing angry\n",
      "Doing fearful\n",
      "Doing surprised\n",
      "Doing sad\n",
      "Done\n"
     ]
    }
   ],
   "source": [
    "# Prepare data for training\n",
    "data = {f: load_wav(f\"{folder_path}/{f}\", nb_break) for f in emotion_list}\n",
    "X, Y = preprare_wav(data, vm, sample_duration, step)\n",
    "print(\"Done\")"
   ]
  },
  {
   "cell_type": "code",
   "execution_count": 11,
   "metadata": {},
   "outputs": [],
   "source": [
    "X_file = f\"x_{'_'.join(emotion_list)}-{vm._name}.npy\"\n",
    "Y_file = f\"y_{'_'.join(emotion_list)}.npy\""
   ]
  },
  {
   "cell_type": "code",
   "execution_count": 12,
   "metadata": {},
   "outputs": [],
   "source": [
    "# Saving the prepared input data \n",
    "np.save(X_file, X)\n",
    "np.save(Y_file, Y)\n"
   ]
  },
  {
   "cell_type": "code",
   "execution_count": 13,
   "metadata": {},
   "outputs": [],
   "source": [
    "# Load data for training\n",
    "X, Y = np.load(X_file), np.load(Y_file)"
   ]
  },
  {
   "cell_type": "code",
   "execution_count": 14,
   "metadata": {},
   "outputs": [
    {
     "name": "stdout",
     "output_type": "stream",
     "text": [
      "1063 266\n",
      "(70, 13)\n",
      "float32\n"
     ]
    }
   ],
   "source": [
    "\"\"\"train_size = 80 * len(X) // 100\n",
    "test_size = 20 * len(X) // 100\n",
    "#X = np.expand_dims(X, axis=3)\n",
    "X_train, X_test, = X[:train_size], X[train_size:]\n",
    "Y_train, Y_test = Y[:train_size], Y[train_size:]\"\"\"\n",
    "X = X.astype('float32')\n",
    "X_train, X_test, Y_train, Y_test = train_test_split(X, Y, test_size=0.2, random_state=42)\n",
    "print(len(X_train), len(X_test))\n",
    "\n",
    "print(X[0].shape)\n",
    "print( X.dtype)"
   ]
  },
  {
   "cell_type": "code",
   "execution_count": 38,
   "metadata": {},
   "outputs": [
    {
     "name": "stdout",
     "output_type": "stream",
     "text": [
      "Train on 1063 samples, validate on 266 samples\n",
      "Epoch 1/100\n",
      "1063/1063 [==============================] - 4s 4ms/sample - loss: 0.0682 - acc: 0.9840 - val_loss: 2.0110 - val_acc: 0.6842\n",
      "Epoch 2/100\n",
      "1063/1063 [==============================] - 2s 2ms/sample - loss: 0.0628 - acc: 0.9802 - val_loss: 2.0246 - val_acc: 0.6805\n",
      "Epoch 3/100\n",
      "1063/1063 [==============================] - 2s 2ms/sample - loss: 0.0435 - acc: 0.9878 - val_loss: 2.0958 - val_acc: 0.6767\n",
      "Epoch 4/100\n",
      "1063/1063 [==============================] - 2s 2ms/sample - loss: 0.0536 - acc: 0.9840 - val_loss: 2.1584 - val_acc: 0.6617\n",
      "Epoch 5/100\n",
      "1063/1063 [==============================] - 2s 2ms/sample - loss: 0.1263 - acc: 0.9699 - val_loss: 1.7572 - val_acc: 0.7105\n",
      "Epoch 6/100\n",
      "1063/1063 [==============================] - 2s 2ms/sample - loss: 0.0760 - acc: 0.9812 - val_loss: 1.8660 - val_acc: 0.6617\n",
      "Epoch 7/100\n",
      "1063/1063 [==============================] - 2s 2ms/sample - loss: 0.0519 - acc: 0.9831 - val_loss: 1.9330 - val_acc: 0.6617\n",
      "Epoch 8/100\n",
      "1063/1063 [==============================] - 2s 2ms/sample - loss: 0.0438 - acc: 0.9897 - val_loss: 2.0381 - val_acc: 0.6466\n",
      "Epoch 9/100\n",
      "1063/1063 [==============================] - 2s 2ms/sample - loss: 0.0338 - acc: 0.9953 - val_loss: 1.8770 - val_acc: 0.6767\n",
      "Epoch 10/100\n",
      "1063/1063 [==============================] - 2s 2ms/sample - loss: 0.0281 - acc: 0.9915 - val_loss: 1.9327 - val_acc: 0.6654\n",
      "Epoch 11/100\n",
      "1063/1063 [==============================] - 2s 2ms/sample - loss: 0.0465 - acc: 0.9859 - val_loss: 2.0316 - val_acc: 0.6541\n",
      "Epoch 12/100\n",
      "1063/1063 [==============================] - 2s 2ms/sample - loss: 0.0395 - acc: 0.9906 - val_loss: 1.9035 - val_acc: 0.6767\n",
      "Epoch 13/100\n",
      "1063/1063 [==============================] - 2s 2ms/sample - loss: 0.0283 - acc: 0.9915 - val_loss: 1.9071 - val_acc: 0.6805\n",
      "Epoch 14/100\n",
      "1063/1063 [==============================] - 2s 2ms/sample - loss: 0.0468 - acc: 0.9868 - val_loss: 1.9412 - val_acc: 0.6842\n",
      "Epoch 15/100\n",
      "1063/1063 [==============================] - 2s 2ms/sample - loss: 0.0340 - acc: 0.9878 - val_loss: 2.1798 - val_acc: 0.6541\n",
      "Epoch 16/100\n",
      "1063/1063 [==============================] - 2s 2ms/sample - loss: 0.0248 - acc: 0.9906 - val_loss: 2.0890 - val_acc: 0.6880\n",
      "Epoch 17/100\n",
      "1063/1063 [==============================] - 2s 2ms/sample - loss: 0.0188 - acc: 0.9944 - val_loss: 2.1748 - val_acc: 0.7030\n",
      "Epoch 18/100\n",
      "1063/1063 [==============================] - 2s 2ms/sample - loss: 0.0191 - acc: 0.9953 - val_loss: 2.0620 - val_acc: 0.6917\n",
      "Epoch 19/100\n",
      "1063/1063 [==============================] - 2s 2ms/sample - loss: 0.0355 - acc: 0.9906 - val_loss: 2.0120 - val_acc: 0.6955\n",
      "Epoch 20/100\n",
      "1063/1063 [==============================] - 2s 2ms/sample - loss: 0.0403 - acc: 0.9934 - val_loss: 2.2000 - val_acc: 0.6504\n",
      "Epoch 21/100\n",
      "1063/1063 [==============================] - 2s 2ms/sample - loss: 0.0266 - acc: 0.9934 - val_loss: 1.8242 - val_acc: 0.6880\n",
      "Epoch 22/100\n",
      "1063/1063 [==============================] - 2s 2ms/sample - loss: 0.0192 - acc: 0.9934 - val_loss: 1.9510 - val_acc: 0.6842\n",
      "Epoch 23/100\n",
      "1063/1063 [==============================] - 2s 2ms/sample - loss: 0.0206 - acc: 0.9953 - val_loss: 2.1276 - val_acc: 0.6692\n",
      "Epoch 24/100\n",
      "1063/1063 [==============================] - 2s 2ms/sample - loss: 0.0159 - acc: 0.9953 - val_loss: 2.2268 - val_acc: 0.6654\n",
      "Epoch 25/100\n",
      "1063/1063 [==============================] - 2s 2ms/sample - loss: 0.0162 - acc: 0.9953 - val_loss: 2.3497 - val_acc: 0.6541\n",
      "Epoch 26/100\n",
      "1063/1063 [==============================] - 2s 2ms/sample - loss: 0.0060 - acc: 0.9972 - val_loss: 2.2442 - val_acc: 0.6466\n",
      "Epoch 27/100\n",
      "1063/1063 [==============================] - 2s 2ms/sample - loss: 0.0131 - acc: 0.9953 - val_loss: 2.1668 - val_acc: 0.6692\n",
      "Epoch 28/100\n",
      "1063/1063 [==============================] - 2s 2ms/sample - loss: 0.0051 - acc: 0.9991 - val_loss: 2.1968 - val_acc: 0.6767\n",
      "Epoch 29/100\n",
      "1063/1063 [==============================] - 3s 2ms/sample - loss: 0.0055 - acc: 0.9981 - val_loss: 2.2573 - val_acc: 0.6917\n",
      "Epoch 30/100\n",
      "1063/1063 [==============================] - 3s 2ms/sample - loss: 0.0064 - acc: 0.9972 - val_loss: 2.3019 - val_acc: 0.6692\n",
      "Epoch 31/100\n",
      "1063/1063 [==============================] - 3s 2ms/sample - loss: 0.0068 - acc: 0.9972 - val_loss: 2.2542 - val_acc: 0.6617\n",
      "Epoch 32/100\n",
      "1063/1063 [==============================] - 2s 2ms/sample - loss: 0.0020 - acc: 1.0000 - val_loss: 2.2449 - val_acc: 0.6579\n",
      "Epoch 33/100\n",
      "1063/1063 [==============================] - 2s 2ms/sample - loss: 0.0018 - acc: 1.0000 - val_loss: 2.2742 - val_acc: 0.6541\n",
      "Epoch 34/100\n",
      "1063/1063 [==============================] - 2s 2ms/sample - loss: 0.0023 - acc: 0.9991 - val_loss: 2.3160 - val_acc: 0.6541\n",
      "Epoch 35/100\n",
      "1063/1063 [==============================] - 2s 2ms/sample - loss: 0.0027 - acc: 0.9991 - val_loss: 2.3405 - val_acc: 0.6466\n",
      "Epoch 36/100\n",
      "1063/1063 [==============================] - 2s 2ms/sample - loss: 0.0018 - acc: 1.0000 - val_loss: 2.3402 - val_acc: 0.6767\n",
      "Epoch 37/100\n",
      "1063/1063 [==============================] - 2s 2ms/sample - loss: 0.0016 - acc: 1.0000 - val_loss: 2.3402 - val_acc: 0.6805\n",
      "Epoch 38/100\n",
      "1063/1063 [==============================] - 2s 2ms/sample - loss: 0.0011 - acc: 1.0000 - val_loss: 2.3092 - val_acc: 0.6692\n",
      "Epoch 39/100\n",
      "1063/1063 [==============================] - 2s 2ms/sample - loss: 0.0018 - acc: 1.0000 - val_loss: 2.3021 - val_acc: 0.6654\n",
      "Epoch 40/100\n",
      "1063/1063 [==============================] - 2s 2ms/sample - loss: 0.0013 - acc: 1.0000 - val_loss: 2.3429 - val_acc: 0.6617\n",
      "Epoch 41/100\n",
      "1063/1063 [==============================] - 2s 2ms/sample - loss: 0.0021 - acc: 1.0000 - val_loss: 2.3766 - val_acc: 0.6729\n",
      "Epoch 42/100\n",
      "1063/1063 [==============================] - 2s 2ms/sample - loss: 0.0019 - acc: 1.0000 - val_loss: 2.3966 - val_acc: 0.6692\n",
      "Epoch 43/100\n",
      "1063/1063 [==============================] - 2s 2ms/sample - loss: 0.0038 - acc: 0.9991 - val_loss: 2.4605 - val_acc: 0.6579\n",
      "Epoch 44/100\n",
      "1063/1063 [==============================] - 2s 2ms/sample - loss: 0.0129 - acc: 0.9981 - val_loss: 2.4369 - val_acc: 0.6767\n",
      "Epoch 45/100\n",
      "1063/1063 [==============================] - 2s 2ms/sample - loss: 0.0012 - acc: 1.0000 - val_loss: 2.3064 - val_acc: 0.6767\n",
      "Epoch 46/100\n",
      "1063/1063 [==============================] - 2s 2ms/sample - loss: 0.0013 - acc: 1.0000 - val_loss: 2.2786 - val_acc: 0.6842\n",
      "Epoch 47/100\n",
      "1063/1063 [==============================] - 2s 2ms/sample - loss: 0.0462 - acc: 0.9906 - val_loss: 2.5035 - val_acc: 0.6692\n",
      "Epoch 48/100\n",
      "1063/1063 [==============================] - 2s 2ms/sample - loss: 0.0573 - acc: 0.9878 - val_loss: 2.2406 - val_acc: 0.6729\n",
      "Epoch 49/100\n",
      "1063/1063 [==============================] - 2s 2ms/sample - loss: 0.1237 - acc: 0.9774 - val_loss: 2.2250 - val_acc: 0.6617\n",
      "Epoch 50/100\n",
      "1063/1063 [==============================] - 2s 2ms/sample - loss: 0.1410 - acc: 0.9614 - val_loss: 2.4950 - val_acc: 0.6165\n",
      "Epoch 51/100\n",
      "1063/1063 [==============================] - 2s 2ms/sample - loss: 0.2855 - acc: 0.9313 - val_loss: 1.9418 - val_acc: 0.6165\n",
      "Epoch 52/100\n",
      "1063/1063 [==============================] - 2s 2ms/sample - loss: 0.1369 - acc: 0.9614 - val_loss: 1.6621 - val_acc: 0.6617\n",
      "Epoch 53/100\n",
      "1063/1063 [==============================] - 2s 2ms/sample - loss: 0.0552 - acc: 0.9849 - val_loss: 1.5808 - val_acc: 0.6692\n",
      "Epoch 54/100\n",
      "1063/1063 [==============================] - 2s 2ms/sample - loss: 0.0392 - acc: 0.9925 - val_loss: 1.7555 - val_acc: 0.6692\n",
      "Epoch 55/100\n",
      "1063/1063 [==============================] - 2s 2ms/sample - loss: 0.0226 - acc: 0.9934 - val_loss: 1.8630 - val_acc: 0.6917\n",
      "Epoch 56/100\n",
      "1063/1063 [==============================] - 2s 2ms/sample - loss: 0.0332 - acc: 0.9897 - val_loss: 2.0103 - val_acc: 0.6541\n",
      "Epoch 57/100\n",
      "1063/1063 [==============================] - 2s 2ms/sample - loss: 0.0592 - acc: 0.9859 - val_loss: 1.9666 - val_acc: 0.6541\n",
      "Epoch 58/100\n",
      "1063/1063 [==============================] - 2s 2ms/sample - loss: 0.0406 - acc: 0.9887 - val_loss: 1.8676 - val_acc: 0.6842\n",
      "Epoch 59/100\n",
      "1063/1063 [==============================] - 2s 2ms/sample - loss: 0.0930 - acc: 0.9784 - val_loss: 1.9077 - val_acc: 0.6278\n",
      "Epoch 60/100\n"
     ]
    },
    {
     "name": "stdout",
     "output_type": "stream",
     "text": [
      "1063/1063 [==============================] - 2s 2ms/sample - loss: 0.1105 - acc: 0.9755 - val_loss: 1.5786 - val_acc: 0.6729\n",
      "Epoch 61/100\n",
      "1063/1063 [==============================] - 2s 2ms/sample - loss: 0.0312 - acc: 0.9887 - val_loss: 1.5099 - val_acc: 0.7030\n",
      "Epoch 62/100\n",
      "1063/1063 [==============================] - 2s 2ms/sample - loss: 0.0168 - acc: 0.9972 - val_loss: 1.5606 - val_acc: 0.7068\n",
      "Epoch 63/100\n",
      "1063/1063 [==============================] - 2s 2ms/sample - loss: 0.0126 - acc: 0.9972 - val_loss: 1.5625 - val_acc: 0.7105\n",
      "Epoch 64/100\n",
      "1063/1063 [==============================] - 2s 2ms/sample - loss: 0.0103 - acc: 0.9972 - val_loss: 1.5730 - val_acc: 0.7180\n",
      "Epoch 65/100\n",
      "1063/1063 [==============================] - 2s 2ms/sample - loss: 0.0084 - acc: 0.9981 - val_loss: 1.5653 - val_acc: 0.7218\n",
      "Epoch 66/100\n",
      "1063/1063 [==============================] - 2s 2ms/sample - loss: 0.0056 - acc: 0.9981 - val_loss: 1.5741 - val_acc: 0.7293\n",
      "Epoch 67/100\n",
      "1063/1063 [==============================] - 2s 2ms/sample - loss: 0.0051 - acc: 0.9991 - val_loss: 1.5979 - val_acc: 0.7256\n",
      "Epoch 68/100\n",
      "1063/1063 [==============================] - 2s 2ms/sample - loss: 0.0041 - acc: 0.9981 - val_loss: 1.6729 - val_acc: 0.6992\n",
      "Epoch 69/100\n",
      "1063/1063 [==============================] - 2s 2ms/sample - loss: 0.0019 - acc: 1.0000 - val_loss: 1.7045 - val_acc: 0.6992\n",
      "Epoch 70/100\n",
      "1063/1063 [==============================] - 2s 2ms/sample - loss: 0.0029 - acc: 1.0000 - val_loss: 1.7045 - val_acc: 0.6842\n",
      "Epoch 71/100\n",
      "1063/1063 [==============================] - 2s 2ms/sample - loss: 0.0016 - acc: 1.0000 - val_loss: 1.7592 - val_acc: 0.6842\n",
      "Epoch 72/100\n",
      "1063/1063 [==============================] - 2s 2ms/sample - loss: 0.0017 - acc: 1.0000 - val_loss: 1.7599 - val_acc: 0.6805\n",
      "Epoch 73/100\n",
      "1063/1063 [==============================] - 2s 2ms/sample - loss: 0.0021 - acc: 1.0000 - val_loss: 1.8237 - val_acc: 0.6955\n",
      "Epoch 74/100\n",
      "1063/1063 [==============================] - 2s 2ms/sample - loss: 0.0026 - acc: 0.9991 - val_loss: 1.7903 - val_acc: 0.6992\n",
      "Epoch 75/100\n",
      "1063/1063 [==============================] - 2s 2ms/sample - loss: 0.0014 - acc: 1.0000 - val_loss: 1.8502 - val_acc: 0.6955\n",
      "Epoch 76/100\n",
      "1063/1063 [==============================] - 2s 2ms/sample - loss: 0.0021 - acc: 1.0000 - val_loss: 1.8614 - val_acc: 0.7030\n",
      "Epoch 77/100\n",
      "1063/1063 [==============================] - 2s 2ms/sample - loss: 0.0012 - acc: 1.0000 - val_loss: 1.8251 - val_acc: 0.7068\n",
      "Epoch 78/100\n",
      "1063/1063 [==============================] - 2s 2ms/sample - loss: 0.0014 - acc: 1.0000 - val_loss: 1.8277 - val_acc: 0.7030\n",
      "Epoch 79/100\n",
      "1063/1063 [==============================] - 2s 2ms/sample - loss: 0.0016 - acc: 1.0000 - val_loss: 1.8432 - val_acc: 0.6992\n",
      "Epoch 80/100\n",
      "1063/1063 [==============================] - 2s 2ms/sample - loss: 0.0025 - acc: 0.9991 - val_loss: 1.9225 - val_acc: 0.6955\n",
      "Epoch 81/100\n",
      "1063/1063 [==============================] - 2s 2ms/sample - loss: 0.0652 - acc: 0.9897 - val_loss: 2.3478 - val_acc: 0.6429\n",
      "Epoch 82/100\n",
      "1063/1063 [==============================] - 2s 2ms/sample - loss: 0.1181 - acc: 0.9746 - val_loss: 1.9488 - val_acc: 0.6767\n",
      "Epoch 83/100\n",
      "1063/1063 [==============================] - 2s 2ms/sample - loss: 0.0627 - acc: 0.9793 - val_loss: 1.8267 - val_acc: 0.6767\n",
      "Epoch 84/100\n",
      "1063/1063 [==============================] - 2s 2ms/sample - loss: 0.0584 - acc: 0.9849 - val_loss: 2.0905 - val_acc: 0.6391\n",
      "Epoch 85/100\n",
      "1063/1063 [==============================] - 2s 2ms/sample - loss: 0.0530 - acc: 0.9859 - val_loss: 1.9466 - val_acc: 0.6654\n",
      "Epoch 86/100\n",
      "1063/1063 [==============================] - 2s 2ms/sample - loss: 0.0398 - acc: 0.9878 - val_loss: 1.9475 - val_acc: 0.6842\n",
      "Epoch 87/100\n",
      "1063/1063 [==============================] - 2s 2ms/sample - loss: 0.0516 - acc: 0.9878 - val_loss: 2.1061 - val_acc: 0.6654\n",
      "Epoch 88/100\n",
      "1063/1063 [==============================] - 2s 2ms/sample - loss: 0.0662 - acc: 0.9821 - val_loss: 1.9339 - val_acc: 0.6579\n",
      "Epoch 89/100\n",
      "1063/1063 [==============================] - 2s 2ms/sample - loss: 0.0558 - acc: 0.9802 - val_loss: 1.7554 - val_acc: 0.6880\n",
      "Epoch 90/100\n",
      "1063/1063 [==============================] - 2s 2ms/sample - loss: 0.0483 - acc: 0.9859 - val_loss: 1.9692 - val_acc: 0.6617\n",
      "Epoch 91/100\n",
      "1063/1063 [==============================] - 2s 2ms/sample - loss: 0.0447 - acc: 0.9868 - val_loss: 1.8981 - val_acc: 0.6579\n",
      "Epoch 92/100\n",
      "1063/1063 [==============================] - 2s 2ms/sample - loss: 0.0498 - acc: 0.9849 - val_loss: 1.8011 - val_acc: 0.6654\n",
      "Epoch 93/100\n",
      "1063/1063 [==============================] - 2s 2ms/sample - loss: 0.0893 - acc: 0.9765 - val_loss: 2.0827 - val_acc: 0.6241\n",
      "Epoch 94/100\n",
      "1063/1063 [==============================] - 2s 2ms/sample - loss: 0.1039 - acc: 0.9699 - val_loss: 1.8584 - val_acc: 0.6429\n",
      "Epoch 95/100\n",
      "1063/1063 [==============================] - 2s 2ms/sample - loss: 0.0410 - acc: 0.9868 - val_loss: 1.7657 - val_acc: 0.6692\n",
      "Epoch 96/100\n",
      "1063/1063 [==============================] - 2s 2ms/sample - loss: 0.0948 - acc: 0.9737 - val_loss: 2.0281 - val_acc: 0.6692\n",
      "Epoch 97/100\n",
      "1063/1063 [==============================] - 2s 2ms/sample - loss: 0.0751 - acc: 0.9774 - val_loss: 1.8693 - val_acc: 0.6654\n",
      "Epoch 98/100\n",
      "1063/1063 [==============================] - 2s 2ms/sample - loss: 0.0608 - acc: 0.9840 - val_loss: 2.0569 - val_acc: 0.6805\n",
      "Epoch 99/100\n",
      "1063/1063 [==============================] - 2s 2ms/sample - loss: 0.0589 - acc: 0.9840 - val_loss: 1.7968 - val_acc: 0.6654\n",
      "Epoch 100/100\n",
      "1063/1063 [==============================] - 2s 2ms/sample - loss: 0.0244 - acc: 0.9906 - val_loss: 1.7249 - val_acc: 0.7105\n"
     ]
    }
   ],
   "source": [
    "vm.model.train(X_train, Y_train, batch_size=64, epoch=100, validation_data=(X_test, Y_test), callbacks=[logger])"
   ]
  },
  {
   "cell_type": "code",
   "execution_count": 46,
   "metadata": {},
   "outputs": [
    {
     "data": {
      "image/png": "[encoded data removed]",
      "text/plain": [
       "<matplotlib.figure.Figure at 0x7f838c6c6d30>"
      ]
     },
     "metadata": {
      "needs_background": "light"
     },
     "output_type": "display_data"
    },
    {
     "name": "stdout",
     "output_type": "stream",
     "text": [
      "[[41  1  2  0  1  1]\n",
      " [11  6 21  1  4  1]\n",
      " [ 3  4 38  0  8  0]\n",
      " [ 6  3 25  4  8  0]\n",
      " [ 3  3 19  0  9  0]\n",
      " [21  6  7  4  2  3]]\n",
      "              precision    recall  f1-score   support\n",
      "\n",
      "        calm       0.48      0.89      0.63        46\n",
      "       happy       0.26      0.14      0.18        44\n",
      "       angry       0.34      0.72      0.46        53\n",
      "     fearful       0.44      0.09      0.15        46\n",
      "   surprised       0.28      0.26      0.27        34\n",
      "         sad       0.60      0.07      0.12        43\n",
      "\n",
      "    accuracy                           0.38       266\n",
      "   macro avg       0.40      0.36      0.30       266\n",
      "weighted avg       0.40      0.38      0.31       266\n",
      "\n"
     ]
    }
   ],
   "source": [
    "\n",
    "plt.plot(list(range(0, len(logger.training))), list(map(lambda x:x[1], logger.training)), label=\"training data\")\n",
    "plt.plot(list(range(0, len(logger.testing))), list(map(lambda x:x[1], logger.testing)), label=\"testing data\")\n",
    "plt.xlabel('epochs')\n",
    "plt.ylabel('accuracy')\n",
    "plt.show()\n",
    "print_metrics(X_test, Y_test, emotion_list)"
   ]
  },
  {
   "cell_type": "markdown",
   "metadata": {},
   "source": [
    "In this graph we can see that the model largely overfit around the 20st epoch\n",
    "We can also see that the testing data's accuracy continues to grow."
   ]
  },
  {
   "cell_type": "code",
   "execution_count": 40,
   "metadata": {},
   "outputs": [],
   "source": [
    "# Now we save the model so we don't have to retrain it each time\n",
    "vm.model.save(\"emotion_lstm.model\")"
   ]
  },
  {
   "cell_type": "code",
   "execution_count": 37,
   "metadata": {},
   "outputs": [
    {
     "name": "stdout",
     "output_type": "stream",
     "text": [
      "WARNING:tensorflow:Sequential models without an `input_shape` passed to the first layer cannot reload their optimizer state. As a result, your model isstarting with a freshly initialized optimizer.\n"
     ]
    }
   ],
   "source": [
    "# Here we load the model to check if nothing went wrong\n",
    "vm.model.load(\"emotion_lstm.model\")"
   ]
  },
  {
   "cell_type": "code",
   "execution_count": 35,
   "metadata": {},
   "outputs": [
    {
     "name": "stdout",
     "output_type": "stream",
     "text": [
      "Doing calm\n",
      "Doing happy\n",
      "Doing angry\n",
      "Doing fearful\n",
      "Doing surprised\n",
      "Doing sad\n"
     ]
    }
   ],
   "source": [
    "# Now we load the new dataset (savee)\n",
    "\n",
    "# First we change the folder path\n",
    "folder_path += \"/savee\"\n",
    "\n",
    "# Now we load the data\n",
    "data = {f: load_wav(f\"{folder_path}/{f}\", nb_break) for f in emotion_list}\n",
    "X_savee, Y_savee = preprare_wav(data, vm, sample_duration, step)\n",
    "X_savee = X_savee.astype('float32')"
   ]
  },
  {
   "cell_type": "code",
   "execution_count": 42,
   "metadata": {},
   "outputs": [
    {
     "name": "stdout",
     "output_type": "stream",
     "text": [
      "580/580 [==============================] - 1s 1ms/sample - loss: 6.1560 - acc: 0.2345\n",
      "[[28 26  6  4 26 60]\n",
      " [ 6 14  0  5 32 25]\n",
      " [ 8 13  1  5 36 18]\n",
      " [ 4 13  6  8 24 25]\n",
      " [ 5  7  1 12 36 20]\n",
      " [21 17  2  2 15 49]]\n",
      "              precision    recall  f1-score   support\n",
      "\n",
      "        calm       0.39      0.19      0.25       150\n",
      "       happy       0.16      0.17      0.16        82\n",
      "       angry       0.06      0.01      0.02        81\n",
      "     fearful       0.22      0.10      0.14        80\n",
      "   surprised       0.21      0.44      0.29        81\n",
      "         sad       0.25      0.46      0.32       106\n",
      "\n",
      "    accuracy                           0.23       580\n",
      "   macro avg       0.22      0.23      0.20       580\n",
      "weighted avg       0.24      0.23      0.21       580\n",
      "\n"
     ]
    }
   ],
   "source": [
    "vm.model._model.evaluate(X_savee, Y_savee)\n",
    "print_metrics(X_savee, Y_savee, emotion_list)"
   ]
  },
  {
   "cell_type": "code",
   "execution_count": 43,
   "metadata": {},
   "outputs": [
    {
     "name": "stdout",
     "output_type": "stream",
     "text": [
      "gaussian_noise\n",
      "batch_normalization\n",
      "lstm\n",
      "activation\n",
      "flatten\n",
      "dropout\n"
     ]
    }
   ],
   "source": [
    "# Now we freeze every layer used for extracting features from data\n",
    "for layer in vm.model._model.layers[:-3]:\n",
    "    print(layer.name)\n",
    "    layer.trainable = False\n",
    "vm.model._model.compile(loss='categorical_crossentropy', optimizer='adam', metrics=['accuracy'])"
   ]
  },
  {
   "cell_type": "code",
   "execution_count": 44,
   "metadata": {
    "scrolled": true
   },
   "outputs": [
    {
     "name": "stdout",
     "output_type": "stream",
     "text": [
      "Epoch 1/40\n",
      "580/580 [==============================] - 2s 3ms/sample - loss: 4.4037 - acc: 0.2586\n",
      "Epoch 2/40\n",
      "580/580 [==============================] - 2s 3ms/sample - loss: 2.8823 - acc: 0.2759\n",
      "Epoch 3/40\n",
      "580/580 [==============================] - 2s 3ms/sample - loss: 2.2167 - acc: 0.2862\n",
      "Epoch 4/40\n",
      "580/580 [==============================] - 2s 3ms/sample - loss: 1.8544 - acc: 0.3069\n",
      "Epoch 5/40\n",
      "580/580 [==============================] - 2s 3ms/sample - loss: 1.7441 - acc: 0.3017\n",
      "Epoch 6/40\n",
      "580/580 [==============================] - 2s 3ms/sample - loss: 1.6773 - acc: 0.3259\n",
      "Epoch 7/40\n",
      "580/580 [==============================] - 2s 3ms/sample - loss: 1.6619 - acc: 0.3259 0s - loss: 1.6546 - acc: 0.\n",
      "Epoch 8/40\n",
      "580/580 [==============================] - 2s 3ms/sample - loss: 1.6303 - acc: 0.3345\n",
      "Epoch 9/40\n",
      "580/580 [==============================] - 2s 3ms/sample - loss: 1.6606 - acc: 0.3241\n",
      "Epoch 10/40\n",
      "580/580 [==============================] - 2s 3ms/sample - loss: 1.5856 - acc: 0.3759\n",
      "Epoch 11/40\n",
      "580/580 [==============================] - 1s 2ms/sample - loss: 1.6081 - acc: 0.3448\n",
      "Epoch 12/40\n",
      "580/580 [==============================] - 2s 3ms/sample - loss: 1.6034 - acc: 0.3379\n",
      "Epoch 13/40\n",
      "580/580 [==============================] - 2s 3ms/sample - loss: 1.5858 - acc: 0.3638\n",
      "Epoch 14/40\n",
      "580/580 [==============================] - 2s 3ms/sample - loss: 1.6004 - acc: 0.3448\n",
      "Epoch 15/40\n",
      "580/580 [==============================] - 2s 3ms/sample - loss: 1.5955 - acc: 0.3241\n",
      "Epoch 16/40\n",
      "580/580 [==============================] - 2s 3ms/sample - loss: 1.5518 - acc: 0.3586\n",
      "Epoch 17/40\n",
      "580/580 [==============================] - 2s 3ms/sample - loss: 1.5700 - acc: 0.3569 0s - loss: 1.\n",
      "Epoch 18/40\n",
      "580/580 [==============================] - 2s 3ms/sample - loss: 1.5821 - acc: 0.3397\n",
      "Epoch 19/40\n",
      "580/580 [==============================] - 2s 3ms/sample - loss: 1.5481 - acc: 0.3776\n",
      "Epoch 20/40\n",
      "580/580 [==============================] - 2s 3ms/sample - loss: 1.5491 - acc: 0.3638\n",
      "Epoch 21/40\n",
      "580/580 [==============================] - 1s 2ms/sample - loss: 1.5545 - acc: 0.3776\n",
      "Epoch 22/40\n",
      "580/580 [==============================] - 1s 2ms/sample - loss: 1.5093 - acc: 0.3879\n",
      "Epoch 23/40\n",
      "580/580 [==============================] - 2s 3ms/sample - loss: 1.5523 - acc: 0.3776\n",
      "Epoch 24/40\n",
      "580/580 [==============================] - 1s 2ms/sample - loss: 1.5573 - acc: 0.3328\n",
      "Epoch 25/40\n",
      "580/580 [==============================] - 1s 2ms/sample - loss: 1.5328 - acc: 0.3810\n",
      "Epoch 26/40\n",
      "580/580 [==============================] - 1s 2ms/sample - loss: 1.5407 - acc: 0.3569\n",
      "Epoch 27/40\n",
      "580/580 [==============================] - 1s 2ms/sample - loss: 1.5539 - acc: 0.3655\n",
      "Epoch 28/40\n",
      "580/580 [==============================] - 2s 3ms/sample - loss: 1.5647 - acc: 0.3500\n",
      "Epoch 29/40\n",
      "580/580 [==============================] - 2s 3ms/sample - loss: 1.5142 - acc: 0.3948\n",
      "Epoch 30/40\n",
      "580/580 [==============================] - 1s 2ms/sample - loss: 1.5509 - acc: 0.3810\n",
      "Epoch 31/40\n",
      "580/580 [==============================] - 1s 2ms/sample - loss: 1.5390 - acc: 0.3603\n",
      "Epoch 32/40\n",
      "580/580 [==============================] - 1s 2ms/sample - loss: 1.5385 - acc: 0.3948\n",
      "Epoch 33/40\n",
      "580/580 [==============================] - 1s 2ms/sample - loss: 1.5138 - acc: 0.3828\n",
      "Epoch 34/40\n",
      "580/580 [==============================] - 1s 2ms/sample - loss: 1.4994 - acc: 0.3810\n",
      "Epoch 35/40\n",
      "580/580 [==============================] - 1s 2ms/sample - loss: 1.5455 - acc: 0.3690 0s - loss: 1.5452 - acc: 0.\n",
      "Epoch 36/40\n",
      "580/580 [==============================] - 1s 2ms/sample - loss: 1.5742 - acc: 0.3586\n",
      "Epoch 37/40\n",
      "580/580 [==============================] - 2s 3ms/sample - loss: 1.5338 - acc: 0.3638\n",
      "Epoch 38/40\n",
      "580/580 [==============================] - 2s 3ms/sample - loss: 1.5313 - acc: 0.3810\n",
      "Epoch 39/40\n",
      "580/580 [==============================] - 2s 3ms/sample - loss: 1.5272 - acc: 0.4017\n",
      "Epoch 40/40\n",
      "580/580 [==============================] - 2s 3ms/sample - loss: 1.5045 - acc: 0.4086\n"
     ]
    }
   ],
   "source": [
    "# And we train the two last layers\n",
    "# This is classic fine tuning\n",
    "vm.model.train(X_savee, Y_savee, batch_size=10, epoch=40)"
   ]
  },
  {
   "cell_type": "code",
   "execution_count": 45,
   "metadata": {},
   "outputs": [
    {
     "name": "stdout",
     "output_type": "stream",
     "text": [
      "[[99  0 44  0  4  3]\n",
      " [16  6 47  2  6  5]\n",
      " [11  3 60  0  5  2]\n",
      " [20  5 40  1 11  3]\n",
      " [18  2 42  0 18  1]\n",
      " [61  2 32  1  4  6]]\n",
      "              precision    recall  f1-score   support\n",
      "\n",
      "        calm       0.44      0.66      0.53       150\n",
      "       happy       0.33      0.07      0.12        82\n",
      "       angry       0.23      0.74      0.35        81\n",
      "     fearful       0.25      0.01      0.02        80\n",
      "   surprised       0.38      0.22      0.28        81\n",
      "         sad       0.30      0.06      0.10       106\n",
      "\n",
      "    accuracy                           0.33       580\n",
      "   macro avg       0.32      0.29      0.23       580\n",
      "weighted avg       0.33      0.33      0.26       580\n",
      "\n"
     ]
    }
   ],
   "source": [
    "print_metrics(X_savee, Y_savee, emotion_list)"
   ]
  }
 ],
 "metadata": {
  "kernelspec": {
   "display_name": "Python 3",
   "language": "python",
   "name": "python3"
  },
  "language_info": {
   "codemirror_mode": {
    "name": "ipython",
    "version": 3
   },
   "file_extension": ".py",
   "mimetype": "text/x-python",
   "name": "python",
   "nbconvert_exporter": "python",
   "pygments_lexer": "ipython3",
   "version": "3.6.9"
  }
 },
 "nbformat": 4,
 "nbformat_minor": 4
}
