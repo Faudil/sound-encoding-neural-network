{
 "cells": [
  {
   "cell_type": "code",
   "execution_count": 5,
   "metadata": {},
   "outputs": [],
   "source": [
    "# Import phase if every import is here it is to allow you to run this cell and know if you have any issue and not after a few hours of training\n",
    "\n",
    "import tensorflow\n",
    "from tensorflow import keras\n",
    "import os\n",
    "import numpy as np\n",
    "import librosa\n",
    "\n",
    "from sklearn.model_selection import train_test_split\n",
    "import matplotlib.pyplot as plt\n",
    "\n",
    "\n",
    "from keras_preprocessing.sequence import pad_sequences\n",
    "from tensorflow.keras.callbacks import Callback\n",
    "from tensorflow.keras.layers import Dense, Dropout, Conv1D, Activation, Flatten, MaxPooling1D, BatchNormalization, LSTM, GaussianNoise\n",
    "from tensorflow.keras.models import Sequential\n",
    "\n",
    "\n",
    "from src.VoiceModule import VoiceModule\n",
    "from src.classifiers.KerasClassifier import KerasClassifier\n",
    "from prepare_data_utils import load_wav, preprare_wav\n"
   ]
  },
  {
   "cell_type": "code",
   "execution_count": 6,
   "metadata": {},
   "outputs": [
    {
     "name": "stdout",
     "output_type": "stream",
     "text": [
      "bdes.zip\n",
      "fearful\n",
      "savee\n",
      "calm\n",
      "happy\n",
      "surprised\n",
      "angry\n",
      "sad\n",
      "keywords\n"
     ]
    }
   ],
   "source": [
    "# print environment\n",
    "folder_path = \"../../data\"\n",
    "for l in os.listdir(folder_path):\n",
    "    print(l)"
   ]
  },
  {
   "cell_type": "code",
   "execution_count": 7,
   "metadata": {},
   "outputs": [],
   "source": [
    "# Transform data method\n",
    "\n",
    "def mfcc(buffer, samplerate, dim):\n",
    "    a = librosa.feature.mfcc(y=buffer, sr=samplerate, n_mfcc=dim)\n",
    "    a = np.transpose(a)\n",
    "    return a\n"
   ]
  },
  {
   "cell_type": "code",
   "execution_count": 8,
   "metadata": {},
   "outputs": [],
   "source": [
    "# Create callback to later draw some graphs\n",
    "\n",
    "class PerformanceLogger(Callback):\n",
    "    def __init__(self):\n",
    "        # List of tuple (loss, accuracy)\n",
    "        self.training = []\n",
    "        self.testing = []\n",
    "    def on_epoch_end(self, epoch, logs=None):\n",
    "        self.training.append((logs[\"loss\"], logs[\"acc\"]))\n",
    "        self.testing.append((logs[\"val_loss\"], logs[\"val_acc\"]))"
   ]
  },
  {
   "cell_type": "code",
   "execution_count": 22,
   "metadata": {},
   "outputs": [],
   "source": [
    "# Create class\n",
    "class EmotionClassifierCnn(KerasClassifier):\n",
    "    def __init__(self, file_path=None):\n",
    "        super().__init__(file_path)\n",
    "\n",
    "    def predict(self, x):\n",
    "        x = np.expand_dims(np.array([x]), axis=2)\n",
    "        return self._model.predict(x)\n",
    "\n",
    "    def build(self):\n",
    "        model = Sequential()\n",
    "        model.add(GaussianNoise(0.2))\n",
    "        model.add(BatchNormalization())\n",
    "        model.add(Conv1D(32, 3, input_shape=(70, 13), padding='same'))\n",
    "        model.add(Activation('relu'))\n",
    "        model.add(MaxPooling1D(pool_size=2))\n",
    "        model.add(Flatten())\n",
    "        model.add(BatchNormalization())\n",
    "        model.add(Dropout(0.2))\n",
    "        model.add(Dense(16))\n",
    "        model.add(Dense(6))\n",
    "        model.add(Activation('softmax'))\n",
    "        model.compile(loss='categorical_crossentropy', optimizer='adam', metrics=['accuracy'])\n",
    "        self._model = model\n",
    "        \n",
    "    def train(self, X, Y, batch_size=32, epoch=720, validation_data=None, callbacks=[]):\n",
    "        self._model.fit(X, Y, batch_size=batch_size, epochs=epoch, validation_data=validation_data, callbacks=callbacks)\n",
    "\n",
    "    def transform(self, x, samplerate):\n",
    "        to_process = mfcc(x, samplerate, 13)\n",
    "        to_process = pad_sequences([to_process], maxlen=70, padding='post')[0]\n",
    "        return to_process\n"
   ]
  },
  {
   "cell_type": "code",
   "execution_count": 23,
   "metadata": {},
   "outputs": [],
   "source": [
    "#Instanciate model\n",
    "emotion_list = [\"calm\", \"happy\", \"angry\", \"fearful\", \"surprised\", \"sad\"]\n",
    "dimension_mfcc = 13\n",
    "\n",
    "samplerate = 16000\n",
    "nb_break=None\n",
    "sample_duration=2\n",
    "step=2\n",
    "\n",
    "logger = PerformanceLogger()\n",
    "\n",
    "cls = EmotionClassifierCnn()\n",
    "vm = VoiceModule(\"emotion\", emotion_list, cls)"
   ]
  },
  {
   "cell_type": "code",
   "execution_count": 15,
   "metadata": {},
   "outputs": [
    {
     "name": "stdout",
     "output_type": "stream",
     "text": [
      "Doing calm\n",
      "Doing happy\n",
      "Doing angry\n",
      "Doing fearful\n",
      "Done\n"
     ]
    }
   ],
   "source": [
    "# Prepare data for training\n",
    "data = {f: load_wav(f\"{folder_path}/{f}\", nb_break) for f in emotion_list}\n",
    "X, Y = preprare_wav(data, vm, sample_duration, step)\n",
    "print(\"Done\")"
   ]
  },
  {
   "cell_type": "code",
   "execution_count": 11,
   "metadata": {},
   "outputs": [],
   "source": [
    "X_file = f\"x_{'_'.join(emotion_list)}-{vm._name}.npy\"\n",
    "Y_file = f\"y_{'_'.join(emotion_list)}.npy\""
   ]
  },
  {
   "cell_type": "code",
   "execution_count": null,
   "metadata": {},
   "outputs": [],
   "source": [
    "# Saving the prepared input data \n",
    "np.save(X_file, X)\n",
    "np.save(Y_file, Y)\n"
   ]
  },
  {
   "cell_type": "code",
   "execution_count": 12,
   "metadata": {},
   "outputs": [],
   "source": [
    "# Load data for training\n",
    "X, Y = np.load(X_file), np.load(Y_file)"
   ]
  },
  {
   "cell_type": "code",
   "execution_count": 13,
   "metadata": {},
   "outputs": [
    {
     "name": "stdout",
     "output_type": "stream",
     "text": [
      "1063 266\n",
      "(70, 13)\n",
      "float32\n"
     ]
    }
   ],
   "source": [
    "\"\"\"train_size = 80 * len(X) // 100\n",
    "test_size = 20 * len(X) // 100\n",
    "#X = np.expand_dims(X, axis=3)\n",
    "X_train, X_test, = X[:train_size], X[train_size:]\n",
    "Y_train, Y_test = Y[:train_size], Y[train_size:]\"\"\"\n",
    "X = X.astype('float32')\n",
    "X_train, X_test, Y_train, Y_test = train_test_split(X, Y, test_size=0.2, random_state=42)\n",
    "print(len(X_train), len(X_test))\n",
    "\n",
    "print(X[0].shape)\n",
    "print( X.dtype)"
   ]
  },
  {
   "cell_type": "code",
   "execution_count": 24,
   "metadata": {},
   "outputs": [
    {
     "name": "stdout",
     "output_type": "stream",
     "text": [
      "Train on 1063 samples, validate on 266 samples\n",
      "Epoch 1/100\n",
      "1063/1063 [==============================] - 1s 1ms/sample - loss: 2.1908 - acc: 0.2775 - val_loss: 5.5391 - val_acc: 0.1767\n",
      "Epoch 2/100\n",
      "1063/1063 [==============================] - 0s 259us/sample - loss: 1.4769 - acc: 0.4751 - val_loss: 3.6473 - val_acc: 0.1992\n",
      "Epoch 3/100\n",
      "1063/1063 [==============================] - 0s 234us/sample - loss: 1.2063 - acc: 0.5437 - val_loss: 2.9972 - val_acc: 0.2256\n",
      "Epoch 4/100\n",
      "1063/1063 [==============================] - 0s 239us/sample - loss: 1.0639 - acc: 0.5936 - val_loss: 2.4589 - val_acc: 0.2744\n",
      "Epoch 5/100\n",
      "1063/1063 [==============================] - 0s 251us/sample - loss: 0.9485 - acc: 0.6359 - val_loss: 2.3054 - val_acc: 0.3120\n",
      "Epoch 6/100\n",
      "1063/1063 [==============================] - 0s 211us/sample - loss: 0.8676 - acc: 0.6896 - val_loss: 1.9293 - val_acc: 0.3722\n",
      "Epoch 7/100\n",
      "1063/1063 [==============================] - 0s 240us/sample - loss: 0.8322 - acc: 0.6914 - val_loss: 1.8500 - val_acc: 0.3797\n",
      "Epoch 8/100\n",
      "1063/1063 [==============================] - 0s 249us/sample - loss: 0.7503 - acc: 0.7121 - val_loss: 1.7427 - val_acc: 0.3872\n",
      "Epoch 9/100\n",
      "1063/1063 [==============================] - 0s 236us/sample - loss: 0.6943 - acc: 0.7422 - val_loss: 1.5922 - val_acc: 0.4248\n",
      "Epoch 10/100\n",
      "1063/1063 [==============================] - 0s 248us/sample - loss: 0.6773 - acc: 0.7413 - val_loss: 1.5633 - val_acc: 0.4511\n",
      "Epoch 11/100\n",
      "1063/1063 [==============================] - 0s 233us/sample - loss: 0.6364 - acc: 0.7648 - val_loss: 1.5109 - val_acc: 0.4511\n",
      "Epoch 12/100\n",
      "1063/1063 [==============================] - 0s 245us/sample - loss: 0.6298 - acc: 0.7714 - val_loss: 1.3878 - val_acc: 0.4925\n",
      "Epoch 13/100\n",
      "1063/1063 [==============================] - 0s 238us/sample - loss: 0.5437 - acc: 0.7977 - val_loss: 1.3729 - val_acc: 0.5000\n",
      "Epoch 14/100\n",
      "1063/1063 [==============================] - 0s 238us/sample - loss: 0.5218 - acc: 0.8137 - val_loss: 1.3811 - val_acc: 0.4850\n",
      "Epoch 15/100\n",
      "1063/1063 [==============================] - 0s 214us/sample - loss: 0.5142 - acc: 0.8137 - val_loss: 1.3317 - val_acc: 0.5188\n",
      "Epoch 16/100\n",
      "1063/1063 [==============================] - 0s 213us/sample - loss: 0.4737 - acc: 0.8354 - val_loss: 1.3163 - val_acc: 0.5188\n",
      "Epoch 17/100\n",
      "1063/1063 [==============================] - 0s 231us/sample - loss: 0.4543 - acc: 0.8363 - val_loss: 1.3285 - val_acc: 0.5226\n",
      "Epoch 18/100\n",
      "1063/1063 [==============================] - 0s 245us/sample - loss: 0.4382 - acc: 0.8561 - val_loss: 1.3341 - val_acc: 0.5451\n",
      "Epoch 19/100\n",
      "1063/1063 [==============================] - 0s 267us/sample - loss: 0.3974 - acc: 0.8674 - val_loss: 1.2972 - val_acc: 0.5602\n",
      "Epoch 20/100\n",
      "1063/1063 [==============================] - 0s 248us/sample - loss: 0.3973 - acc: 0.8627 - val_loss: 1.3249 - val_acc: 0.5677\n",
      "Epoch 21/100\n",
      "1063/1063 [==============================] - 0s 256us/sample - loss: 0.3570 - acc: 0.8777 - val_loss: 1.3375 - val_acc: 0.5489\n",
      "Epoch 22/100\n",
      "1063/1063 [==============================] - 0s 239us/sample - loss: 0.3503 - acc: 0.8899 - val_loss: 1.3542 - val_acc: 0.5414\n",
      "Epoch 23/100\n",
      "1063/1063 [==============================] - 0s 257us/sample - loss: 0.3350 - acc: 0.8815 - val_loss: 1.4058 - val_acc: 0.5226\n",
      "Epoch 24/100\n",
      "1063/1063 [==============================] - 0s 253us/sample - loss: 0.3321 - acc: 0.8937 - val_loss: 1.3728 - val_acc: 0.5338\n",
      "Epoch 25/100\n",
      "1063/1063 [==============================] - 0s 258us/sample - loss: 0.3222 - acc: 0.8899 - val_loss: 1.3668 - val_acc: 0.5376\n",
      "Epoch 26/100\n",
      "1063/1063 [==============================] - 0s 235us/sample - loss: 0.3280 - acc: 0.8909 - val_loss: 1.4177 - val_acc: 0.5376\n",
      "Epoch 27/100\n",
      "1063/1063 [==============================] - 0s 237us/sample - loss: 0.3260 - acc: 0.8956 - val_loss: 1.4088 - val_acc: 0.5602\n",
      "Epoch 28/100\n",
      "1063/1063 [==============================] - 0s 218us/sample - loss: 0.3183 - acc: 0.8918 - val_loss: 1.4139 - val_acc: 0.5301\n",
      "Epoch 29/100\n",
      "1063/1063 [==============================] - 0s 233us/sample - loss: 0.3008 - acc: 0.8918 - val_loss: 1.4232 - val_acc: 0.5301\n",
      "Epoch 30/100\n",
      "1063/1063 [==============================] - 0s 250us/sample - loss: 0.2831 - acc: 0.9097 - val_loss: 1.4973 - val_acc: 0.5602\n",
      "Epoch 31/100\n",
      "1063/1063 [==============================] - 0s 233us/sample - loss: 0.2612 - acc: 0.9182 - val_loss: 1.4616 - val_acc: 0.5526\n",
      "Epoch 32/100\n",
      "1063/1063 [==============================] - 0s 244us/sample - loss: 0.2624 - acc: 0.9097 - val_loss: 1.4455 - val_acc: 0.5489\n",
      "Epoch 33/100\n",
      "1063/1063 [==============================] - 0s 244us/sample - loss: 0.2602 - acc: 0.9125 - val_loss: 1.4963 - val_acc: 0.5639\n",
      "Epoch 34/100\n",
      "1063/1063 [==============================] - 0s 233us/sample - loss: 0.2496 - acc: 0.9125 - val_loss: 1.5158 - val_acc: 0.5414\n",
      "Epoch 35/100\n",
      "1063/1063 [==============================] - 0s 225us/sample - loss: 0.2301 - acc: 0.9257 - val_loss: 1.5421 - val_acc: 0.5376\n",
      "Epoch 36/100\n",
      "1063/1063 [==============================] - 0s 223us/sample - loss: 0.2320 - acc: 0.9266 - val_loss: 1.5723 - val_acc: 0.5639\n",
      "Epoch 37/100\n",
      "1063/1063 [==============================] - 0s 229us/sample - loss: 0.2485 - acc: 0.9125 - val_loss: 1.5602 - val_acc: 0.5338\n",
      "Epoch 38/100\n",
      "1063/1063 [==============================] - 0s 239us/sample - loss: 0.2104 - acc: 0.9398 - val_loss: 1.5661 - val_acc: 0.5451\n",
      "Epoch 39/100\n",
      "1063/1063 [==============================] - 0s 216us/sample - loss: 0.1966 - acc: 0.9379 - val_loss: 1.6163 - val_acc: 0.5414\n",
      "Epoch 40/100\n",
      "1063/1063 [==============================] - 0s 261us/sample - loss: 0.1775 - acc: 0.9454 - val_loss: 1.6456 - val_acc: 0.5489\n",
      "Epoch 41/100\n",
      "1063/1063 [==============================] - 0s 233us/sample - loss: 0.1820 - acc: 0.9379 - val_loss: 1.6640 - val_acc: 0.5564\n",
      "Epoch 42/100\n",
      "1063/1063 [==============================] - 0s 229us/sample - loss: 0.1923 - acc: 0.9313 - val_loss: 1.6034 - val_acc: 0.5489\n",
      "Epoch 43/100\n",
      "1063/1063 [==============================] - 0s 284us/sample - loss: 0.1799 - acc: 0.9360 - val_loss: 1.6208 - val_acc: 0.5526\n",
      "Epoch 44/100\n",
      "1063/1063 [==============================] - 0s 235us/sample - loss: 0.1937 - acc: 0.9351 - val_loss: 1.6421 - val_acc: 0.5414\n",
      "Epoch 45/100\n",
      "1063/1063 [==============================] - 0s 233us/sample - loss: 0.1777 - acc: 0.9379 - val_loss: 1.6380 - val_acc: 0.5376\n",
      "Epoch 46/100\n",
      "1063/1063 [==============================] - 0s 231us/sample - loss: 0.2035 - acc: 0.9229 - val_loss: 1.6728 - val_acc: 0.5714\n",
      "Epoch 47/100\n",
      "1063/1063 [==============================] - 0s 252us/sample - loss: 0.1677 - acc: 0.9492 - val_loss: 1.6967 - val_acc: 0.5639\n",
      "Epoch 48/100\n",
      "1063/1063 [==============================] - 0s 240us/sample - loss: 0.1683 - acc: 0.9426 - val_loss: 1.7518 - val_acc: 0.5451\n",
      "Epoch 49/100\n",
      "1063/1063 [==============================] - 0s 218us/sample - loss: 0.1664 - acc: 0.9530 - val_loss: 1.7564 - val_acc: 0.5564\n",
      "Epoch 50/100\n",
      "1063/1063 [==============================] - 0s 222us/sample - loss: 0.1728 - acc: 0.9417 - val_loss: 1.7616 - val_acc: 0.5564\n",
      "Epoch 51/100\n",
      "1063/1063 [==============================] - 0s 246us/sample - loss: 0.1529 - acc: 0.9483 - val_loss: 1.8085 - val_acc: 0.5338\n",
      "Epoch 52/100\n",
      "1063/1063 [==============================] - 0s 233us/sample - loss: 0.1805 - acc: 0.9313 - val_loss: 1.8458 - val_acc: 0.5602\n",
      "Epoch 53/100\n",
      "1063/1063 [==============================] - 0s 229us/sample - loss: 0.1513 - acc: 0.9473 - val_loss: 1.8460 - val_acc: 0.5338\n",
      "Epoch 54/100\n",
      "1063/1063 [==============================] - 0s 234us/sample - loss: 0.1520 - acc: 0.9520 - val_loss: 1.8002 - val_acc: 0.5526\n",
      "Epoch 55/100\n",
      "1063/1063 [==============================] - 0s 230us/sample - loss: 0.1670 - acc: 0.9464 - val_loss: 1.8489 - val_acc: 0.5602\n",
      "Epoch 56/100\n",
      "1063/1063 [==============================] - 0s 236us/sample - loss: 0.1646 - acc: 0.9407 - val_loss: 1.9171 - val_acc: 0.5451\n",
      "Epoch 57/100\n",
      "1063/1063 [==============================] - 0s 250us/sample - loss: 0.1537 - acc: 0.9464 - val_loss: 1.9143 - val_acc: 0.5376\n",
      "Epoch 58/100\n",
      "1063/1063 [==============================] - 0s 229us/sample - loss: 0.1489 - acc: 0.9539 - val_loss: 1.9092 - val_acc: 0.5564\n",
      "Epoch 59/100\n"
     ]
    },
    {
     "name": "stdout",
     "output_type": "stream",
     "text": [
      "1063/1063 [==============================] - 0s 196us/sample - loss: 0.1640 - acc: 0.9464 - val_loss: 1.9438 - val_acc: 0.5526\n",
      "Epoch 60/100\n",
      "1063/1063 [==============================] - 0s 221us/sample - loss: 0.1450 - acc: 0.9567 - val_loss: 1.8829 - val_acc: 0.5263\n",
      "Epoch 61/100\n",
      "1063/1063 [==============================] - 0s 219us/sample - loss: 0.1428 - acc: 0.9501 - val_loss: 1.8178 - val_acc: 0.5752\n",
      "Epoch 62/100\n",
      "1063/1063 [==============================] - 0s 286us/sample - loss: 0.1309 - acc: 0.9530 - val_loss: 1.8840 - val_acc: 0.5526\n",
      "Epoch 63/100\n",
      "1063/1063 [==============================] - 0s 242us/sample - loss: 0.1347 - acc: 0.9501 - val_loss: 1.9227 - val_acc: 0.5451\n",
      "Epoch 64/100\n",
      "1063/1063 [==============================] - 0s 224us/sample - loss: 0.1155 - acc: 0.9595 - val_loss: 1.9068 - val_acc: 0.5301\n",
      "Epoch 65/100\n",
      "1063/1063 [==============================] - 0s 233us/sample - loss: 0.1164 - acc: 0.9671 - val_loss: 1.8887 - val_acc: 0.5414\n",
      "Epoch 66/100\n",
      "1063/1063 [==============================] - 0s 193us/sample - loss: 0.1295 - acc: 0.9492 - val_loss: 1.9076 - val_acc: 0.5414\n",
      "Epoch 67/100\n",
      "1063/1063 [==============================] - 0s 191us/sample - loss: 0.1404 - acc: 0.9586 - val_loss: 1.9528 - val_acc: 0.5526\n",
      "Epoch 68/100\n",
      "1063/1063 [==============================] - 0s 219us/sample - loss: 0.1191 - acc: 0.9520 - val_loss: 1.9559 - val_acc: 0.5639\n",
      "Epoch 69/100\n",
      "1063/1063 [==============================] - 0s 237us/sample - loss: 0.1182 - acc: 0.9624 - val_loss: 1.9142 - val_acc: 0.5602\n",
      "Epoch 70/100\n",
      "1063/1063 [==============================] - 0s 229us/sample - loss: 0.1358 - acc: 0.9492 - val_loss: 1.8933 - val_acc: 0.5752\n",
      "Epoch 71/100\n",
      "1063/1063 [==============================] - 0s 220us/sample - loss: 0.1164 - acc: 0.9577 - val_loss: 1.9409 - val_acc: 0.5301\n",
      "Epoch 72/100\n",
      "1063/1063 [==============================] - 0s 236us/sample - loss: 0.1297 - acc: 0.9633 - val_loss: 1.9579 - val_acc: 0.5639\n",
      "Epoch 73/100\n",
      "1063/1063 [==============================] - 0s 220us/sample - loss: 0.1220 - acc: 0.9633 - val_loss: 1.9641 - val_acc: 0.5564\n",
      "Epoch 74/100\n",
      "1063/1063 [==============================] - 0s 235us/sample - loss: 0.1454 - acc: 0.9483 - val_loss: 2.1198 - val_acc: 0.5451\n",
      "Epoch 75/100\n",
      "1063/1063 [==============================] - 0s 232us/sample - loss: 0.1042 - acc: 0.9624 - val_loss: 2.0615 - val_acc: 0.5564\n",
      "Epoch 76/100\n",
      "1063/1063 [==============================] - 0s 238us/sample - loss: 0.0889 - acc: 0.9727 - val_loss: 1.9924 - val_acc: 0.5489\n",
      "Epoch 77/100\n",
      "1063/1063 [==============================] - 0s 260us/sample - loss: 0.1117 - acc: 0.9643 - val_loss: 2.0889 - val_acc: 0.5414\n",
      "Epoch 78/100\n",
      "1063/1063 [==============================] - 0s 228us/sample - loss: 0.1056 - acc: 0.9633 - val_loss: 2.0578 - val_acc: 0.5414\n",
      "Epoch 79/100\n",
      "1063/1063 [==============================] - 0s 233us/sample - loss: 0.1107 - acc: 0.9577 - val_loss: 2.0372 - val_acc: 0.5602\n",
      "Epoch 80/100\n",
      "1063/1063 [==============================] - 0s 231us/sample - loss: 0.1055 - acc: 0.9690 - val_loss: 2.0170 - val_acc: 0.5263\n",
      "Epoch 81/100\n",
      "1063/1063 [==============================] - 0s 242us/sample - loss: 0.1241 - acc: 0.9548 - val_loss: 2.0828 - val_acc: 0.5451\n",
      "Epoch 82/100\n",
      "1063/1063 [==============================] - 0s 301us/sample - loss: 0.0999 - acc: 0.9624 - val_loss: 2.1262 - val_acc: 0.5639\n",
      "Epoch 83/100\n",
      "1063/1063 [==============================] - 0s 243us/sample - loss: 0.1073 - acc: 0.9643 - val_loss: 2.0540 - val_acc: 0.5602\n",
      "Epoch 84/100\n",
      "1063/1063 [==============================] - 0s 217us/sample - loss: 0.1034 - acc: 0.9624 - val_loss: 2.1483 - val_acc: 0.5639\n",
      "Epoch 85/100\n",
      "1063/1063 [==============================] - 0s 235us/sample - loss: 0.1067 - acc: 0.9633 - val_loss: 2.1765 - val_acc: 0.5451\n",
      "Epoch 86/100\n",
      "1063/1063 [==============================] - 0s 247us/sample - loss: 0.1234 - acc: 0.9558 - val_loss: 2.2163 - val_acc: 0.5564\n",
      "Epoch 87/100\n",
      "1063/1063 [==============================] - 0s 242us/sample - loss: 0.1057 - acc: 0.9633 - val_loss: 2.1839 - val_acc: 0.5526\n",
      "Epoch 88/100\n",
      "1063/1063 [==============================] - 0s 213us/sample - loss: 0.1170 - acc: 0.9633 - val_loss: 2.1853 - val_acc: 0.5526\n",
      "Epoch 89/100\n",
      "1063/1063 [==============================] - 0s 206us/sample - loss: 0.1064 - acc: 0.9605 - val_loss: 2.1530 - val_acc: 0.5677\n",
      "Epoch 90/100\n",
      "1063/1063 [==============================] - 0s 251us/sample - loss: 0.1040 - acc: 0.9643 - val_loss: 2.1132 - val_acc: 0.5677\n",
      "Epoch 91/100\n",
      "1063/1063 [==============================] - 0s 243us/sample - loss: 0.1073 - acc: 0.9633 - val_loss: 2.2073 - val_acc: 0.5451\n",
      "Epoch 92/100\n",
      "1063/1063 [==============================] - 0s 237us/sample - loss: 0.0914 - acc: 0.9708 - val_loss: 2.2894 - val_acc: 0.5526\n",
      "Epoch 93/100\n",
      "1063/1063 [==============================] - 0s 262us/sample - loss: 0.1043 - acc: 0.9567 - val_loss: 2.2596 - val_acc: 0.5451\n",
      "Epoch 94/100\n",
      "1063/1063 [==============================] - 0s 251us/sample - loss: 0.0726 - acc: 0.9802 - val_loss: 2.2045 - val_acc: 0.5526\n",
      "Epoch 95/100\n",
      "1063/1063 [==============================] - 0s 239us/sample - loss: 0.0756 - acc: 0.9746 - val_loss: 2.3059 - val_acc: 0.5338\n",
      "Epoch 96/100\n",
      "1063/1063 [==============================] - 0s 253us/sample - loss: 0.0960 - acc: 0.9708 - val_loss: 2.3803 - val_acc: 0.5526\n",
      "Epoch 97/100\n",
      "1063/1063 [==============================] - 0s 245us/sample - loss: 0.1039 - acc: 0.9690 - val_loss: 2.3984 - val_acc: 0.5338\n",
      "Epoch 98/100\n",
      "1063/1063 [==============================] - 0s 265us/sample - loss: 0.1002 - acc: 0.9699 - val_loss: 2.3606 - val_acc: 0.5338\n",
      "Epoch 99/100\n",
      "1063/1063 [==============================] - 0s 238us/sample - loss: 0.1072 - acc: 0.9652 - val_loss: 2.2874 - val_acc: 0.5451\n",
      "Epoch 100/100\n",
      "1063/1063 [==============================] - 0s 241us/sample - loss: 0.0971 - acc: 0.9652 - val_loss: 2.3169 - val_acc: 0.5602\n"
     ]
    }
   ],
   "source": [
    "vm.model.train(X_train, Y_train, batch_size=64, epoch=100, validation_data=(X_test, Y_test), callbacks=[logger])"
   ]
  },
  {
   "cell_type": "code",
   "execution_count": 21,
   "metadata": {},
   "outputs": [
    {
     "data": {
      "image/png": "[encoded data removed]",
      "text/plain": [
       "<matplotlib.figure.Figure at 0x7f45a8526a90>"
      ]
     },
     "metadata": {
      "needs_background": "light"
     },
     "output_type": "display_data"
    }
   ],
   "source": [
    "\n",
    "plt.plot(list(range(0, len(logger.training))), list(map(lambda x:x[1], logger.training)), label=\"training data\")\n",
    "plt.plot(list(range(0, len(logger.testing))), list(map(lambda x:x[1], logger.testing)), label=\"testing data\")\n",
    "plt.xlabel('epochs')\n",
    "plt.ylabel('accuracy')\n",
    "plt.show()"
   ]
  }
 ],
 "metadata": {
  "kernelspec": {
   "display_name": "Python 3",
   "language": "python",
   "name": "python3"
  },
  "language_info": {
   "codemirror_mode": {
    "name": "ipython",
    "version": 3
   },
   "file_extension": ".py",
   "mimetype": "text/x-python",
   "name": "python",
   "nbconvert_exporter": "python",
   "pygments_lexer": "ipython3",
   "version": "3.6.9"
  }
 },
 "nbformat": 4,
 "nbformat_minor": 4
}
