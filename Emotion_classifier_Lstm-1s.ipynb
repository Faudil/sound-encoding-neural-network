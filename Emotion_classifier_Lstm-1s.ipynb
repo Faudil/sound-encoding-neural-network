{
 "cells": [
  {
   "cell_type": "code",
   "execution_count": 1,
   "metadata": {},
   "outputs": [
    {
     "name": "stderr",
     "output_type": "stream",
     "text": [
      "/home/arc/fdp5/.local/lib/python3.6/site-packages/tensorflow/python/framework/dtypes.py:516: FutureWarning: Passing (type, 1) or '1type' as a synonym of type is deprecated; in a future version of numpy, it will be understood as (type, (1,)) / '(1,)type'.\n",
      "  _np_qint8 = np.dtype([(\"qint8\", np.int8, 1)])\n",
      "/home/arc/fdp5/.local/lib/python3.6/site-packages/tensorflow/python/framework/dtypes.py:517: FutureWarning: Passing (type, 1) or '1type' as a synonym of type is deprecated; in a future version of numpy, it will be understood as (type, (1,)) / '(1,)type'.\n",
      "  _np_quint8 = np.dtype([(\"quint8\", np.uint8, 1)])\n",
      "/home/arc/fdp5/.local/lib/python3.6/site-packages/tensorflow/python/framework/dtypes.py:518: FutureWarning: Passing (type, 1) or '1type' as a synonym of type is deprecated; in a future version of numpy, it will be understood as (type, (1,)) / '(1,)type'.\n",
      "  _np_qint16 = np.dtype([(\"qint16\", np.int16, 1)])\n",
      "/home/arc/fdp5/.local/lib/python3.6/site-packages/tensorflow/python/framework/dtypes.py:519: FutureWarning: Passing (type, 1) or '1type' as a synonym of type is deprecated; in a future version of numpy, it will be understood as (type, (1,)) / '(1,)type'.\n",
      "  _np_quint16 = np.dtype([(\"quint16\", np.uint16, 1)])\n",
      "/home/arc/fdp5/.local/lib/python3.6/site-packages/tensorflow/python/framework/dtypes.py:520: FutureWarning: Passing (type, 1) or '1type' as a synonym of type is deprecated; in a future version of numpy, it will be understood as (type, (1,)) / '(1,)type'.\n",
      "  _np_qint32 = np.dtype([(\"qint32\", np.int32, 1)])\n",
      "/home/arc/fdp5/.local/lib/python3.6/site-packages/tensorflow/python/framework/dtypes.py:525: FutureWarning: Passing (type, 1) or '1type' as a synonym of type is deprecated; in a future version of numpy, it will be understood as (type, (1,)) / '(1,)type'.\n",
      "  np_resource = np.dtype([(\"resource\", np.ubyte, 1)])\n",
      "/home/arc/fdp5/.local/lib/python3.6/site-packages/tensorboard/compat/tensorflow_stub/dtypes.py:541: FutureWarning: Passing (type, 1) or '1type' as a synonym of type is deprecated; in a future version of numpy, it will be understood as (type, (1,)) / '(1,)type'.\n",
      "  _np_qint8 = np.dtype([(\"qint8\", np.int8, 1)])\n",
      "/home/arc/fdp5/.local/lib/python3.6/site-packages/tensorboard/compat/tensorflow_stub/dtypes.py:542: FutureWarning: Passing (type, 1) or '1type' as a synonym of type is deprecated; in a future version of numpy, it will be understood as (type, (1,)) / '(1,)type'.\n",
      "  _np_quint8 = np.dtype([(\"quint8\", np.uint8, 1)])\n",
      "/home/arc/fdp5/.local/lib/python3.6/site-packages/tensorboard/compat/tensorflow_stub/dtypes.py:543: FutureWarning: Passing (type, 1) or '1type' as a synonym of type is deprecated; in a future version of numpy, it will be understood as (type, (1,)) / '(1,)type'.\n",
      "  _np_qint16 = np.dtype([(\"qint16\", np.int16, 1)])\n",
      "/home/arc/fdp5/.local/lib/python3.6/site-packages/tensorboard/compat/tensorflow_stub/dtypes.py:544: FutureWarning: Passing (type, 1) or '1type' as a synonym of type is deprecated; in a future version of numpy, it will be understood as (type, (1,)) / '(1,)type'.\n",
      "  _np_quint16 = np.dtype([(\"quint16\", np.uint16, 1)])\n",
      "/home/arc/fdp5/.local/lib/python3.6/site-packages/tensorboard/compat/tensorflow_stub/dtypes.py:545: FutureWarning: Passing (type, 1) or '1type' as a synonym of type is deprecated; in a future version of numpy, it will be understood as (type, (1,)) / '(1,)type'.\n",
      "  _np_qint32 = np.dtype([(\"qint32\", np.int32, 1)])\n",
      "/home/arc/fdp5/.local/lib/python3.6/site-packages/tensorboard/compat/tensorflow_stub/dtypes.py:550: FutureWarning: Passing (type, 1) or '1type' as a synonym of type is deprecated; in a future version of numpy, it will be understood as (type, (1,)) / '(1,)type'.\n",
      "  np_resource = np.dtype([(\"resource\", np.ubyte, 1)])\n"
     ]
    }
   ],
   "source": [
    "# Import phase if every import is here it is to allow you to run this cell and know if you have any issue and not after a few hours of training\n",
    "\n",
    "import tensorflow\n",
    "from tensorflow import keras\n",
    "import os\n",
    "import numpy as np\n",
    "import librosa\n",
    "\n",
    "from sklearn.model_selection import train_test_split\n",
    "from sklearn.metrics import classification_report, confusion_matrix\n",
    "import matplotlib.pyplot as plt\n",
    "\n",
    "\n",
    "from keras_preprocessing.sequence import pad_sequences\n",
    "from tensorflow.keras.callbacks import Callback\n",
    "from tensorflow.keras.layers import Dense, Dropout, Conv1D, Activation, Flatten, MaxPooling1D, BatchNormalization, LSTM, GaussianNoise\n",
    "from tensorflow.keras.models import Sequential\n",
    "\n",
    "\n",
    "from src.VoiceModule import VoiceModule\n",
    "from src.classifiers.KerasClassifier import KerasClassifier\n",
    "from prepare_data_utils import load_wav, preprare_wav\n"
   ]
  },
  {
   "cell_type": "code",
   "execution_count": 2,
   "metadata": {},
   "outputs": [
    {
     "name": "stdout",
     "output_type": "stream",
     "text": [
      "bdes.zip\n",
      "fearful\n",
      "savee\n",
      "calm\n",
      "happy\n",
      "surprised\n",
      "angry\n",
      "sad\n",
      "keywords\n"
     ]
    }
   ],
   "source": [
    "# print environment\n",
    "folder_path = \"../../data\"\n",
    "for l in os.listdir(folder_path):\n",
    "    print(l)"
   ]
  },
  {
   "cell_type": "code",
   "execution_count": 3,
   "metadata": {},
   "outputs": [],
   "source": [
    "# Transform data method\n",
    "\n",
    "def mfcc(buffer, samplerate, dim):\n",
    "    a = librosa.feature.mfcc(y=buffer, sr=samplerate, n_mfcc=dim)\n",
    "    a = np.transpose(a)\n",
    "    return a\n"
   ]
  },
  {
   "cell_type": "code",
   "execution_count": 4,
   "metadata": {},
   "outputs": [],
   "source": [
    "# Create callback to later draw some graphs\n",
    "\n",
    "class PerformanceLogger(Callback):\n",
    "    def __init__(self):\n",
    "        # List of tuple (loss, accuracy)\n",
    "        self.training = []\n",
    "        self.testing = []\n",
    "    def on_epoch_end(self, epoch, logs=None):\n",
    "        self.training.append((logs[\"loss\"], logs[\"acc\"]))\n",
    "        self.testing.append((logs[\"val_loss\"], logs[\"val_acc\"]))"
   ]
  },
  {
   "cell_type": "code",
   "execution_count": 5,
   "metadata": {},
   "outputs": [],
   "source": [
    "# This function prints metrics about a model\n",
    "def print_metrics(X, Y, label_name_list):\n",
    "    Y_pred = vm.model._model.predict(X)\n",
    "    Y_pred = np.argmax(Y_pred, axis=1)\n",
    "    Y_max = np.argmax(Y, axis=1)\n",
    "    print(confusion_matrix(Y_max, Y_pred))\n",
    "    print(classification_eport(Y_max, Y_pred, target_names=label_name_list))\n"
   ]
  },
  {
   "cell_type": "code",
   "execution_count": 6,
   "metadata": {},
   "outputs": [],
   "source": [
    "# Create class\n",
    "class EmotionClassifierLstm(KerasClassifier):\n",
    "    def __init__(self, file_path=None):\n",
    "        super().__init__(file_path)\n",
    "\n",
    "    def predict(self, x):\n",
    "        x = np.expand_dims(np.array([x]), axis=2)\n",
    "        return self._model.predict(x)\n",
    "\n",
    "    def build(self):\n",
    "        model = Sequential()\n",
    "        model.add(GaussianNoise(0.2))\n",
    "        model.add(BatchNormalization())\n",
    "        model.add(LSTM(32))\n",
    "        model.add(Activation('relu'))\n",
    "        model.add(Flatten())\n",
    "        model.add(Dropout(0.3))\n",
    "        model.add(BatchNormalization())\n",
    "        model.add(Dense(32))\n",
    "        model.add(Dense(6))\n",
    "        model.add(Activation('softmax'))\n",
    "        model.compile(loss='categorical_crossentropy', optimizer='adam', metrics=['accuracy'])\n",
    "        self._model = model\n",
    "        \n",
    "    def train(self, X, Y, batch_size=32, epoch=720, validation_data=None, callbacks=[]):\n",
    "        self._model.fit(X, Y, batch_size=batch_size, epochs=epoch, validation_data=validation_data, callbacks=callbacks)\n",
    "\n",
    "    def transform(self, x, samplerate):\n",
    "        to_process = mfcc(x, samplerate, 13)\n",
    "        to_process = pad_sequences([to_process], maxlen=35, padding='post')[0]\n",
    "        return to_process\n"
   ]
  },
  {
   "cell_type": "code",
   "execution_count": 7,
   "metadata": {},
   "outputs": [
    {
     "name": "stdout",
     "output_type": "stream",
     "text": [
      "WARNING:tensorflow:From /home/arc/fdp5/.local/lib/python3.6/site-packages/tensorflow/python/ops/init_ops.py:1251: calling VarianceScaling.__init__ (from tensorflow.python.ops.init_ops) with dtype is deprecated and will be removed in a future version.\n",
      "Instructions for updating:\n",
      "Call initializer instance with the dtype argument instead of passing it to the constructor\n"
     ]
    }
   ],
   "source": [
    "#Instanciate model\n",
    "emotion_list = [\"calm\", \"happy\", \"angry\", \"fearful\", \"surprised\", \"sad\"]\n",
    "dimension_mfcc = 13\n",
    "samplerate = 16000\n",
    "nb_break=None\n",
    "sample_duration=1\n",
    "step=0.5\n",
    "\n",
    "logger = PerformanceLogger()\n",
    "\n",
    "cls = EmotionClassifierLstm()\n",
    "vm = VoiceModule(\"emotion\", emotion_list, cls)"
   ]
  },
  {
   "cell_type": "code",
   "execution_count": 8,
   "metadata": {},
   "outputs": [
    {
     "name": "stdout",
     "output_type": "stream",
     "text": [
      "Doing calm\n",
      "Doing happy\n",
      "Doing angry\n",
      "Doing fearful\n",
      "Doing surprised\n",
      "Doing sad\n",
      "Done\n"
     ]
    }
   ],
   "source": [
    "# Prepare data for training\n",
    "data = {f: load_wav(f\"{folder_path}/{f}\", nb_break) for f in emotion_list}\n",
    "X, Y = preprare_wav(data, vm, sample_duration, step)\n",
    "print(\"Done\")"
   ]
  },
  {
   "cell_type": "code",
   "execution_count": 9,
   "metadata": {},
   "outputs": [],
   "source": [
    "# Saving the prepared input data \n",
    "np.save(f\"x_{'_'.join(emotion_list)}-{vm._name}-1second.npy\", X)\n",
    "np.save(f\"y_{'_'.join(emotion_list)}-1second.npy\", Y)\n"
   ]
  },
  {
   "cell_type": "code",
   "execution_count": 10,
   "metadata": {},
   "outputs": [
    {
     "name": "stdout",
     "output_type": "stream",
     "text": [
      "5435 1359\n",
      "(35, 13)\n",
      "float32\n"
     ]
    }
   ],
   "source": [
    "\"\"\"train_size = 80 * len(X) // 100\n",
    "test_size = 20 * len(X) // 100\n",
    "#X = np.expand_dims(X, axis=3)\n",
    "X_train, X_test, = X[:train_size], X[train_size:]\n",
    "Y_train, Y_test = Y[:train_size], Y[train_size:]\"\"\"\n",
    "X = X.astype('float32')\n",
    "X_train, X_test, Y_train, Y_test = train_test_split(X, Y, test_size=0.2, random_state=42)\n",
    "print(len(X_train), len(X_test))\n",
    "\n",
    "print(X[0].shape)\n",
    "print( X.dtype)"
   ]
  },
  {
   "cell_type": "code",
   "execution_count": null,
   "metadata": {},
   "outputs": [
    {
     "name": "stdout",
     "output_type": "stream",
     "text": [
      "Train on 5435 samples, validate on 1359 samples\n",
      "WARNING:tensorflow:From /home/arc/fdp5/.local/lib/python3.6/site-packages/tensorflow/python/ops/math_grad.py:1250: add_dispatch_support.<locals>.wrapper (from tensorflow.python.ops.array_ops) is deprecated and will be removed in a future version.\n",
      "Instructions for updating:\n",
      "Use tf.where in 2.0, which has the same broadcast rule as np.where\n",
      "Epoch 1/100\n",
      "5435/5435 [==============================] - 8s 1ms/sample - loss: 1.8602 - acc: 0.2307 - val_loss: 1.7575 - val_acc: 0.2362\n",
      "Epoch 2/100\n",
      "5435/5435 [==============================] - 6s 1ms/sample - loss: 1.6518 - acc: 0.3060 - val_loss: 1.7129 - val_acc: 0.2870\n",
      "Epoch 3/100\n",
      "5435/5435 [==============================] - 4s 750us/sample - loss: 1.5893 - acc: 0.3369 - val_loss: 1.6442 - val_acc: 0.3348\n",
      "Epoch 4/100\n",
      "5435/5435 [==============================] - 5s 877us/sample - loss: 1.5318 - acc: 0.3684 - val_loss: 1.5740 - val_acc: 0.3672\n",
      "Epoch 5/100\n",
      "5435/5435 [==============================] - 4s 749us/sample - loss: 1.5027 - acc: 0.3836 - val_loss: 1.5029 - val_acc: 0.3878\n",
      "Epoch 6/100\n",
      "5435/5435 [==============================] - 4s 810us/sample - loss: 1.4577 - acc: 0.4031 - val_loss: 1.4576 - val_acc: 0.4054\n",
      "Epoch 7/100\n",
      "5435/5435 [==============================] - 5s 829us/sample - loss: 1.4153 - acc: 0.4234 - val_loss: 1.4164 - val_acc: 0.4260\n",
      "Epoch 8/100\n",
      "5435/5435 [==============================] - 4s 725us/sample - loss: 1.4021 - acc: 0.4140 - val_loss: 1.3934 - val_acc: 0.4231\n",
      "Epoch 9/100\n",
      "5435/5435 [==============================] - 4s 780us/sample - loss: 1.3766 - acc: 0.4359 - val_loss: 1.3840 - val_acc: 0.4224\n",
      "Epoch 10/100\n",
      "5435/5435 [==============================] - 4s 779us/sample - loss: 1.3592 - acc: 0.4405 - val_loss: 1.3666 - val_acc: 0.4349\n",
      "Epoch 11/100\n",
      "5435/5435 [==============================] - 3s 643us/sample - loss: 1.3368 - acc: 0.4523 - val_loss: 1.3485 - val_acc: 0.4452\n",
      "Epoch 12/100\n",
      "5435/5435 [==============================] - 5s 946us/sample - loss: 1.3117 - acc: 0.4530 - val_loss: 1.3495 - val_acc: 0.4246\n",
      "Epoch 13/100\n",
      "5435/5435 [==============================] - 5s 845us/sample - loss: 1.3008 - acc: 0.4699 - val_loss: 1.3408 - val_acc: 0.4459\n",
      "Epoch 14/100\n",
      "5435/5435 [==============================] - 5s 905us/sample - loss: 1.2682 - acc: 0.4810 - val_loss: 1.3411 - val_acc: 0.4356\n",
      "Epoch 15/100\n",
      "5435/5435 [==============================] - 4s 798us/sample - loss: 1.2657 - acc: 0.4865 - val_loss: 1.3164 - val_acc: 0.4665\n",
      "Epoch 16/100\n",
      "5435/5435 [==============================] - 4s 663us/sample - loss: 1.2630 - acc: 0.4891 - val_loss: 1.3070 - val_acc: 0.4555\n",
      "Epoch 17/100\n",
      "5435/5435 [==============================] - 4s 761us/sample - loss: 1.2431 - acc: 0.4944 - val_loss: 1.3073 - val_acc: 0.4687\n",
      "Epoch 18/100\n",
      "5435/5435 [==============================] - 4s 709us/sample - loss: 1.2222 - acc: 0.5113 - val_loss: 1.2974 - val_acc: 0.4555\n",
      "Epoch 19/100\n",
      "5435/5435 [==============================] - 5s 903us/sample - loss: 1.2145 - acc: 0.5165 - val_loss: 1.3019 - val_acc: 0.4592\n",
      "Epoch 20/100\n",
      "5435/5435 [==============================] - 4s 647us/sample - loss: 1.2001 - acc: 0.5170 - val_loss: 1.2797 - val_acc: 0.4790\n",
      "Epoch 21/100\n",
      "5435/5435 [==============================] - 3s 591us/sample - loss: 1.1793 - acc: 0.5249 - val_loss: 1.2715 - val_acc: 0.4871\n",
      "Epoch 22/100\n",
      "5435/5435 [==============================] - 4s 683us/sample - loss: 1.1718 - acc: 0.5367 - val_loss: 1.2853 - val_acc: 0.4776\n",
      "Epoch 23/100\n",
      "5435/5435 [==============================] - 4s 735us/sample - loss: 1.1586 - acc: 0.5426 - val_loss: 1.2601 - val_acc: 0.4893\n",
      "Epoch 24/100\n",
      "5435/5435 [==============================] - 4s 680us/sample - loss: 1.1519 - acc: 0.5400 - val_loss: 1.2715 - val_acc: 0.4658\n",
      "Epoch 25/100\n",
      "5435/5435 [==============================] - 4s 821us/sample - loss: 1.1283 - acc: 0.5549 - val_loss: 1.2813 - val_acc: 0.4761\n",
      "Epoch 26/100\n",
      "5435/5435 [==============================] - 4s 702us/sample - loss: 1.1299 - acc: 0.5525 - val_loss: 1.2749 - val_acc: 0.4974\n",
      "Epoch 27/100\n",
      "5435/5435 [==============================] - 4s 737us/sample - loss: 1.1227 - acc: 0.5474 - val_loss: 1.2735 - val_acc: 0.5055\n",
      "Epoch 28/100\n",
      "5435/5435 [==============================] - 4s 724us/sample - loss: 1.0984 - acc: 0.5680 - val_loss: 1.2444 - val_acc: 0.5121\n",
      "Epoch 29/100\n",
      "5435/5435 [==============================] - 4s 801us/sample - loss: 1.1141 - acc: 0.5638 - val_loss: 1.2559 - val_acc: 0.4967\n",
      "Epoch 30/100\n",
      "5435/5435 [==============================] - 4s 671us/sample - loss: 1.0800 - acc: 0.5682 - val_loss: 1.2361 - val_acc: 0.5291\n",
      "Epoch 31/100\n",
      "5435/5435 [==============================] - 4s 822us/sample - loss: 1.0877 - acc: 0.5680 - val_loss: 1.2541 - val_acc: 0.5151\n",
      "Epoch 32/100\n",
      "5435/5435 [==============================] - 4s 703us/sample - loss: 1.0657 - acc: 0.5853 - val_loss: 1.2375 - val_acc: 0.5099\n",
      "Epoch 33/100\n",
      "5435/5435 [==============================] - 3s 638us/sample - loss: 1.0795 - acc: 0.5759 - val_loss: 1.2440 - val_acc: 0.5254\n",
      "Epoch 34/100\n",
      "5435/5435 [==============================] - 4s 804us/sample - loss: 1.0449 - acc: 0.5875 - val_loss: 1.2648 - val_acc: 0.5070\n",
      "Epoch 35/100\n",
      "5435/5435 [==============================] - 4s 758us/sample - loss: 1.0521 - acc: 0.5899 - val_loss: 1.2344 - val_acc: 0.5210\n",
      "Epoch 36/100\n",
      "5435/5435 [==============================] - 4s 738us/sample - loss: 1.0324 - acc: 0.5941 - val_loss: 1.2255 - val_acc: 0.5261\n",
      "Epoch 37/100\n",
      "5435/5435 [==============================] - 4s 716us/sample - loss: 1.0221 - acc: 0.5998 - val_loss: 1.2134 - val_acc: 0.5313\n",
      "Epoch 38/100\n",
      "5435/5435 [==============================] - 4s 690us/sample - loss: 1.0279 - acc: 0.6015 - val_loss: 1.2396 - val_acc: 0.5276\n",
      "Epoch 39/100\n",
      "5435/5435 [==============================] - 3s 616us/sample - loss: 1.0158 - acc: 0.6131 - val_loss: 1.2615 - val_acc: 0.5224\n",
      "Epoch 40/100\n",
      "5435/5435 [==============================] - 4s 752us/sample - loss: 1.0052 - acc: 0.6110 - val_loss: 1.2484 - val_acc: 0.5269\n",
      "Epoch 41/100\n",
      "5435/5435 [==============================] - 4s 770us/sample - loss: 0.9986 - acc: 0.6186 - val_loss: 1.2412 - val_acc: 0.5445\n",
      "Epoch 42/100\n",
      "5435/5435 [==============================] - 5s 893us/sample - loss: 1.0013 - acc: 0.6103 - val_loss: 1.2286 - val_acc: 0.5504\n",
      "Epoch 43/100\n",
      "5435/5435 [==============================] - 5s 851us/sample - loss: 0.9961 - acc: 0.6138 - val_loss: 1.2609 - val_acc: 0.5335\n",
      "Epoch 44/100\n",
      "5435/5435 [==============================] - 4s 719us/sample - loss: 0.9891 - acc: 0.6149 - val_loss: 1.2381 - val_acc: 0.5291\n",
      "Epoch 45/100\n",
      "5435/5435 [==============================] - 4s 773us/sample - loss: 0.9650 - acc: 0.6256 - val_loss: 1.2403 - val_acc: 0.5298\n",
      "Epoch 46/100\n",
      "5435/5435 [==============================] - 4s 682us/sample - loss: 0.9780 - acc: 0.6197 - val_loss: 1.2410 - val_acc: 0.5232\n",
      "Epoch 47/100\n",
      "5435/5435 [==============================] - 4s 727us/sample - loss: 0.9781 - acc: 0.6186 - val_loss: 1.2418 - val_acc: 0.5423\n",
      "Epoch 48/100\n",
      "5435/5435 [==============================] - 4s 796us/sample - loss: 0.9598 - acc: 0.6219 - val_loss: 1.2612 - val_acc: 0.5342\n",
      "Epoch 49/100\n",
      "5435/5435 [==============================] - 4s 706us/sample - loss: 0.9471 - acc: 0.6282 - val_loss: 1.2828 - val_acc: 0.5482\n",
      "Epoch 50/100\n",
      "5435/5435 [==============================] - 4s 707us/sample - loss: 0.9511 - acc: 0.6237 - val_loss: 1.2195 - val_acc: 0.5379\n",
      "Epoch 51/100\n",
      "5435/5435 [==============================] - 4s 794us/sample - loss: 0.9470 - acc: 0.6293 - val_loss: 1.2317 - val_acc: 0.5489\n",
      "Epoch 52/100\n",
      "5435/5435 [==============================] - 5s 857us/sample - loss: 0.9269 - acc: 0.6353 - val_loss: 1.2365 - val_acc: 0.5578\n",
      "Epoch 53/100\n",
      "5435/5435 [==============================] - 4s 694us/sample - loss: 0.9354 - acc: 0.6335 - val_loss: 1.2139 - val_acc: 0.5489\n",
      "Epoch 54/100\n",
      "5435/5435 [==============================] - 5s 874us/sample - loss: 0.9366 - acc: 0.6418 - val_loss: 1.2502 - val_acc: 0.5475\n",
      "Epoch 55/100\n",
      "3584/5435 [==================>...........] - ETA: 1s - loss: 0.8934 - acc: 0.6512"
     ]
    }
   ],
   "source": [
    "vm.model.train(X_train, Y_train, batch_size=64, epoch=100, validation_data=(X_test, Y_test), callbacks=[logger])"
   ]
  },
  {
   "cell_type": "code",
   "execution_count": null,
   "metadata": {},
   "outputs": [],
   "source": [
    "\n",
    "plt.plot(list(range(0, len(logger.training))), list(map(lambda x:x[1], logger.training)), label=\"training data\")\n",
    "plt.plot(list(range(0, len(logger.testing))), list(map(lambda x:x[1], logger.testing)), label=\"testing data\")\n",
    "plt.xlabel('epochs')\n",
    "plt.ylabel('accuracy')\n",
    "plt.show()\n",
    "print_metrics(X_test, Y_test, emotion_list)"
   ]
  },
  {
   "cell_type": "code",
   "execution_count": null,
   "metadata": {},
   "outputs": [],
   "source": [
    "# Now we load the new dataset (savee)\n",
    "\n",
    "# First we change the folder path\n",
    "folder_path += \"/savee\"\n",
    "\n",
    "# Now we load the data\n",
    "data = {f: load_wav(f\"{folder_path}/{f}\", nb_break) for f in emotion_list}\n",
    "X_savee, Y_savee = preprare_wav(data, vm, sample_duration, step)"
   ]
  },
  {
   "cell_type": "code",
   "execution_count": null,
   "metadata": {},
   "outputs": [],
   "source": [
    "vm.model._model.evaluate(X_savee, Y_savee)\n",
    "print_metrics(X_savee, Y_savee, emotion_list)"
   ]
  },
  {
   "cell_type": "code",
   "execution_count": null,
   "metadata": {},
   "outputs": [],
   "source": [
    "for layer in vm.model._model.layers[:-3]:\n",
    "    print(layer.name)\n",
    "    layer.trainable = False\n",
    "vm.model._model.compile(loss='categorical_crossentropy', optimizer='adam', metrics=['accuracy'])"
   ]
  },
  {
   "cell_type": "code",
   "execution_count": null,
   "metadata": {},
   "outputs": [],
   "source": [
    "vm.model.train(X_savee, Y_savee, batch_size=10, epoch=20)"
   ]
  }
 ],
 "metadata": {
  "kernelspec": {
   "display_name": "Python 3",
   "language": "python",
   "name": "python3"
  },
  "language_info": {
   "codemirror_mode": {
    "name": "ipython",
    "version": 3
   },
   "file_extension": ".py",
   "mimetype": "text/x-python",
   "name": "python",
   "nbconvert_exporter": "python",
   "pygments_lexer": "ipython3",
   "version": "3.6.9"
  }
 },
 "nbformat": 4,
 "nbformat_minor": 4
}
