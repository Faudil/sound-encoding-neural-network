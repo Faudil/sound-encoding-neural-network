{
 "cells": [
  {
   "cell_type": "code",
   "execution_count": 1,
   "metadata": {},
   "outputs": [
    {
     "name": "stderr",
     "output_type": "stream",
     "text": [
      "/home/arc/fdp5/.local/lib/python3.6/site-packages/tensorflow/python/framework/dtypes.py:516: FutureWarning: Passing (type, 1) or '1type' as a synonym of type is deprecated; in a future version of numpy, it will be understood as (type, (1,)) / '(1,)type'.\n",
      "  _np_qint8 = np.dtype([(\"qint8\", np.int8, 1)])\n",
      "/home/arc/fdp5/.local/lib/python3.6/site-packages/tensorflow/python/framework/dtypes.py:517: FutureWarning: Passing (type, 1) or '1type' as a synonym of type is deprecated; in a future version of numpy, it will be understood as (type, (1,)) / '(1,)type'.\n",
      "  _np_quint8 = np.dtype([(\"quint8\", np.uint8, 1)])\n",
      "/home/arc/fdp5/.local/lib/python3.6/site-packages/tensorflow/python/framework/dtypes.py:518: FutureWarning: Passing (type, 1) or '1type' as a synonym of type is deprecated; in a future version of numpy, it will be understood as (type, (1,)) / '(1,)type'.\n",
      "  _np_qint16 = np.dtype([(\"qint16\", np.int16, 1)])\n",
      "/home/arc/fdp5/.local/lib/python3.6/site-packages/tensorflow/python/framework/dtypes.py:519: FutureWarning: Passing (type, 1) or '1type' as a synonym of type is deprecated; in a future version of numpy, it will be understood as (type, (1,)) / '(1,)type'.\n",
      "  _np_quint16 = np.dtype([(\"quint16\", np.uint16, 1)])\n",
      "/home/arc/fdp5/.local/lib/python3.6/site-packages/tensorflow/python/framework/dtypes.py:520: FutureWarning: Passing (type, 1) or '1type' as a synonym of type is deprecated; in a future version of numpy, it will be understood as (type, (1,)) / '(1,)type'.\n",
      "  _np_qint32 = np.dtype([(\"qint32\", np.int32, 1)])\n",
      "/home/arc/fdp5/.local/lib/python3.6/site-packages/tensorflow/python/framework/dtypes.py:525: FutureWarning: Passing (type, 1) or '1type' as a synonym of type is deprecated; in a future version of numpy, it will be understood as (type, (1,)) / '(1,)type'.\n",
      "  np_resource = np.dtype([(\"resource\", np.ubyte, 1)])\n",
      "/home/arc/fdp5/.local/lib/python3.6/site-packages/tensorboard/compat/tensorflow_stub/dtypes.py:541: FutureWarning: Passing (type, 1) or '1type' as a synonym of type is deprecated; in a future version of numpy, it will be understood as (type, (1,)) / '(1,)type'.\n",
      "  _np_qint8 = np.dtype([(\"qint8\", np.int8, 1)])\n",
      "/home/arc/fdp5/.local/lib/python3.6/site-packages/tensorboard/compat/tensorflow_stub/dtypes.py:542: FutureWarning: Passing (type, 1) or '1type' as a synonym of type is deprecated; in a future version of numpy, it will be understood as (type, (1,)) / '(1,)type'.\n",
      "  _np_quint8 = np.dtype([(\"quint8\", np.uint8, 1)])\n",
      "/home/arc/fdp5/.local/lib/python3.6/site-packages/tensorboard/compat/tensorflow_stub/dtypes.py:543: FutureWarning: Passing (type, 1) or '1type' as a synonym of type is deprecated; in a future version of numpy, it will be understood as (type, (1,)) / '(1,)type'.\n",
      "  _np_qint16 = np.dtype([(\"qint16\", np.int16, 1)])\n",
      "/home/arc/fdp5/.local/lib/python3.6/site-packages/tensorboard/compat/tensorflow_stub/dtypes.py:544: FutureWarning: Passing (type, 1) or '1type' as a synonym of type is deprecated; in a future version of numpy, it will be understood as (type, (1,)) / '(1,)type'.\n",
      "  _np_quint16 = np.dtype([(\"quint16\", np.uint16, 1)])\n",
      "/home/arc/fdp5/.local/lib/python3.6/site-packages/tensorboard/compat/tensorflow_stub/dtypes.py:545: FutureWarning: Passing (type, 1) or '1type' as a synonym of type is deprecated; in a future version of numpy, it will be understood as (type, (1,)) / '(1,)type'.\n",
      "  _np_qint32 = np.dtype([(\"qint32\", np.int32, 1)])\n",
      "/home/arc/fdp5/.local/lib/python3.6/site-packages/tensorboard/compat/tensorflow_stub/dtypes.py:550: FutureWarning: Passing (type, 1) or '1type' as a synonym of type is deprecated; in a future version of numpy, it will be understood as (type, (1,)) / '(1,)type'.\n",
      "  np_resource = np.dtype([(\"resource\", np.ubyte, 1)])\n"
     ]
    }
   ],
   "source": [
    "# Import phase if every import is here it is to allow you to run this cell and know if you have any issue and not after a few hours of training\n",
    "\n",
    "import tensorflow\n",
    "from tensorflow import keras\n",
    "import os\n",
    "import numpy as np\n",
    "import librosa\n",
    "\n",
    "from sklearn.model_selection import train_test_split\n",
    "from sklearn.metrics import classification_report, confusion_matrix\n",
    "from sklearn.utils import shuffle\n",
    "import matplotlib.pyplot as plt\n",
    "\n",
    "\n",
    "from keras_preprocessing.sequence import pad_sequences\n",
    "from tensorflow.keras.callbacks import Callback\n",
    "from tensorflow.keras.layers import Dense, Dropout, Conv1D, Activation, Flatten, MaxPooling1D, BatchNormalization, LSTM, GaussianNoise\n",
    "from tensorflow.keras.models import Sequential\n",
    "from tensorflow.keras.regularizers import l2\n",
    "\n",
    "\n",
    "from src.VoiceModule import VoiceModule\n",
    "from src.classifiers.KerasClassifier import KerasClassifier\n",
    "from prepare_data_utils import load_wav, preprare_wav\n"
   ]
  },
  {
   "cell_type": "code",
   "execution_count": null,
   "metadata": {},
   "outputs": [],
   "source": []
  },
  {
   "cell_type": "code",
   "execution_count": 2,
   "metadata": {},
   "outputs": [
    {
     "name": "stdout",
     "output_type": "stream",
     "text": [
      "fearful\n",
      "savee\n",
      "calm\n",
      "happy\n",
      "bdes\n",
      "surprised\n",
      "angry\n",
      "sad\n",
      "keywords\n"
     ]
    }
   ],
   "source": [
    "# print environment\n",
    "folder_path = \"../../data\"\n",
    "for l in os.listdir(folder_path):\n",
    "    print(l)"
   ]
  },
  {
   "cell_type": "code",
   "execution_count": 3,
   "metadata": {},
   "outputs": [],
   "source": [
    "# Transform data method\n",
    "\n",
    "def mfcc(buffer, samplerate, dim):\n",
    "    a = librosa.feature.mfcc(y=buffer, sr=samplerate, n_mfcc=dim)\n",
    "    a = np.transpose(a)\n",
    "    return a\n"
   ]
  },
  {
   "cell_type": "code",
   "execution_count": 4,
   "metadata": {},
   "outputs": [],
   "source": [
    "# Create callback to later draw some graphs\n",
    "\n",
    "class PerformanceLogger(Callback):\n",
    "    def __init__(self):\n",
    "        # List of tuple (loss, accuracy)\n",
    "        self.training = []\n",
    "        self.testing = []\n",
    "    def on_epoch_end(self, epoch, logs=None):\n",
    "        self.training.append((logs[\"loss\"], logs[\"acc\"]))\n",
    "        self.testing.append((logs[\"val_loss\"], logs[\"val_acc\"]))"
   ]
  },
  {
   "cell_type": "code",
   "execution_count": 5,
   "metadata": {},
   "outputs": [],
   "source": [
    "# This function prints metrics about a model\n",
    "def print_metrics(voice_module, X, Y, label_name_list):\n",
    "    Y_pred = voice_module.model._model.predict(X)\n",
    "    Y_pred = np.argmax(Y_pred, axis=1)\n",
    "    Y_max = np.argmax(Y, axis=1)\n",
    "    print(confusion_matrix(Y_max, Y_pred))\n",
    "    print(classification_report(Y_max, Y_pred, target_names=label_name_list))\n"
   ]
  },
  {
   "cell_type": "code",
   "execution_count": 6,
   "metadata": {},
   "outputs": [],
   "source": [
    "# Create class\n",
    "class EmotionClassifierLstm(KerasClassifier):\n",
    "    def __init__(self, file_path=None):\n",
    "        super().__init__(file_path)\n",
    "\n",
    "    def predict(self, x):\n",
    "        x = np.expand_dims(np.array([x]), axis=2)\n",
    "        return self._model.predict(x)\n",
    "\n",
    "    def build(self):\n",
    "        model = Sequential()\n",
    "        # This first layer add noises to the input data and serve as a data augmentation technique\n",
    "        # Used to prevent overfitting of the LSTM layer and try to extract more significant feature\n",
    "        model.add(GaussianNoise(0.4))\n",
    "        # This layer normalise the data to speed up the training and prevent the gradient of the LSTM to explode\n",
    "        # and reach exponential weight value\n",
    "        model.add(BatchNormalization())\n",
    "        # This is THE feature extraction layer\n",
    "        model.add(LSTM(128, input_shape=(128, 13), kernel_regularizer=l2(0.01)))\n",
    "        model.add(Activation('relu'))\n",
    "        model.add(Flatten())\n",
    "        model.add(BatchNormalization())\n",
    "        # This is the second part of the network, this one will be fine tuned later\n",
    "        model.add(GaussianNoise(0.2))\n",
    "        # The two last layers will be fine-tuned at the end of this notebook\n",
    "        model.add(Dense(64))\n",
    "        model.add(Dense(5))\n",
    "        model.add(Activation('softmax'))\n",
    "        model.compile(loss='categorical_crossentropy', optimizer='adam', metrics=['accuracy'])\n",
    "        self._model = model\n",
    "        \n",
    "    def train(self, X, Y, batch_size=32, epoch=720, validation_data=None, callbacks=[]):\n",
    "        self._model.fit(X, Y, batch_size=batch_size, epochs=epoch, validation_data=validation_data, callbacks=callbacks)\n",
    "\n",
    "    def transform(self, x, samplerate):\n",
    "        to_process = mfcc(x, samplerate, 13)\n",
    "        to_process = pad_sequences([to_process], maxlen=128, padding='post')[0]\n",
    "        return to_process\n"
   ]
  },
  {
   "cell_type": "code",
   "execution_count": 7,
   "metadata": {},
   "outputs": [
    {
     "name": "stdout",
     "output_type": "stream",
     "text": [
      "WARNING:tensorflow:From /home/arc/fdp5/.local/lib/python3.6/site-packages/tensorflow/python/ops/init_ops.py:1251: calling VarianceScaling.__init__ (from tensorflow.python.ops.init_ops) with dtype is deprecated and will be removed in a future version.\n",
      "Instructions for updating:\n",
      "Call initializer instance with the dtype argument instead of passing it to the constructor\n"
     ]
    }
   ],
   "source": [
    "#Instanciate model\n",
    "emotion_list = [\"calm\", \"happy\", \"angry\", \"fearful\", \"sad\"]\n",
    "dimension_mfcc = 13\n",
    "samplerate = 16000\n",
    "nb_break=None\n",
    "sample_duration=3\n",
    "step=2\n",
    "\n",
    "logger = PerformanceLogger()\n",
    "\n",
    "cls = EmotionClassifierLstm()\n",
    "vm = VoiceModule(\"emotion\", emotion_list, cls)"
   ]
  },
  {
   "cell_type": "code",
   "execution_count": 8,
   "metadata": {},
   "outputs": [
    {
     "name": "stdout",
     "output_type": "stream",
     "text": [
      "Doing calm\n",
      "Doing happy\n",
      "Doing angry\n",
      "Doing fearful\n",
      "Doing sad\n",
      "Done\n"
     ]
    }
   ],
   "source": [
    "# Prepare data for training\n",
    "data = {f: load_wav(f\"{folder_path}/{f}\", nb_break) for f in emotion_list}\n",
    "X, Y = preprare_wav(data, vm, sample_duration, step)\n",
    "print(\"Done\")"
   ]
  },
  {
   "cell_type": "code",
   "execution_count": 8,
   "metadata": {},
   "outputs": [],
   "source": [
    "X_file = f\"x_{'_'.join(emotion_list)}-{vm._name}.npy\"\n",
    "Y_file = f\"y_{'_'.join(emotion_list)}-{vm._name}.npy\""
   ]
  },
  {
   "cell_type": "code",
   "execution_count": 10,
   "metadata": {},
   "outputs": [],
   "source": [
    "# Saving the prepared input data \n",
    "np.save(X_file, X)\n",
    "np.save(Y_file, Y)\n"
   ]
  },
  {
   "cell_type": "code",
   "execution_count": 9,
   "metadata": {},
   "outputs": [],
   "source": [
    "# Load data for training\n",
    "X, Y = np.load(X_file), np.load(Y_file)"
   ]
  },
  {
   "cell_type": "code",
   "execution_count": 10,
   "metadata": {},
   "outputs": [
    {
     "name": "stdout",
     "output_type": "stream",
     "text": [
      "769 193\n",
      "(128, 13)\n",
      "float32\n"
     ]
    }
   ],
   "source": [
    "\"\"\"train_size = 80 * len(X) // 100\n",
    "test_size = 20 * len(X) // 100\n",
    "#X = np.expand_dims(X, axis=3)\n",
    "X_train, X_test, = X[:train_size], X[train_size:]\n",
    "Y_train, Y_test = Y[:train_size], Y[train_size:]\"\"\"\n",
    "X = X.astype('float32')\n",
    "X_train, X_test, Y_train, Y_test = train_test_split(X, Y, test_size=0.2, random_state=42)\n",
    "print(len(X_train), len(X_test))\n",
    "\n",
    "print(X[0].shape)\n",
    "print( X.dtype)"
   ]
  },
  {
   "cell_type": "code",
   "execution_count": null,
   "metadata": {},
   "outputs": [
    {
     "name": "stdout",
     "output_type": "stream",
     "text": [
      "Train on 769 samples, validate on 193 samples\n",
      "WARNING:tensorflow:From /home/arc/fdp5/.local/lib/python3.6/site-packages/tensorflow/python/ops/math_grad.py:1250: add_dispatch_support.<locals>.wrapper (from tensorflow.python.ops.array_ops) is deprecated and will be removed in a future version.\n",
      "Instructions for updating:\n",
      "Use tf.where in 2.0, which has the same broadcast rule as np.where\n",
      "Epoch 1/100\n",
      "769/769 [==============================] - 8s 10ms/sample - loss: 1.8828 - acc: 0.1990 - val_loss: 1.8023 - val_acc: 0.1606\n",
      "Epoch 2/100\n",
      "769/769 [==============================] - 5s 6ms/sample - loss: 1.7344 - acc: 0.3121 - val_loss: 1.7458 - val_acc: 0.2124\n",
      "Epoch 3/100\n",
      "769/769 [==============================] - 5s 6ms/sample - loss: 1.5916 - acc: 0.3524 - val_loss: 1.6971 - val_acc: 0.2746\n",
      "Epoch 4/100\n",
      "769/769 [==============================] - 5s 7ms/sample - loss: 1.4726 - acc: 0.3810 - val_loss: 1.6685 - val_acc: 0.3212\n",
      "Epoch 5/100\n",
      "769/769 [==============================] - 5s 6ms/sample - loss: 1.4066 - acc: 0.4187 - val_loss: 1.6329 - val_acc: 0.2746\n",
      "Epoch 6/100\n",
      "769/769 [==============================] - 5s 6ms/sample - loss: 1.2844 - acc: 0.4603 - val_loss: 1.5940 - val_acc: 0.2642\n",
      "Epoch 7/100\n",
      "769/769 [==============================] - 4s 5ms/sample - loss: 1.2921 - acc: 0.4733 - val_loss: 1.6020 - val_acc: 0.3472\n",
      "Epoch 8/100\n",
      "769/769 [==============================] - 4s 5ms/sample - loss: 1.2035 - acc: 0.5254 - val_loss: 1.7158 - val_acc: 0.1762\n",
      "Epoch 9/100\n",
      "769/769 [==============================] - 4s 5ms/sample - loss: 1.1849 - acc: 0.5111 - val_loss: 1.5236 - val_acc: 0.3627\n",
      "Epoch 10/100\n",
      "769/769 [==============================] - 4s 5ms/sample - loss: 1.1181 - acc: 0.5449 - val_loss: 1.4999 - val_acc: 0.3316\n",
      "Epoch 11/100\n",
      "769/769 [==============================] - 4s 5ms/sample - loss: 1.0426 - acc: 0.5709 - val_loss: 1.4673 - val_acc: 0.4560\n",
      "Epoch 12/100\n",
      "769/769 [==============================] - 3s 4ms/sample - loss: 0.9989 - acc: 0.6151 - val_loss: 1.4752 - val_acc: 0.3834\n",
      "Epoch 13/100\n",
      "769/769 [==============================] - 4s 5ms/sample - loss: 0.9885 - acc: 0.6008 - val_loss: 1.5533 - val_acc: 0.3368\n",
      "Epoch 14/100\n",
      "769/769 [==============================] - 4s 5ms/sample - loss: 0.9751 - acc: 0.6034 - val_loss: 1.3815 - val_acc: 0.4767\n",
      "Epoch 15/100\n",
      "769/769 [==============================] - 4s 5ms/sample - loss: 0.8721 - acc: 0.6515 - val_loss: 1.5768 - val_acc: 0.3472\n",
      "Epoch 16/100\n",
      "769/769 [==============================] - 3s 5ms/sample - loss: 0.8998 - acc: 0.6567 - val_loss: 1.5441 - val_acc: 0.3472\n",
      "Epoch 17/100\n",
      "769/769 [==============================] - 4s 5ms/sample - loss: 0.9002 - acc: 0.6424 - val_loss: 1.5247 - val_acc: 0.4197\n",
      "Epoch 18/100\n",
      "769/769 [==============================] - 4s 5ms/sample - loss: 0.8436 - acc: 0.6892 - val_loss: 1.3011 - val_acc: 0.4767\n",
      "Epoch 19/100\n",
      "769/769 [==============================] - 4s 5ms/sample - loss: 0.8628 - acc: 0.6762 - val_loss: 1.3318 - val_acc: 0.4301\n",
      "Epoch 20/100\n",
      "769/769 [==============================] - 4s 5ms/sample - loss: 0.8138 - acc: 0.6801 - val_loss: 1.4299 - val_acc: 0.4404\n",
      "Epoch 21/100\n",
      "769/769 [==============================] - 3s 4ms/sample - loss: 0.8088 - acc: 0.6853 - val_loss: 1.1932 - val_acc: 0.5233\n",
      "Epoch 22/100\n",
      "769/769 [==============================] - 3s 5ms/sample - loss: 0.7562 - acc: 0.7178 - val_loss: 1.3651 - val_acc: 0.3886\n",
      "Epoch 23/100\n",
      "769/769 [==============================] - 3s 4ms/sample - loss: 0.7616 - acc: 0.7048 - val_loss: 1.1315 - val_acc: 0.5855\n",
      "Epoch 24/100\n",
      "769/769 [==============================] - 3s 4ms/sample - loss: 0.7677 - acc: 0.7113 - val_loss: 1.5529 - val_acc: 0.3679\n",
      "Epoch 25/100\n",
      "769/769 [==============================] - 3s 4ms/sample - loss: 0.7009 - acc: 0.7217 - val_loss: 1.1794 - val_acc: 0.5544\n",
      "Epoch 26/100\n",
      "769/769 [==============================] - 3s 4ms/sample - loss: 0.6129 - acc: 0.7737 - val_loss: 1.1114 - val_acc: 0.5959\n",
      "Epoch 27/100\n",
      "769/769 [==============================] - 3s 4ms/sample - loss: 0.6101 - acc: 0.7867 - val_loss: 1.3306 - val_acc: 0.5285\n",
      "Epoch 28/100\n",
      "769/769 [==============================] - 3s 4ms/sample - loss: 0.6097 - acc: 0.8023 - val_loss: 1.2122 - val_acc: 0.5078\n",
      "Epoch 29/100\n",
      "769/769 [==============================] - 3s 4ms/sample - loss: 0.5663 - acc: 0.7854 - val_loss: 0.9630 - val_acc: 0.6425\n",
      "Epoch 30/100\n",
      " 64/769 [=>............................] - ETA: 2s - loss: 0.4455 - acc: 0.8750"
     ]
    }
   ],
   "source": [
    "vm.model.train(X_train, Y_train, batch_size=64, epoch=100, validation_data=(X_test, Y_test), callbacks=[logger])"
   ]
  },
  {
   "cell_type": "code",
   "execution_count": 17,
   "metadata": {},
   "outputs": [
    {
     "data": {
      "image/png": "[encoded data removed]",
      "text/plain": [
       "<matplotlib.figure.Figure at 0x7fcfe0041ac8>"
      ]
     },
     "metadata": {
      "needs_background": "light"
     },
     "output_type": "display_data"
    },
    {
     "name": "stdout",
     "output_type": "stream",
     "text": [
      "[[20  5  0  0  6]\n",
      " [ 0 38  0  3  4]\n",
      " [ 1 13 25  0  2]\n",
      " [ 0  6  1 29  3]\n",
      " [ 1  4  0  2 30]]\n",
      "              precision    recall  f1-score   support\n",
      "\n",
      "        calm       0.91      0.65      0.75        31\n",
      "       happy       0.58      0.84      0.68        45\n",
      "       angry       0.96      0.61      0.75        41\n",
      "     fearful       0.85      0.74      0.79        39\n",
      "         sad       0.67      0.81      0.73        37\n",
      "\n",
      "    accuracy                           0.74       193\n",
      "   macro avg       0.79      0.73      0.74       193\n",
      "weighted avg       0.78      0.74      0.74       193\n",
      "\n"
     ]
    }
   ],
   "source": [
    "\n",
    "plt.plot(list(range(0, len(logger.training))), list(map(lambda x:x[1], logger.training)), label=\"training data\")\n",
    "plt.plot(list(range(0, len(logger.testing))), list(map(lambda x:x[1], logger.testing)), label=\"testing data\")\n",
    "plt.xlabel('epochs')\n",
    "plt.ylabel('accuracy')\n",
    "plt.show()\n",
    "print_metrics(vm, X_test, Y_test, emotion_list)"
   ]
  },
  {
   "cell_type": "markdown",
   "metadata": {},
   "source": [
    "In this graph we can see that the model largely overfit around the 20st epoch\n",
    "We can also see that the testing data's accuracy continues to grow."
   ]
  },
  {
   "cell_type": "code",
   "execution_count": 18,
   "metadata": {},
   "outputs": [],
   "source": [
    "# Now we save the model so we don't have to retrain it each time\n",
    "vm.model.save(\"emotion_lstm.model\")"
   ]
  },
  {
   "cell_type": "code",
   "execution_count": 18,
   "metadata": {},
   "outputs": [],
   "source": [
    "# Now we save the model so we don't have to retrain it each time\n",
    "vm.model.load(\"emotion_lstm.model\")"
   ]
  },
  {
   "cell_type": "code",
   "execution_count": 19,
   "metadata": {},
   "outputs": [
    {
     "name": "stdout",
     "output_type": "stream",
     "text": [
      "Doing calm\n",
      "Doing happy\n",
      "Doing angry\n",
      "Doing fearful\n",
      "Doing sad\n"
     ]
    }
   ],
   "source": [
    "# Now we load the new dataset (savee)\n",
    "\n",
    "# First we change the folder path\n",
    "folder_path = \"../../data/savee\"\n",
    "\n",
    "# Now we load the data\n",
    "data = {f: load_wav(f\"{folder_path}/{f}\", nb_break) for f in emotion_list}\n",
    "X_savee, Y_savee = preprare_wav(data, vm, sample_duration, step)\n",
    "X_savee = X_savee.astype('float32')\n",
    "X_savee_train, X_savee_test, Y_savee_train, Y_savee_test = train_test_split(X_savee, Y_savee, test_size=0.2, random_state=42)"
   ]
  },
  {
   "cell_type": "code",
   "execution_count": null,
   "metadata": {},
   "outputs": [],
   "source": [
    "np.save(f\"X_savee_{emotion_list}-{vm._name}\", X_savee)\n",
    "np.save(f\"Y_savee_{emotion_list}-{vm._name}\", Y_savee)"
   ]
  },
  {
   "cell_type": "code",
   "execution_count": 20,
   "metadata": {},
   "outputs": [
    {
     "name": "stdout",
     "output_type": "stream",
     "text": [
      "360/360 [==============================] - 1s 2ms/sample - loss: 6.2077 - acc: 0.2222\n",
      "[[ 9 47  5  0  9]\n",
      " [ 9 48 11  0  4]\n",
      " [ 5 48 12  1  2]\n",
      " [ 6 40 14  2  3]\n",
      " [11 59  6  0  9]]\n",
      "              precision    recall  f1-score   support\n",
      "\n",
      "        calm       0.23      0.13      0.16        70\n",
      "       happy       0.20      0.67      0.31        72\n",
      "       angry       0.25      0.18      0.21        68\n",
      "     fearful       0.67      0.03      0.06        65\n",
      "         sad       0.33      0.11      0.16        85\n",
      "\n",
      "    accuracy                           0.22       360\n",
      "   macro avg       0.33      0.22      0.18       360\n",
      "weighted avg       0.33      0.22      0.18       360\n",
      "\n"
     ]
    }
   ],
   "source": [
    "vm.model._model.evaluate(X_savee, Y_savee)\n",
    "print_metrics(vm, X_savee, Y_savee, emotion_list)"
   ]
  },
  {
   "cell_type": "code",
   "execution_count": 21,
   "metadata": {},
   "outputs": [
    {
     "name": "stdout",
     "output_type": "stream",
     "text": [
      "WARNING:tensorflow:From /home/arc/fdp5/.local/lib/python3.6/site-packages/tensorflow/python/ops/init_ops.py:97: calling Zeros.__init__ (from tensorflow.python.ops.init_ops) with dtype is deprecated and will be removed in a future version.\n",
      "Instructions for updating:\n",
      "Call initializer instance with the dtype argument instead of passing it to the constructor\n",
      "WARNING:tensorflow:From /home/arc/fdp5/.local/lib/python3.6/site-packages/tensorflow/python/ops/init_ops.py:97: calling Ones.__init__ (from tensorflow.python.ops.init_ops) with dtype is deprecated and will be removed in a future version.\n",
      "Instructions for updating:\n",
      "Call initializer instance with the dtype argument instead of passing it to the constructor\n",
      "WARNING:tensorflow:From /home/arc/fdp5/.local/lib/python3.6/site-packages/tensorflow/python/ops/init_ops.py:97: calling GlorotUniform.__init__ (from tensorflow.python.ops.init_ops) with dtype is deprecated and will be removed in a future version.\n",
      "Instructions for updating:\n",
      "Call initializer instance with the dtype argument instead of passing it to the constructor\n",
      "WARNING:tensorflow:From /home/arc/fdp5/.local/lib/python3.6/site-packages/tensorflow/python/ops/init_ops.py:97: calling Orthogonal.__init__ (from tensorflow.python.ops.init_ops) with dtype is deprecated and will be removed in a future version.\n",
      "Instructions for updating:\n",
      "Call initializer instance with the dtype argument instead of passing it to the constructor\n",
      "gaussian_noise_2\n",
      "batch_normalization_2\n",
      "lstm_1\n",
      "activation_2\n",
      "flatten_1\n",
      "batch_normalization_3\n",
      "gaussian_noise_3\n"
     ]
    }
   ],
   "source": [
    "# Now we freeze every layer used for extracting features from data\n",
    "savee_model = keras.models.clone_model(vm.model._model)\n",
    "for layer in savee_model.layers[:-3]:\n",
    "    print(layer.name)\n",
    "    layer.trainable = False\n",
    "savee_model.compile(loss='categorical_crossentropy', optimizer='adam', metrics=['accuracy'])\n",
    "savee_cls = EmotionClassifierLstm()\n",
    "savee_cls._model = savee_model\n",
    "savee_vm = VoiceModule(\"emotion\", emotion_list, savee_cls)"
   ]
  },
  {
   "cell_type": "code",
   "execution_count": 22,
   "metadata": {
    "scrolled": true
   },
   "outputs": [
    {
     "name": "stdout",
     "output_type": "stream",
     "text": [
      "Train on 288 samples, validate on 72 samples\n",
      "Epoch 1/100\n",
      "288/288 [==============================] - 3s 11ms/sample - loss: 1.9156 - acc: 0.2014 - val_loss: 1.8587 - val_acc: 0.1111\n",
      "Epoch 2/100\n",
      "288/288 [==============================] - 2s 6ms/sample - loss: 1.9065 - acc: 0.1840 - val_loss: 1.8603 - val_acc: 0.2639\n",
      "Epoch 3/100\n",
      "288/288 [==============================] - 2s 6ms/sample - loss: 1.8898 - acc: 0.2153 - val_loss: 1.8613 - val_acc: 0.2639\n",
      "Epoch 4/100\n",
      "288/288 [==============================] - 2s 5ms/sample - loss: 1.9251 - acc: 0.1910 - val_loss: 1.8615 - val_acc: 0.2639\n",
      "Epoch 5/100\n",
      "288/288 [==============================] - 2s 6ms/sample - loss: 1.9054 - acc: 0.1806 - val_loss: 1.8635 - val_acc: 0.2639\n",
      "Epoch 6/100\n",
      "288/288 [==============================] - 2s 6ms/sample - loss: 1.8757 - acc: 0.2431 - val_loss: 1.8599 - val_acc: 0.2639\n",
      "Epoch 7/100\n",
      "288/288 [==============================] - 2s 6ms/sample - loss: 1.8984 - acc: 0.1562 - val_loss: 1.8597 - val_acc: 0.2639\n",
      "Epoch 8/100\n",
      "288/288 [==============================] - 2s 6ms/sample - loss: 1.8925 - acc: 0.2222 - val_loss: 1.8630 - val_acc: 0.2639\n",
      "Epoch 9/100\n",
      "288/288 [==============================] - 2s 6ms/sample - loss: 1.8789 - acc: 0.1944 - val_loss: 1.8590 - val_acc: 0.2639\n",
      "Epoch 10/100\n",
      "288/288 [==============================] - 2s 6ms/sample - loss: 1.8917 - acc: 0.2083 - val_loss: 1.8617 - val_acc: 0.2639\n",
      "Epoch 11/100\n",
      "288/288 [==============================] - 2s 5ms/sample - loss: 1.8846 - acc: 0.2292 - val_loss: 1.8603 - val_acc: 0.2639\n",
      "Epoch 12/100\n",
      "288/288 [==============================] - 2s 6ms/sample - loss: 1.8920 - acc: 0.2292 - val_loss: 1.8592 - val_acc: 0.2639\n",
      "Epoch 13/100\n",
      "288/288 [==============================] - 2s 6ms/sample - loss: 1.8654 - acc: 0.2083 - val_loss: 1.8607 - val_acc: 0.2639\n",
      "Epoch 14/100\n",
      "288/288 [==============================] - 2s 7ms/sample - loss: 1.8748 - acc: 0.2014 - val_loss: 1.8617 - val_acc: 0.2639\n",
      "Epoch 15/100\n",
      "288/288 [==============================] - 2s 7ms/sample - loss: 1.8911 - acc: 0.1667 - val_loss: 1.8633 - val_acc: 0.2639\n",
      "Epoch 16/100\n",
      "288/288 [==============================] - 2s 6ms/sample - loss: 1.9032 - acc: 0.2049 - val_loss: 1.8620 - val_acc: 0.2639\n",
      "Epoch 17/100\n",
      "288/288 [==============================] - 2s 6ms/sample - loss: 1.8762 - acc: 0.2118 - val_loss: 1.8641 - val_acc: 0.2639\n",
      "Epoch 18/100\n",
      "288/288 [==============================] - 2s 6ms/sample - loss: 1.9044 - acc: 0.1771 - val_loss: 1.8640 - val_acc: 0.2639\n",
      "Epoch 19/100\n",
      "288/288 [==============================] - 2s 6ms/sample - loss: 1.8759 - acc: 0.2083 - val_loss: 1.8602 - val_acc: 0.2639\n",
      "Epoch 20/100\n",
      "288/288 [==============================] - 2s 6ms/sample - loss: 1.8791 - acc: 0.1910 - val_loss: 1.8616 - val_acc: 0.2639\n",
      "Epoch 21/100\n",
      "288/288 [==============================] - 2s 5ms/sample - loss: 1.8881 - acc: 0.1771 - val_loss: 1.8615 - val_acc: 0.2639\n",
      "Epoch 22/100\n",
      "288/288 [==============================] - 2s 6ms/sample - loss: 1.8919 - acc: 0.1875 - val_loss: 1.8614 - val_acc: 0.2639\n",
      "Epoch 23/100\n",
      "288/288 [==============================] - 2s 5ms/sample - loss: 1.8785 - acc: 0.2292 - val_loss: 1.8627 - val_acc: 0.2639\n",
      "Epoch 24/100\n",
      "288/288 [==============================] - 1s 5ms/sample - loss: 1.8814 - acc: 0.2153 - val_loss: 1.8610 - val_acc: 0.2639\n",
      "Epoch 25/100\n",
      "288/288 [==============================] - 2s 6ms/sample - loss: 1.8869 - acc: 0.2083 - val_loss: 1.8617 - val_acc: 0.2639\n",
      "Epoch 26/100\n",
      "288/288 [==============================] - 2s 6ms/sample - loss: 1.8940 - acc: 0.2083 - val_loss: 1.8587 - val_acc: 0.2639\n",
      "Epoch 27/100\n",
      "288/288 [==============================] - 1s 5ms/sample - loss: 1.8783 - acc: 0.1840 - val_loss: 1.8604 - val_acc: 0.2639\n",
      "Epoch 28/100\n",
      "288/288 [==============================] - 2s 6ms/sample - loss: 1.8719 - acc: 0.1979 - val_loss: 1.8613 - val_acc: 0.2639\n",
      "Epoch 29/100\n",
      "288/288 [==============================] - 2s 6ms/sample - loss: 1.8704 - acc: 0.2083 - val_loss: 1.8596 - val_acc: 0.2639\n",
      "Epoch 30/100\n",
      "288/288 [==============================] - 2s 5ms/sample - loss: 1.8802 - acc: 0.1910 - val_loss: 1.8604 - val_acc: 0.2639\n",
      "Epoch 31/100\n",
      "288/288 [==============================] - 1s 5ms/sample - loss: 1.8716 - acc: 0.2014 - val_loss: 1.8614 - val_acc: 0.2639\n",
      "Epoch 32/100\n",
      "288/288 [==============================] - 2s 6ms/sample - loss: 1.8795 - acc: 0.1979 - val_loss: 1.8631 - val_acc: 0.2639\n",
      "Epoch 33/100\n",
      "288/288 [==============================] - 2s 6ms/sample - loss: 1.8912 - acc: 0.2083 - val_loss: 1.8609 - val_acc: 0.2639\n",
      "Epoch 34/100\n",
      "288/288 [==============================] - 2s 6ms/sample - loss: 1.8674 - acc: 0.2049 - val_loss: 1.8600 - val_acc: 0.2639\n",
      "Epoch 35/100\n",
      "288/288 [==============================] - 2s 6ms/sample - loss: 1.8913 - acc: 0.1701 - val_loss: 1.8588 - val_acc: 0.2639\n",
      "Epoch 36/100\n",
      "288/288 [==============================] - 2s 6ms/sample - loss: 1.8700 - acc: 0.2083 - val_loss: 1.8607 - val_acc: 0.2639\n",
      "Epoch 37/100\n",
      "288/288 [==============================] - 2s 6ms/sample - loss: 1.8874 - acc: 0.2049 - val_loss: 1.8602 - val_acc: 0.2639\n",
      "Epoch 38/100\n",
      "288/288 [==============================] - 2s 6ms/sample - loss: 1.8814 - acc: 0.1840 - val_loss: 1.8588 - val_acc: 0.2639\n",
      "Epoch 39/100\n",
      "288/288 [==============================] - 2s 5ms/sample - loss: 1.8856 - acc: 0.1875 - val_loss: 1.8624 - val_acc: 0.2639\n",
      "Epoch 40/100\n",
      "288/288 [==============================] - 2s 6ms/sample - loss: 1.8708 - acc: 0.1979 - val_loss: 1.8610 - val_acc: 0.2639\n",
      "Epoch 41/100\n",
      "288/288 [==============================] - 2s 5ms/sample - loss: 1.8767 - acc: 0.2083 - val_loss: 1.8607 - val_acc: 0.2639\n",
      "Epoch 42/100\n",
      "288/288 [==============================] - 2s 7ms/sample - loss: 1.8662 - acc: 0.2326 - val_loss: 1.8606 - val_acc: 0.2639\n",
      "Epoch 43/100\n",
      "288/288 [==============================] - 2s 6ms/sample - loss: 1.8750 - acc: 0.1944 - val_loss: 1.8615 - val_acc: 0.2639\n",
      "Epoch 44/100\n",
      "288/288 [==============================] - 1s 5ms/sample - loss: 1.8713 - acc: 0.2083 - val_loss: 1.8589 - val_acc: 0.2639\n",
      "Epoch 45/100\n",
      "288/288 [==============================] - 1s 5ms/sample - loss: 1.8832 - acc: 0.1979 - val_loss: 1.8619 - val_acc: 0.2639\n",
      "Epoch 46/100\n",
      "288/288 [==============================] - 2s 5ms/sample - loss: 1.8822 - acc: 0.1736 - val_loss: 1.8609 - val_acc: 0.2639\n",
      "Epoch 47/100\n",
      "288/288 [==============================] - 1s 5ms/sample - loss: 1.8706 - acc: 0.2361 - val_loss: 1.8606 - val_acc: 0.2639\n",
      "Epoch 48/100\n",
      "288/288 [==============================] - 2s 6ms/sample - loss: 1.8751 - acc: 0.1875 - val_loss: 1.8597 - val_acc: 0.2639\n",
      "Epoch 49/100\n",
      "288/288 [==============================] - 2s 6ms/sample - loss: 1.8627 - acc: 0.2465 - val_loss: 1.8607 - val_acc: 0.2639\n",
      "Epoch 50/100\n",
      "288/288 [==============================] - 2s 5ms/sample - loss: 1.8698 - acc: 0.2083 - val_loss: 1.8619 - val_acc: 0.2639\n",
      "Epoch 51/100\n",
      "288/288 [==============================] - 2s 5ms/sample - loss: 1.9012 - acc: 0.1632 - val_loss: 1.8613 - val_acc: 0.2639\n",
      "Epoch 52/100\n",
      "288/288 [==============================] - 2s 6ms/sample - loss: 1.8694 - acc: 0.2257 - val_loss: 1.8600 - val_acc: 0.2639\n",
      "Epoch 53/100\n",
      "288/288 [==============================] - 2s 6ms/sample - loss: 1.8738 - acc: 0.2292 - val_loss: 1.8610 - val_acc: 0.2639\n",
      "Epoch 54/100\n",
      "288/288 [==============================] - 2s 6ms/sample - loss: 1.8805 - acc: 0.1736 - val_loss: 1.8606 - val_acc: 0.2639\n",
      "Epoch 55/100\n",
      "288/288 [==============================] - 2s 6ms/sample - loss: 1.8762 - acc: 0.2188 - val_loss: 1.8598 - val_acc: 0.2639\n",
      "Epoch 56/100\n",
      "288/288 [==============================] - 2s 6ms/sample - loss: 1.8651 - acc: 0.2188 - val_loss: 1.8623 - val_acc: 0.2639\n",
      "Epoch 57/100\n",
      "288/288 [==============================] - 1s 5ms/sample - loss: 1.8638 - acc: 0.2188 - val_loss: 1.8613 - val_acc: 0.2639\n",
      "Epoch 58/100\n",
      "288/288 [==============================] - 2s 6ms/sample - loss: 1.8796 - acc: 0.2153 - val_loss: 1.8633 - val_acc: 0.2639\n",
      "Epoch 59/100\n",
      "288/288 [==============================] - 2s 6ms/sample - loss: 1.8696 - acc: 0.2153 - val_loss: 1.8611 - val_acc: 0.2639\n",
      "Epoch 60/100\n",
      "288/288 [==============================] - 1s 5ms/sample - loss: 1.8752 - acc: 0.2257 - val_loss: 1.8603 - val_acc: 0.2639\n"
     ]
    },
    {
     "name": "stdout",
     "output_type": "stream",
     "text": [
      "Epoch 61/100\n",
      "288/288 [==============================] - 1s 5ms/sample - loss: 1.8771 - acc: 0.1875 - val_loss: 1.8628 - val_acc: 0.2639\n",
      "Epoch 62/100\n",
      "288/288 [==============================] - 2s 6ms/sample - loss: 1.8723 - acc: 0.2083 - val_loss: 1.8612 - val_acc: 0.2639\n",
      "Epoch 63/100\n",
      "288/288 [==============================] - 2s 6ms/sample - loss: 1.8803 - acc: 0.2049 - val_loss: 1.8622 - val_acc: 0.2639\n",
      "Epoch 64/100\n",
      "288/288 [==============================] - 2s 6ms/sample - loss: 1.8736 - acc: 0.1979 - val_loss: 1.8624 - val_acc: 0.2639\n",
      "Epoch 65/100\n",
      "288/288 [==============================] - 2s 6ms/sample - loss: 1.8543 - acc: 0.2882 - val_loss: 1.8630 - val_acc: 0.2639\n",
      "Epoch 66/100\n",
      "288/288 [==============================] - 2s 6ms/sample - loss: 1.8761 - acc: 0.2326 - val_loss: 1.8614 - val_acc: 0.2639\n",
      "Epoch 67/100\n",
      "288/288 [==============================] - 2s 6ms/sample - loss: 1.8695 - acc: 0.2188 - val_loss: 1.8623 - val_acc: 0.2639\n",
      "Epoch 68/100\n",
      "288/288 [==============================] - 2s 6ms/sample - loss: 1.8738 - acc: 0.2118 - val_loss: 1.8613 - val_acc: 0.2639\n",
      "Epoch 69/100\n",
      "288/288 [==============================] - 2s 5ms/sample - loss: 1.8647 - acc: 0.2465 - val_loss: 1.8624 - val_acc: 0.2639\n",
      "Epoch 70/100\n",
      "288/288 [==============================] - 2s 6ms/sample - loss: 1.8789 - acc: 0.1840 - val_loss: 1.8609 - val_acc: 0.2639\n",
      "Epoch 71/100\n",
      "288/288 [==============================] - 1s 5ms/sample - loss: 1.8743 - acc: 0.2153 - val_loss: 1.8607 - val_acc: 0.2639\n",
      "Epoch 72/100\n",
      "288/288 [==============================] - 1s 5ms/sample - loss: 1.8750 - acc: 0.1875 - val_loss: 1.8603 - val_acc: 0.2639\n",
      "Epoch 73/100\n",
      "288/288 [==============================] - 2s 5ms/sample - loss: 1.8655 - acc: 0.2222 - val_loss: 1.8601 - val_acc: 0.2639\n",
      "Epoch 74/100\n",
      "288/288 [==============================] - 2s 6ms/sample - loss: 1.8770 - acc: 0.2083 - val_loss: 1.8594 - val_acc: 0.2639\n",
      "Epoch 75/100\n",
      "288/288 [==============================] - 1s 5ms/sample - loss: 1.8649 - acc: 0.2326 - val_loss: 1.8603 - val_acc: 0.2639\n",
      "Epoch 76/100\n",
      "288/288 [==============================] - 2s 5ms/sample - loss: 1.8779 - acc: 0.1840 - val_loss: 1.8606 - val_acc: 0.2639\n",
      "Epoch 77/100\n",
      "288/288 [==============================] - 2s 6ms/sample - loss: 1.8765 - acc: 0.2118 - val_loss: 1.8597 - val_acc: 0.2639\n",
      "Epoch 78/100\n",
      "288/288 [==============================] - 1s 5ms/sample - loss: 1.8640 - acc: 0.2396 - val_loss: 1.8592 - val_acc: 0.2639\n",
      "Epoch 79/100\n",
      "288/288 [==============================] - 1s 5ms/sample - loss: 1.8962 - acc: 0.1840 - val_loss: 1.8617 - val_acc: 0.2639\n",
      "Epoch 80/100\n",
      "288/288 [==============================] - 2s 5ms/sample - loss: 1.8821 - acc: 0.1806 - val_loss: 1.8600 - val_acc: 0.2639\n",
      "Epoch 81/100\n",
      "288/288 [==============================] - 2s 5ms/sample - loss: 1.8631 - acc: 0.2222 - val_loss: 1.8604 - val_acc: 0.2639\n",
      "Epoch 82/100\n",
      "288/288 [==============================] - 1s 5ms/sample - loss: 1.8739 - acc: 0.2014 - val_loss: 1.8604 - val_acc: 0.2639\n",
      "Epoch 83/100\n",
      "288/288 [==============================] - 1s 4ms/sample - loss: 1.8711 - acc: 0.2153 - val_loss: 1.8604 - val_acc: 0.2639\n",
      "Epoch 84/100\n",
      "288/288 [==============================] - 2s 6ms/sample - loss: 1.8716 - acc: 0.1840 - val_loss: 1.8606 - val_acc: 0.2639\n",
      "Epoch 85/100\n",
      "288/288 [==============================] - 2s 6ms/sample - loss: 1.8620 - acc: 0.2083 - val_loss: 1.8610 - val_acc: 0.2639\n",
      "Epoch 86/100\n",
      "288/288 [==============================] - 2s 6ms/sample - loss: 1.8694 - acc: 0.2257 - val_loss: 1.8605 - val_acc: 0.2639\n",
      "Epoch 87/100\n",
      "288/288 [==============================] - 2s 6ms/sample - loss: 1.8749 - acc: 0.2118 - val_loss: 1.8595 - val_acc: 0.2639\n",
      "Epoch 88/100\n",
      "288/288 [==============================] - 2s 6ms/sample - loss: 1.8624 - acc: 0.2222 - val_loss: 1.8619 - val_acc: 0.2639\n",
      "Epoch 89/100\n",
      "288/288 [==============================] - 2s 6ms/sample - loss: 1.8482 - acc: 0.2604 - val_loss: 1.8610 - val_acc: 0.2639\n",
      "Epoch 90/100\n",
      "288/288 [==============================] - 2s 7ms/sample - loss: 1.8757 - acc: 0.2153 - val_loss: 1.8606 - val_acc: 0.2639\n",
      "Epoch 91/100\n",
      "288/288 [==============================] - 2s 6ms/sample - loss: 1.8598 - acc: 0.2431 - val_loss: 1.8603 - val_acc: 0.2639\n",
      "Epoch 92/100\n",
      "288/288 [==============================] - 2s 6ms/sample - loss: 1.8621 - acc: 0.2431 - val_loss: 1.8606 - val_acc: 0.2639\n",
      "Epoch 93/100\n",
      "288/288 [==============================] - 2s 6ms/sample - loss: 1.8585 - acc: 0.2222 - val_loss: 1.8614 - val_acc: 0.2639\n",
      "Epoch 94/100\n",
      "288/288 [==============================] - 2s 6ms/sample - loss: 1.8758 - acc: 0.1875 - val_loss: 1.8618 - val_acc: 0.2639\n",
      "Epoch 95/100\n",
      "288/288 [==============================] - 2s 6ms/sample - loss: 1.8787 - acc: 0.2083 - val_loss: 1.8603 - val_acc: 0.2639\n",
      "Epoch 96/100\n",
      "288/288 [==============================] - 2s 6ms/sample - loss: 1.8664 - acc: 0.2292 - val_loss: 1.8606 - val_acc: 0.2639\n",
      "Epoch 97/100\n",
      "288/288 [==============================] - 1s 5ms/sample - loss: 1.8764 - acc: 0.2118 - val_loss: 1.8612 - val_acc: 0.2639\n",
      "Epoch 98/100\n",
      "288/288 [==============================] - 2s 5ms/sample - loss: 1.8622 - acc: 0.2188 - val_loss: 1.8607 - val_acc: 0.2639\n",
      "Epoch 99/100\n",
      "288/288 [==============================] - 2s 6ms/sample - loss: 1.8714 - acc: 0.1840 - val_loss: 1.8611 - val_acc: 0.2639\n",
      "Epoch 100/100\n",
      "288/288 [==============================] - 1s 5ms/sample - loss: 1.8767 - acc: 0.1979 - val_loss: 1.8594 - val_acc: 0.2639\n"
     ]
    }
   ],
   "source": [
    "# And we train the two last layers\n",
    "# This is classic fine tuning\n",
    "savee_vm.model.train(X_savee_train, Y_savee_train, batch_size=10, validation_data=(X_savee_test, Y_savee_test), epoch=100)"
   ]
  },
  {
   "cell_type": "code",
   "execution_count": 23,
   "metadata": {
    "scrolled": true
   },
   "outputs": [
    {
     "name": "stdout",
     "output_type": "stream",
     "text": [
      "[[ 0  0  0  0 16]\n",
      " [ 0  0  0  0 18]\n",
      " [ 0  0  0  0  9]\n",
      " [ 0  0  0  0 10]\n",
      " [ 0  0  0  0 19]]\n",
      "              precision    recall  f1-score   support\n",
      "\n",
      "        calm       0.00      0.00      0.00        16\n",
      "       happy       0.00      0.00      0.00        18\n",
      "       angry       0.00      0.00      0.00         9\n",
      "     fearful       0.00      0.00      0.00        10\n",
      "         sad       0.26      1.00      0.42        19\n",
      "\n",
      "    accuracy                           0.26        72\n",
      "   macro avg       0.05      0.20      0.08        72\n",
      "weighted avg       0.07      0.26      0.11        72\n",
      "\n"
     ]
    },
    {
     "name": "stderr",
     "output_type": "stream",
     "text": [
      "/home/arc/fdp5/.local/lib/python3.6/site-packages/sklearn/metrics/_classification.py:1221: UndefinedMetricWarning: Precision and F-score are ill-defined and being set to 0.0 in labels with no predicted samples. Use `zero_division` parameter to control this behavior.\n",
      "  _warn_prf(average, modifier, msg_start, len(result))\n"
     ]
    }
   ],
   "source": [
    "print_metrics(savee_vm, X_savee_test, Y_savee_test, emotion_list)"
   ]
  },
  {
   "cell_type": "code",
   "execution_count": 30,
   "metadata": {},
   "outputs": [
    {
     "name": "stdout",
     "output_type": "stream",
     "text": [
      "Doing calm\n",
      "Doing happy\n",
      "Doing angry\n",
      "Doing fearful\n",
      "Doing sad\n"
     ]
    }
   ],
   "source": [
    "# Now we load the new dataset (savee)\n",
    "\n",
    "# First we change the folder path\n",
    "folder_path = \"../../data/bdes\"\n",
    "\n",
    "# Now we load the data\n",
    "data = {f: load_wav(f\"{folder_path}/{f}\", nb_break) for f in emotion_list}\n",
    "X_bdes, Y_bdes = preprare_wav(data, vm, sample_duration, step)\n",
    "X_bdes = X_bdes.astype('float32')\n",
    "X_bdes_train, X_bdes_test, Y_bdes_train, Y_bdes_test = train_test_split(X_bdes, Y_bdes, test_size=0.2, random_state=42)"
   ]
  },
  {
   "cell_type": "code",
   "execution_count": 25,
   "metadata": {},
   "outputs": [],
   "source": [
    "np.save(f\"X_bdes_{vm._name}\", X_bdes)\n",
    "np.save(f\"Y_bdes_{vm._name}\", Y_bdes)"
   ]
  },
  {
   "cell_type": "code",
   "execution_count": 31,
   "metadata": {},
   "outputs": [
    {
     "name": "stdout",
     "output_type": "stream",
     "text": [
      "388/388 [==============================] - 1s 3ms/sample - loss: 5.8306 - acc: 0.2861\n",
      "[[ 0 47 25  7  0]\n",
      " [ 1 33 34  3  0]\n",
      " [ 0 19 65  4  0]\n",
      " [ 0 21 40  8  0]\n",
      " [14 37 10 15  5]]\n",
      "              precision    recall  f1-score   support\n",
      "\n",
      "        calm       0.00      0.00      0.00        79\n",
      "       happy       0.21      0.46      0.29        71\n",
      "       angry       0.37      0.74      0.50        88\n",
      "     fearful       0.22      0.12      0.15        69\n",
      "         sad       1.00      0.06      0.12        81\n",
      "\n",
      "    accuracy                           0.29       388\n",
      "   macro avg       0.36      0.28      0.21       388\n",
      "weighted avg       0.37      0.29      0.22       388\n",
      "\n"
     ]
    }
   ],
   "source": [
    "vm.model._model.evaluate(X_bdes, Y_bdes)\n",
    "print_metrics(vm, X_bdes, Y_bdes, emotion_list)"
   ]
  },
  {
   "cell_type": "code",
   "execution_count": 32,
   "metadata": {},
   "outputs": [
    {
     "name": "stdout",
     "output_type": "stream",
     "text": [
      "gaussian_noise_2\n",
      "batch_normalization_2\n",
      "lstm_1\n",
      "activation_2\n",
      "flatten_1\n",
      "batch_normalization_3\n",
      "gaussian_noise_3\n"
     ]
    }
   ],
   "source": [
    "# Now we freeze every layer used for extracting features from data\n",
    "bdes_model = keras.models.clone_model(vm.model._model)\n",
    "for layer in bdes_model.layers[:-3]:\n",
    "    print(layer.name)\n",
    "    layer.trainable = False\n",
    "bdes_model.compile(loss='categorical_crossentropy', optimizer='adam', metrics=['accuracy'])\n",
    "bdes_cls = EmotionClassifierLstm()\n",
    "bdes_cls._model = bdes_model\n",
    "bdes_vm = VoiceModule(\"emotion\", emotion_list, bdes_cls)"
   ]
  },
  {
   "cell_type": "code",
   "execution_count": 33,
   "metadata": {
    "scrolled": true
   },
   "outputs": [
    {
     "name": "stdout",
     "output_type": "stream",
     "text": [
      "Train on 310 samples, validate on 78 samples\n",
      "Epoch 1/100\n",
      "310/310 [==============================] - 5s 16ms/sample - loss: 1.8981 - acc: 0.1613 - val_loss: 1.8674 - val_acc: 0.1923\n",
      "Epoch 2/100\n",
      "310/310 [==============================] - 3s 9ms/sample - loss: 1.9033 - acc: 0.2194 - val_loss: 1.8679 - val_acc: 0.1923\n",
      "Epoch 3/100\n",
      "310/310 [==============================] - 3s 10ms/sample - loss: 1.9133 - acc: 0.1710 - val_loss: 1.8677 - val_acc: 0.1923\n",
      "Epoch 4/100\n",
      "310/310 [==============================] - 3s 11ms/sample - loss: 1.8736 - acc: 0.2258 - val_loss: 1.8699 - val_acc: 0.1923\n",
      "Epoch 5/100\n",
      "310/310 [==============================] - 3s 11ms/sample - loss: 1.8972 - acc: 0.1839 - val_loss: 1.8706 - val_acc: 0.1923\n",
      "Epoch 6/100\n",
      "310/310 [==============================] - 3s 11ms/sample - loss: 1.8684 - acc: 0.2387 - val_loss: 1.8723 - val_acc: 0.1923\n",
      "Epoch 7/100\n",
      "310/310 [==============================] - 3s 11ms/sample - loss: 1.8908 - acc: 0.1871 - val_loss: 1.8741 - val_acc: 0.1923\n",
      "Epoch 8/100\n",
      "310/310 [==============================] - 3s 10ms/sample - loss: 1.8971 - acc: 0.1935 - val_loss: 1.8742 - val_acc: 0.1923\n",
      "Epoch 9/100\n",
      "310/310 [==============================] - 3s 11ms/sample - loss: 1.8949 - acc: 0.2032 - val_loss: 1.8734 - val_acc: 0.1923\n",
      "Epoch 10/100\n",
      "310/310 [==============================] - 3s 10ms/sample - loss: 1.8645 - acc: 0.2419 - val_loss: 1.8731 - val_acc: 0.1923\n",
      "Epoch 11/100\n",
      "310/310 [==============================] - 3s 10ms/sample - loss: 1.8817 - acc: 0.2226 - val_loss: 1.8749 - val_acc: 0.1923\n",
      "Epoch 12/100\n",
      "310/310 [==============================] - 3s 10ms/sample - loss: 1.8850 - acc: 0.2194 - val_loss: 1.8724 - val_acc: 0.1923\n",
      "Epoch 13/100\n",
      "310/310 [==============================] - 3s 9ms/sample - loss: 1.8693 - acc: 0.2065 - val_loss: 1.8756 - val_acc: 0.1923\n",
      "Epoch 14/100\n",
      "310/310 [==============================] - 3s 10ms/sample - loss: 1.8741 - acc: 0.2290 - val_loss: 1.8752 - val_acc: 0.1923\n",
      "Epoch 15/100\n",
      "310/310 [==============================] - 3s 10ms/sample - loss: 1.8762 - acc: 0.1903 - val_loss: 1.8764 - val_acc: 0.1923\n",
      "Epoch 16/100\n",
      "310/310 [==============================] - 3s 9ms/sample - loss: 1.8859 - acc: 0.2194 - val_loss: 1.8761 - val_acc: 0.1923\n",
      "Epoch 17/100\n",
      "310/310 [==============================] - 3s 9ms/sample - loss: 1.8634 - acc: 0.2484 - val_loss: 1.8760 - val_acc: 0.1923\n",
      "Epoch 18/100\n",
      "310/310 [==============================] - 3s 10ms/sample - loss: 1.8900 - acc: 0.1903 - val_loss: 1.8777 - val_acc: 0.1923\n",
      "Epoch 19/100\n",
      "310/310 [==============================] - 3s 9ms/sample - loss: 1.8904 - acc: 0.1903 - val_loss: 1.8758 - val_acc: 0.1923\n",
      "Epoch 20/100\n",
      "310/310 [==============================] - 3s 9ms/sample - loss: 1.8760 - acc: 0.2161 - val_loss: 1.8757 - val_acc: 0.1923\n",
      "Epoch 21/100\n",
      "310/310 [==============================] - 3s 9ms/sample - loss: 1.8745 - acc: 0.2097 - val_loss: 1.8751 - val_acc: 0.1923\n",
      "Epoch 22/100\n",
      "310/310 [==============================] - 3s 9ms/sample - loss: 1.8879 - acc: 0.1903 - val_loss: 1.8766 - val_acc: 0.1923\n",
      "Epoch 23/100\n",
      "310/310 [==============================] - 3s 9ms/sample - loss: 1.8791 - acc: 0.2226 - val_loss: 1.8761 - val_acc: 0.1923\n",
      "Epoch 24/100\n",
      "310/310 [==============================] - 3s 10ms/sample - loss: 1.8767 - acc: 0.2161 - val_loss: 1.8783 - val_acc: 0.1923\n",
      "Epoch 25/100\n",
      "310/310 [==============================] - 3s 10ms/sample - loss: 1.8644 - acc: 0.2419 - val_loss: 1.8744 - val_acc: 0.1923\n",
      "Epoch 26/100\n",
      "310/310 [==============================] - 3s 9ms/sample - loss: 1.8842 - acc: 0.2226 - val_loss: 1.8756 - val_acc: 0.1923\n",
      "Epoch 27/100\n",
      "310/310 [==============================] - 3s 9ms/sample - loss: 1.8735 - acc: 0.2484 - val_loss: 1.8748 - val_acc: 0.1923\n",
      "Epoch 28/100\n",
      "310/310 [==============================] - 3s 9ms/sample - loss: 1.8677 - acc: 0.2548 - val_loss: 1.8768 - val_acc: 0.1923\n",
      "Epoch 29/100\n",
      "310/310 [==============================] - 3s 10ms/sample - loss: 1.8792 - acc: 0.1903 - val_loss: 1.8776 - val_acc: 0.1923\n",
      "Epoch 30/100\n",
      "310/310 [==============================] - 3s 10ms/sample - loss: 1.8701 - acc: 0.2548 - val_loss: 1.8762 - val_acc: 0.1923\n",
      "Epoch 31/100\n",
      "310/310 [==============================] - 3s 10ms/sample - loss: 1.8718 - acc: 0.1903 - val_loss: 1.8744 - val_acc: 0.1923\n",
      "Epoch 32/100\n",
      "310/310 [==============================] - 3s 9ms/sample - loss: 1.8873 - acc: 0.2097 - val_loss: 1.8774 - val_acc: 0.1923\n",
      "Epoch 33/100\n",
      "310/310 [==============================] - 3s 9ms/sample - loss: 1.8658 - acc: 0.2323 - val_loss: 1.8777 - val_acc: 0.1923\n",
      "Epoch 34/100\n",
      "310/310 [==============================] - 3s 10ms/sample - loss: 1.8756 - acc: 0.1968 - val_loss: 1.8766 - val_acc: 0.1923\n",
      "Epoch 35/100\n",
      "310/310 [==============================] - 3s 9ms/sample - loss: 1.8847 - acc: 0.2194 - val_loss: 1.8769 - val_acc: 0.1923\n",
      "Epoch 36/100\n",
      "310/310 [==============================] - 3s 8ms/sample - loss: 1.8680 - acc: 0.2323 - val_loss: 1.8774 - val_acc: 0.1923\n",
      "Epoch 37/100\n",
      "310/310 [==============================] - 3s 9ms/sample - loss: 1.8750 - acc: 0.2129 - val_loss: 1.8756 - val_acc: 0.1923\n",
      "Epoch 38/100\n",
      "310/310 [==============================] - 3s 10ms/sample - loss: 1.8712 - acc: 0.2097 - val_loss: 1.8747 - val_acc: 0.1923\n",
      "Epoch 39/100\n",
      "310/310 [==============================] - 3s 10ms/sample - loss: 1.8786 - acc: 0.2387 - val_loss: 1.8749 - val_acc: 0.1923\n",
      "Epoch 40/100\n",
      "310/310 [==============================] - 3s 10ms/sample - loss: 1.8859 - acc: 0.2194 - val_loss: 1.8733 - val_acc: 0.1923\n",
      "Epoch 41/100\n",
      "310/310 [==============================] - 3s 10ms/sample - loss: 1.8860 - acc: 0.2355 - val_loss: 1.8752 - val_acc: 0.1923\n",
      "Epoch 42/100\n",
      "310/310 [==============================] - 3s 11ms/sample - loss: 1.8594 - acc: 0.2194 - val_loss: 1.8735 - val_acc: 0.1923\n",
      "Epoch 43/100\n",
      "310/310 [==============================] - 3s 11ms/sample - loss: 1.8698 - acc: 0.2226 - val_loss: 1.8739 - val_acc: 0.1923\n",
      "Epoch 44/100\n",
      "310/310 [==============================] - 3s 10ms/sample - loss: 1.8768 - acc: 0.2161 - val_loss: 1.8751 - val_acc: 0.1923\n",
      "Epoch 45/100\n",
      "310/310 [==============================] - 3s 11ms/sample - loss: 1.8840 - acc: 0.1839 - val_loss: 1.8758 - val_acc: 0.1923\n",
      "Epoch 46/100\n",
      "310/310 [==============================] - 3s 10ms/sample - loss: 1.8744 - acc: 0.2161 - val_loss: 1.8753 - val_acc: 0.1923\n",
      "Epoch 47/100\n",
      "310/310 [==============================] - 3s 10ms/sample - loss: 1.8750 - acc: 0.2097 - val_loss: 1.8749 - val_acc: 0.1923\n",
      "Epoch 48/100\n",
      "310/310 [==============================] - 3s 10ms/sample - loss: 1.8808 - acc: 0.1903 - val_loss: 1.8743 - val_acc: 0.1923\n",
      "Epoch 49/100\n",
      "310/310 [==============================] - 3s 11ms/sample - loss: 1.8786 - acc: 0.2065 - val_loss: 1.8756 - val_acc: 0.1923\n",
      "Epoch 50/100\n",
      "310/310 [==============================] - 4s 12ms/sample - loss: 1.8702 - acc: 0.2097 - val_loss: 1.8755 - val_acc: 0.1923\n",
      "Epoch 51/100\n",
      "310/310 [==============================] - 3s 11ms/sample - loss: 1.8709 - acc: 0.2161 - val_loss: 1.8743 - val_acc: 0.1923\n",
      "Epoch 52/100\n",
      "310/310 [==============================] - 3s 11ms/sample - loss: 1.8537 - acc: 0.2258 - val_loss: 1.8760 - val_acc: 0.1923\n",
      "Epoch 53/100\n",
      "310/310 [==============================] - 3s 11ms/sample - loss: 1.8516 - acc: 0.2323 - val_loss: 1.8763 - val_acc: 0.1923\n",
      "Epoch 54/100\n",
      "310/310 [==============================] - 3s 11ms/sample - loss: 1.8740 - acc: 0.2065 - val_loss: 1.8761 - val_acc: 0.1923\n",
      "Epoch 55/100\n",
      "310/310 [==============================] - 3s 11ms/sample - loss: 1.8627 - acc: 0.2677 - val_loss: 1.8754 - val_acc: 0.1923\n",
      "Epoch 56/100\n",
      "310/310 [==============================] - 3s 10ms/sample - loss: 1.8549 - acc: 0.2452 - val_loss: 1.8770 - val_acc: 0.1923\n",
      "Epoch 57/100\n",
      "310/310 [==============================] - 3s 10ms/sample - loss: 1.8641 - acc: 0.2097 - val_loss: 1.8759 - val_acc: 0.1923\n",
      "Epoch 58/100\n",
      "310/310 [==============================] - 3s 10ms/sample - loss: 1.8799 - acc: 0.2484 - val_loss: 1.8783 - val_acc: 0.1923\n",
      "Epoch 59/100\n",
      "310/310 [==============================] - 3s 10ms/sample - loss: 1.8733 - acc: 0.2000 - val_loss: 1.8752 - val_acc: 0.1923\n",
      "Epoch 60/100\n",
      "310/310 [==============================] - 3s 11ms/sample - loss: 1.8718 - acc: 0.2000 - val_loss: 1.8759 - val_acc: 0.1923\n",
      "Epoch 61/100\n",
      "310/310 [==============================] - 3s 10ms/sample - loss: 1.8650 - acc: 0.2452 - val_loss: 1.8753 - val_acc: 0.1923\n",
      "Epoch 62/100\n",
      "310/310 [==============================] - 3s 11ms/sample - loss: 1.8722 - acc: 0.2290 - val_loss: 1.8751 - val_acc: 0.1923\n",
      "Epoch 63/100\n",
      "310/310 [==============================] - 3s 11ms/sample - loss: 1.8640 - acc: 0.2355 - val_loss: 1.8762 - val_acc: 0.1923\n",
      "Epoch 64/100\n",
      "310/310 [==============================] - 4s 12ms/sample - loss: 1.8727 - acc: 0.2129 - val_loss: 1.8757 - val_acc: 0.1923\n",
      "Epoch 65/100\n",
      "310/310 [==============================] - 3s 10ms/sample - loss: 1.8769 - acc: 0.2129 - val_loss: 1.8756 - val_acc: 0.1923\n",
      "Epoch 66/100\n",
      "310/310 [==============================] - 3s 10ms/sample - loss: 1.8678 - acc: 0.2258 - val_loss: 1.8759 - val_acc: 0.1923\n",
      "Epoch 67/100\n",
      "310/310 [==============================] - 3s 10ms/sample - loss: 1.8750 - acc: 0.2161 - val_loss: 1.8749 - val_acc: 0.1923\n",
      "Epoch 68/100\n",
      "310/310 [==============================] - 3s 10ms/sample - loss: 1.8666 - acc: 0.2323 - val_loss: 1.8772 - val_acc: 0.1923\n",
      "Epoch 69/100\n",
      "310/310 [==============================] - 3s 9ms/sample - loss: 1.8850 - acc: 0.2129 - val_loss: 1.8766 - val_acc: 0.1923\n",
      "Epoch 70/100\n",
      "310/310 [==============================] - 3s 10ms/sample - loss: 1.8732 - acc: 0.2129 - val_loss: 1.8751 - val_acc: 0.1923\n",
      "Epoch 71/100\n",
      "310/310 [==============================] - 3s 9ms/sample - loss: 1.8796 - acc: 0.2323 - val_loss: 1.8762 - val_acc: 0.1923\n",
      "Epoch 72/100\n",
      "310/310 [==============================] - 3s 9ms/sample - loss: 1.8718 - acc: 0.1839 - val_loss: 1.8761 - val_acc: 0.1923\n",
      "Epoch 73/100\n",
      "310/310 [==============================] - 3s 10ms/sample - loss: 1.8684 - acc: 0.2452 - val_loss: 1.8759 - val_acc: 0.1923\n",
      "Epoch 74/100\n",
      "310/310 [==============================] - 3s 10ms/sample - loss: 1.8669 - acc: 0.2161 - val_loss: 1.8755 - val_acc: 0.1923\n",
      "Epoch 75/100\n",
      "310/310 [==============================] - 3s 9ms/sample - loss: 1.8650 - acc: 0.2000 - val_loss: 1.8766 - val_acc: 0.1923\n",
      "Epoch 76/100\n",
      "310/310 [==============================] - 3s 10ms/sample - loss: 1.8712 - acc: 0.1871 - val_loss: 1.8769 - val_acc: 0.1923\n",
      "Epoch 77/100\n",
      "310/310 [==============================] - 3s 9ms/sample - loss: 1.8679 - acc: 0.1935 - val_loss: 1.8766 - val_acc: 0.1923\n",
      "Epoch 78/100\n",
      "310/310 [==============================] - 3s 10ms/sample - loss: 1.8687 - acc: 0.2161 - val_loss: 1.8762 - val_acc: 0.1923\n",
      "Epoch 79/100\n",
      "310/310 [==============================] - 3s 10ms/sample - loss: 1.8599 - acc: 0.2097 - val_loss: 1.8773 - val_acc: 0.1923\n",
      "Epoch 80/100\n",
      "310/310 [==============================] - 3s 10ms/sample - loss: 1.8781 - acc: 0.2161 - val_loss: 1.8744 - val_acc: 0.1923\n",
      "Epoch 81/100\n",
      "310/310 [==============================] - 3s 10ms/sample - loss: 1.8682 - acc: 0.2548 - val_loss: 1.8761 - val_acc: 0.1923\n",
      "Epoch 82/100\n",
      "310/310 [==============================] - 4s 12ms/sample - loss: 1.8767 - acc: 0.2097 - val_loss: 1.8745 - val_acc: 0.1923\n",
      "Epoch 83/100\n",
      "310/310 [==============================] - 3s 11ms/sample - loss: 1.8748 - acc: 0.2097 - val_loss: 1.8754 - val_acc: 0.1923\n",
      "Epoch 84/100\n",
      "310/310 [==============================] - 3s 9ms/sample - loss: 1.8615 - acc: 0.2452 - val_loss: 1.8756 - val_acc: 0.1923\n",
      "Epoch 85/100\n",
      "310/310 [==============================] - 3s 10ms/sample - loss: 1.8750 - acc: 0.2387 - val_loss: 1.8765 - val_acc: 0.1923\n",
      "Epoch 86/100\n",
      "310/310 [==============================] - 3s 9ms/sample - loss: 1.8573 - acc: 0.2548 - val_loss: 1.8761 - val_acc: 0.1923\n",
      "Epoch 87/100\n",
      "310/310 [==============================] - 3s 9ms/sample - loss: 1.8737 - acc: 0.2065 - val_loss: 1.8748 - val_acc: 0.1923\n",
      "Epoch 88/100\n",
      "310/310 [==============================] - 3s 9ms/sample - loss: 1.8761 - acc: 0.2581 - val_loss: 1.8764 - val_acc: 0.1923\n",
      "Epoch 89/100\n",
      "310/310 [==============================] - 3s 9ms/sample - loss: 1.8632 - acc: 0.2355 - val_loss: 1.8772 - val_acc: 0.1923\n",
      "Epoch 90/100\n",
      "310/310 [==============================] - 3s 10ms/sample - loss: 1.8697 - acc: 0.2258 - val_loss: 1.8755 - val_acc: 0.1923\n",
      "Epoch 91/100\n",
      "310/310 [==============================] - 3s 9ms/sample - loss: 1.8675 - acc: 0.2000 - val_loss: 1.8758 - val_acc: 0.1923\n",
      "Epoch 92/100\n",
      "310/310 [==============================] - 3s 9ms/sample - loss: 1.8620 - acc: 0.2226 - val_loss: 1.8758 - val_acc: 0.1923\n",
      "Epoch 93/100\n",
      "310/310 [==============================] - 3s 9ms/sample - loss: 1.8664 - acc: 0.2194 - val_loss: 1.8752 - val_acc: 0.1923\n",
      "Epoch 94/100\n",
      "310/310 [==============================] - 3s 9ms/sample - loss: 1.8677 - acc: 0.2290 - val_loss: 1.8767 - val_acc: 0.1923\n",
      "Epoch 95/100\n",
      "310/310 [==============================] - 3s 10ms/sample - loss: 1.8720 - acc: 0.2097 - val_loss: 1.8767 - val_acc: 0.1923\n",
      "Epoch 96/100\n",
      "310/310 [==============================] - 3s 10ms/sample - loss: 1.8647 - acc: 0.2258 - val_loss: 1.8760 - val_acc: 0.1923\n",
      "Epoch 97/100\n",
      "310/310 [==============================] - 3s 10ms/sample - loss: 1.8640 - acc: 0.2290 - val_loss: 1.8771 - val_acc: 0.1923\n",
      "Epoch 98/100\n",
      "310/310 [==============================] - 3s 9ms/sample - loss: 1.8704 - acc: 0.2194 - val_loss: 1.8759 - val_acc: 0.1923\n",
      "Epoch 99/100\n",
      "310/310 [==============================] - 3s 10ms/sample - loss: 1.8647 - acc: 0.2419 - val_loss: 1.8768 - val_acc: 0.1923\n",
      "Epoch 100/100\n",
      "310/310 [==============================] - 3s 9ms/sample - loss: 1.8766 - acc: 0.1968 - val_loss: 1.8757 - val_acc: 0.1923\n"
     ]
    }
   ],
   "source": [
    "# And we train the two last layers\n",
    "# This is classic fine tuning\n",
    "bdes_vm.model.train(X_bdes_train, Y_bdes_train, batch_size=10, validation_data=(X_bdes_test, Y_bdes_test), epoch=100)"
   ]
  },
  {
   "cell_type": "code",
   "execution_count": 34,
   "metadata": {
    "scrolled": true
   },
   "outputs": [
    {
     "name": "stdout",
     "output_type": "stream",
     "text": [
      "[[ 0  0 23  0  0]\n",
      " [ 0  0 15  0  0]\n",
      " [ 0  0 15  0  0]\n",
      " [ 0  0 10  0  0]\n",
      " [ 0  0 15  0  0]]\n",
      "              precision    recall  f1-score   support\n",
      "\n",
      "        calm       0.00      0.00      0.00        23\n",
      "       happy       0.00      0.00      0.00        15\n",
      "       angry       0.19      1.00      0.32        15\n",
      "     fearful       0.00      0.00      0.00        10\n",
      "         sad       0.00      0.00      0.00        15\n",
      "\n",
      "    accuracy                           0.19        78\n",
      "   macro avg       0.04      0.20      0.06        78\n",
      "weighted avg       0.04      0.19      0.06        78\n",
      "\n"
     ]
    },
    {
     "name": "stderr",
     "output_type": "stream",
     "text": [
      "/home/arc/fdp5/.local/lib/python3.6/site-packages/sklearn/metrics/_classification.py:1221: UndefinedMetricWarning: Precision and F-score are ill-defined and being set to 0.0 in labels with no predicted samples. Use `zero_division` parameter to control this behavior.\n",
      "  _warn_prf(average, modifier, msg_start, len(result))\n"
     ]
    }
   ],
   "source": [
    "print_metrics(bdes_vm, X_bdes_test, Y_bdes_test, emotion_list)"
   ]
  }
 ],
 "metadata": {
  "kernelspec": {
   "display_name": "Python 3",
   "language": "python",
   "name": "python3"
  },
  "language_info": {
   "codemirror_mode": {
    "name": "ipython",
    "version": 3
   },
   "file_extension": ".py",
   "mimetype": "text/x-python",
   "name": "python",
   "nbconvert_exporter": "python",
   "pygments_lexer": "ipython3",
   "version": "3.6.9"
  }
 },
 "nbformat": 4,
 "nbformat_minor": 4
}
